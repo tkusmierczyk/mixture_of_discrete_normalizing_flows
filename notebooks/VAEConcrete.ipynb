{
 "cells": [
  {
   "cell_type": "markdown",
   "metadata": {
    "colab_type": "text",
    "id": "YvryyD5UiqVT"
   },
   "source": [
    "# Categorical VAE with Gumbel-Softmax\n",
    "\n",
    "Partial implementation of the paper [Categorical Reparameterization with Gumbel-Softmax](https://arxiv.org/abs/1611.01144) "
   ]
  },
  {
   "cell_type": "markdown",
   "metadata": {},
   "source": [
    "Design of the VAE follows the implementation from https://github.com/ericjang/gumbel-softmax"
   ]
  },
  {
   "cell_type": "markdown",
   "metadata": {
    "colab_type": "text",
    "id": "5PUK6xQMiqVi"
   },
   "source": [
    "## Imports and Helper Functions"
   ]
  },
  {
   "cell_type": "code",
   "execution_count": 1,
   "metadata": {
    "colab": {},
    "colab_type": "code",
    "id": "Cf1nacIdiqVo"
   },
   "outputs": [],
   "source": [
    "import numpy as np\n",
    "import tensorflow as tf\n",
    "import tensorflow_probability as tfp\n",
    "from tensorflow_probability import distributions as tfpd\n",
    "import pandas as pd"
   ]
  },
  {
   "cell_type": "code",
   "execution_count": 2,
   "metadata": {
    "colab": {
     "base_uri": "https://localhost:8080/",
     "height": 35
    },
    "colab_type": "code",
    "id": "0w2iD0BMiqV3",
    "outputId": "a04ed99f-73b6-4646-f83b-44d86cc30ff2"
   },
   "outputs": [
    {
     "data": {
      "text/plain": [
       "('2.2.0', '0.9.0')"
      ]
     },
     "execution_count": 2,
     "metadata": {},
     "output_type": "execute_result"
    }
   ],
   "source": [
    "tf.__version__, tfp.__version__"
   ]
  },
  {
   "cell_type": "code",
   "execution_count": 3,
   "metadata": {},
   "outputs": [],
   "source": [
    "import sys\n",
    "sys.path.append('../mdnf')"
   ]
  },
  {
   "cell_type": "code",
   "execution_count": 4,
   "metadata": {},
   "outputs": [],
   "source": [
    "import aux\n",
    "import time\n",
    "import copy\n",
    "import sys"
   ]
  },
  {
   "cell_type": "markdown",
   "metadata": {},
   "source": [
    "## Configuration"
   ]
  },
  {
   "cell_type": "code",
   "execution_count": 5,
   "metadata": {},
   "outputs": [],
   "source": [
    "# can be run as a script with args in format KEY=VAL,KEY=[STRVAL],...\n",
    "args = aux.parse_script_args() "
   ]
  },
  {
   "cell_type": "code",
   "execution_count": 6,
   "metadata": {},
   "outputs": [],
   "source": [
    "SEED = args.get(\"SEED\", 0)\n",
    "OUT = args.get(\"OUT\", \"VAEConcrete.csv\")\n",
    "\n",
    "ST = bool(args.get(\"ST\", 0))\n",
    "LOSS = args.get(\"LOSS\", 0) # which of the objectives to use (see ALG_NAME below)\n",
    "N = args.get(\"N\", 10) # how many latent variables\n",
    "K = args.get(\"K\", 2) # how many categories each\n",
    "\n",
    "BASE_TEMP=args.get(\"BASE_TEMP\", 1.0) # initial temperature\n",
    "ANNEAL_RATE=args.get(\"ANNEAL_RATE\", 0.00003)\n",
    "MIN_TEMP=args.get(\"MIN_TEMP\", 0.5)\n",
    "PRIORS_TEMP=args.get(\"PRIORS_TEMP\", 1.0)\n",
    "\n",
    "OPTIMIZER = args.get(\"OPTIMIZER\", \"ADAM\")\n",
    "LR = args.get(\"LR\", 0.001)\n",
    "BATCH_SIZE=args.get(\"BATCH_SIZE\", 256) # how many samples in minibatch\n",
    "NUM_ITERS=args.get(\"NUM_ITERS\", 2) # how many epochs"
   ]
  },
  {
   "cell_type": "code",
   "execution_count": 7,
   "metadata": {},
   "outputs": [
    {
     "name": "stdout",
     "output_type": "stream",
     "text": [
      "CFG=['VAE_CONCRETE', 0, 'VAEConcrete.csv', False, 10, 2, 256, 100, 1.0, 1.0, 'ADAM', 0.001, 3e-05, 0.5]\n"
     ]
    }
   ],
   "source": [
    "ALG_NAME = {0: \"VAE_CONCRETE\", \n",
    "            1: \"VAE_CONCRETE_MADDISON21\", \n",
    "            2: \"VAE_CONCRETE_MADDISON22_JANG2\", \n",
    "            3: \"VAE_CONCRETE_JANG\",\n",
    "            4: \"VAE_CONCRETE_CATPRIORS\"}[LOSS]\n",
    "CFG = [ALG_NAME, SEED, OUT, ST, N, K, BATCH_SIZE, NUM_ITERS, \n",
    "       BASE_TEMP, PRIORS_TEMP, OPTIMIZER, LR, ANNEAL_RATE, MIN_TEMP]\n",
    "print(\"CFG=%s\" % CFG)"
   ]
  },
  {
   "cell_type": "markdown",
   "metadata": {
    "colab_type": "text",
    "id": "K18in8SZiqWQ"
   },
   "source": [
    "## Straight-Through"
   ]
  },
  {
   "cell_type": "code",
   "execution_count": 8,
   "metadata": {
    "colab": {},
    "colab_type": "code",
    "id": "G5HV9VIGiqWT"
   },
   "outputs": [],
   "source": [
    "@tf.function       \n",
    "def straight_through_sample(y, hard=True):\n",
    "  \"\"\"\n",
    "  Args:\n",
    "    y: [..., n_class] one-hot sample from the Gumbel-Softmax distribution. \n",
    "    hard: if True, take argmax, but differentiate w.r.t. soft sample y\n",
    "  Returns:\n",
    "    If hard=True, then the returned sample y will be one-hot, otherwise it will\n",
    "    be a probabilitiy distribution that sums to 1 across classes\n",
    "  \"\"\"\n",
    "  if hard:\n",
    "    K = y.shape[-1]\n",
    "    y_hard = tf.cast(tf.one_hot(tf.argmax(y,-1), K), y.dtype)\n",
    "    y = tf.stop_gradient(y_hard - y) + y  \n",
    "  return y"
   ]
  },
  {
   "cell_type": "markdown",
   "metadata": {
    "colab_type": "text",
    "id": "zXgNCssWiqWd"
   },
   "source": [
    "## Model"
   ]
  },
  {
   "cell_type": "code",
   "execution_count": 9,
   "metadata": {
    "colab": {},
    "colab_type": "code",
    "id": "U8bqeCYViqWg"
   },
   "outputs": [],
   "source": [
    "class CategoricalVAE(tf.Module):\n",
    "\n",
    "    def __init__(self, N, K, hard=False, name=None):\n",
    "        \"\"\"\n",
    "        \n",
    "            Args:\n",
    "                N: number of variables\n",
    "                K: number of categories for each variable\n",
    "                hard: set hard=True for ST Gumbel-Softmax \n",
    "        \"\"\"\n",
    "        super(CategoricalVAE, self).__init__(name=name)\n",
    "\n",
    "        self.N = N # number of categorical distributions\n",
    "        self.K = K # number of classes\n",
    "        self.hard = hard # set hard=True for ST Gumbel-Softmax \n",
    "\n",
    "        self.calc_logits_y = tf.keras.Sequential([ # encoder\n",
    "                                             tf.keras.layers.Flatten(name=\"encoder0\"),\n",
    "                                             tf.keras.layers.Dense(512, activation=\"relu\", \n",
    "                                                                   input_shape=(None, 784), name=\"encoder1\"),\n",
    "                                             tf.keras.layers.Dense(256, activation=\"relu\", name=\"encoder2\"),\n",
    "                                             tf.keras.layers.Dense(K*N, activation=None, name=\"encoder3\"),\n",
    "                                             tf.keras.layers.Reshape( [N,K] , name=\"encoder4\")\n",
    "                                            ], name=\"encoder\")\n",
    "\n",
    "        self.calc_logits_x = tf.keras.Sequential( # decoder\n",
    "                                            [tf.keras.layers.Flatten(name=\"decoder0\"),\n",
    "                                             tf.keras.layers.Dense(256, activation=\"relu\", name=\"decoder1\"),\n",
    "                                             tf.keras.layers.Dense(512, activation=\"relu\", name=\"decoder2\"),\n",
    "                                             tf.keras.layers.Dense(784, activation=None, name=\"decoder3\"),\n",
    "                                            ], name=\"decoder\") \n",
    "         \n",
    "    #@tf.function\n",
    "    def __call__(self, x, temperature=5.0):\n",
    "        tau = tf.constant(temperature, name=\"temperature\", dtype=tf.float32)                        \n",
    "        \n",
    "        # variational posterior q(y|x), i.e. the encoder \n",
    "        # unnormalized logits for N separate K-categorical distributions (shape=(batch_size,N,K))\n",
    "        logits_y = self.calc_logits_y(x)\n",
    "        q_y = tfpd.RelaxedOneHotCategorical(tau, logits=logits_y)\n",
    "        y = q_y.sample()\n",
    "        y = straight_through_sample(y, self.hard) # set hard=True for ST Gumbel-Softmax\n",
    "\n",
    "        # generative model p(x|y)\n",
    "        logits_x = self.calc_logits_x(y)    \n",
    "        p_x = tfpd.Bernoulli(logits=logits_x)\n",
    "        \n",
    "        return p_x, q_y, y, logits_y"
   ]
  },
  {
   "cell_type": "markdown",
   "metadata": {
    "colab_type": "text",
    "collapsed": true,
    "id": "2AC1b8njiqWy"
   },
   "source": [
    "## Train"
   ]
  },
  {
   "cell_type": "code",
   "execution_count": 10,
   "metadata": {
    "colab": {},
    "colab_type": "code",
    "id": "S0K0W_U7iqW9"
   },
   "outputs": [],
   "source": [
    "# get data\n",
    "(x_train, y_train), (x_test, y_test) = tf.keras.datasets.mnist.load_data(path='mnist.npz')\n",
    "frmt = lambda images: tf.cast(tf.reshape(images,(-1, 784)), tf.float32)/255.0\n",
    "x_train, x_test = frmt(x_train), frmt(x_test)\n",
    "\n",
    "train_ds = tf.data.Dataset.from_tensor_slices((x_train, y_train)).batch(BATCH_SIZE)\n",
    "test_ds = tf.data.Dataset.from_tensor_slices((x_test, y_test)).batch(BATCH_SIZE)"
   ]
  },
  {
   "cell_type": "code",
   "execution_count": 11,
   "metadata": {
    "colab": {},
    "colab_type": "code",
    "id": "l8qA4dnZiqXP"
   },
   "outputs": [
    {
     "name": "stdout",
     "output_type": "stream",
     "text": [
      "optimizer=<tensorflow.python.keras.optimizer_v2.adam.Adam object at 0x7f83289f4a00> lr=0.001\n"
     ]
    }
   ],
   "source": [
    "OPTIMIZERS = {\"RMS\": tf.keras.optimizers.RMSprop,\n",
    "              \"ADAM\": tf.keras.optimizers.Adam}\n",
    "if OPTIMIZER not in OPTIMIZERS: raise ValueError(\"Unknown optimizer!\")\n",
    "optimizer_class = OPTIMIZERS[OPTIMIZER]\n",
    "optimizer = optimizer_class(learning_rate=LR)\n",
    "\n",
    "print(\"optimizer=%s lr=%s\" % (optimizer, LR))"
   ]
  },
  {
   "cell_type": "code",
   "execution_count": 13,
   "metadata": {
    "colab": {},
    "colab_type": "code",
    "id": "4pMxT6Q82gag"
   },
   "outputs": [],
   "source": [
    "def loss_relaxed_priors(x, p_x, q_y, y, *args, **kwargs): \n",
    "    \"\"\" For KL uses Monte Carlo KL with relaxed (concrete) prior. \n",
    "        The only variant resulting in a valid lower bound!\n",
    "    \n",
    "        The same as in (variant 1)\n",
    "        https://github.com/ericjang/gumbel-softmax/blob/master/gumbel_softmax_vae_v2.ipynb\n",
    "    \"\"\"\n",
    "    (batch_size, N), K = q_y.batch_shape, q_y.event_shape[0]\n",
    "    \n",
    "    #tau = q_y.temperature # use the same temperature for prior as for posterior \n",
    "    tau = PRIORS_TEMP\n",
    "    logits_py = tf.ones_like(q_y.logits) * 1./K  #logits_py = tf.ones_like(logits_y) * 1./K\n",
    "    p_y = tfpd.RelaxedOneHotCategorical(tau, logits=logits_py) # compare to Relaxed (concrete)\n",
    "\n",
    "    KL_qp = q_y.log_prob(y+1e-20) - p_y.log_prob(y+1e-20) #MC estimate\n",
    "    KL = tf.reduce_sum(KL_qp, 1)\n",
    "\n",
    "    elbo = tf.reduce_sum(p_x.log_prob(x), 1) - KL        \n",
    "    return tf.reduce_mean(-elbo) "
   ]
  },
  {
   "cell_type": "code",
   "execution_count": 14,
   "metadata": {},
   "outputs": [],
   "source": [
    "def loss_categorical_categorical_mc(x, p_x, q_y, y, *args, **kwargs):\n",
    "    \"\"\" For KL uses MC KL with Categorical priors and converts q_y to categorical. \n",
    "    \n",
    "        Described by Maddison et al. in Eq (21) in Appendix C.2\n",
    "    \"\"\"    \n",
    "    (batch_size, N), K = q_y.batch_shape, q_y.event_shape[0]\n",
    "\n",
    "    logits_py = tf.ones_like(q_y.logits) * 1./K  \n",
    "    p_cat_y = tfpd.OneHotCategorical(logits=logits_py) # compare to categorical\n",
    "    q_cat_y = tfpd.OneHotCategorical(logits=q_y.logits)\n",
    "    KL_qp = q_cat_y.log_prob(y+1e-20)-p_cat_y.log_prob(y+1e-20)\n",
    "    KL = tf.reduce_sum(KL_qp, 1)\n",
    "\n",
    "    elbo = tf.reduce_sum(p_x.log_prob(x), 1) - KL        \n",
    "    return tf.reduce_mean(-elbo)"
   ]
  },
  {
   "cell_type": "code",
   "execution_count": 15,
   "metadata": {},
   "outputs": [],
   "source": [
    "def loss_categorical_categorical(x, p_x, q_y, y, *args, **kwargs):\n",
    "    \"\"\" For KL uses analytical KL with Categorical priors and converts q_y to categorical. \n",
    "    \n",
    "        Described by Maddison et al. in Eq (22) in Appendix C.2\n",
    "        The same as in (variant 2)\n",
    "        https://github.com/ericjang/gumbel-softmax/blob/master/gumbel_softmax_vae_v2.ipynb\n",
    "    \"\"\"    \n",
    "    (batch_size, N), K = q_y.batch_shape, q_y.event_shape[0]\n",
    "\n",
    "    #logits_py = tf.ones_like(logits_y) * 1./K\n",
    "    #p_cat_y = OneHotCategorical(logits=logits_py)\n",
    "    #q_cat_y = OneHotCategorical(logits=logits_y)\n",
    "    #KL_qp = tf.contrib.distributions.kl(q_cat_y, p_cat_y)    \n",
    "    #KL = tf.reduce_sum(KL_qp,1)\n",
    "    \n",
    "    logits_py = tf.ones_like(q_y.logits) * 1./K  \n",
    "    p_cat_y = tfpd.OneHotCategorical(logits=logits_py) # compare to categorical\n",
    "    q_cat_y = tfpd.OneHotCategorical(logits=q_y.logits)\n",
    "    KL_qp = tfpd.kl_divergence(q_cat_y, p_cat_y)\n",
    "    KL = tf.reduce_sum(KL_qp, 1)\n",
    "\n",
    "    elbo = tf.reduce_sum(p_x.log_prob(x), 1) - KL        \n",
    "    return tf.reduce_mean(-elbo)"
   ]
  },
  {
   "cell_type": "code",
   "execution_count": 16,
   "metadata": {},
   "outputs": [],
   "source": [
    "def loss_Jang(x, p_x, q_y, y, logits_y, *args, **kwargs):\n",
    "    \"\"\" For KL uses relaxed q and categorical priors.\n",
    "    \n",
    "        Following the loss used from the original implementation by Jang et al.:\n",
    "        https://github.com/ericjang/gumbel-softmax/blob/master/Categorical%20VAE.ipynb\n",
    "    \"\"\"\n",
    "    (batch_size, N), K = q_y.batch_shape, q_y.event_shape[0]\n",
    "\n",
    "    q_y = tf.nn.softmax(logits_y) #q_y = tf.nn.softmax(logits_y)\n",
    "    log_q_y = tf.math.log(q_y+1e-20) #log_q_y = tf.log(q_y+1e-20)       \n",
    "    \n",
    "    #kl_tmp = tf.reshape(q_y*(log_q_y-tf.log(1.0/K)),[-1,N,K])\n",
    "    #KL = tf.reduce_sum(kl_tmp,[1,2])\n",
    "    kl_tmp = tf.reshape(q_y*(log_q_y-tf.math.log(1.0/K)),[-1,N,K])\n",
    "    KL = tf.reduce_sum(kl_tmp, [1,2])\n",
    "\n",
    "    elbo = tf.reduce_sum(p_x.log_prob(x), 1) - KL \n",
    "    raise Exception(\"For Jang's loss use the low level implementation in VAEConcreteLowLevel!\")\n",
    "    return tf.reduce_mean(-elbo)"
   ]
  },
  {
   "cell_type": "code",
   "execution_count": 17,
   "metadata": {},
   "outputs": [],
   "source": [
    "def loss_categorical_priors_mc(x, p_x, q_y, y, *args, **kwargs):\n",
    "    \"\"\" For KL uses Monte Carlo KL with Categorical prior and relaxed q. \n",
    "    \"\"\"    \n",
    "    (batch_size, N), K = q_y.batch_shape, q_y.event_shape[0]\n",
    "\n",
    "    logits_py = tf.ones_like(q_y.logits) * 1./K  \n",
    "    p_cat_y = tfpd.OneHotCategorical(logits=logits_py) # compare to categorical\n",
    "\n",
    "    KL = tf.reduce_sum(q_y.log_prob(y)-p_cat_y.log_prob(y), 1)\n",
    "\n",
    "    elbo = tf.reduce_sum(p_x.log_prob(x), 1) - KL        \n",
    "    return tf.reduce_mean(-elbo)"
   ]
  },
  {
   "cell_type": "code",
   "execution_count": 18,
   "metadata": {},
   "outputs": [],
   "source": [
    "def true_loss(x, p_x, q_y, nsamples=1000, *args):\n",
    "    (batch_size, N), K = q_y.batch_shape, q_y.event_shape[0]\n",
    "    \n",
    "    py = tf.reduce_mean(straight_through_sample(q_y.sample(nsamples)), 0)\n",
    "    H_q = -tf.reduce_sum(py*np.log(py+1e-16), [-1,-2]) # sum over categories and then over independent variables\n",
    "\n",
    "    #Eq_logp = np.sum(np.sum(np.ones((batch_size,N,K))*np.log(0.5), -1), -1)\n",
    "    Eq_logp = np.sum(np.mean(np.ones((batch_size,N,K))*np.log(1/K), -1), -1)\n",
    "\n",
    "    KL = -Eq_logp -H_q\n",
    "    lik = tf.reduce_sum(p_x.log_prob(x), -1)\n",
    "    return float(-tf.reduce_mean(lik)+tf.reduce_mean(KL))"
   ]
  },
  {
   "cell_type": "code",
   "execution_count": 19,
   "metadata": {},
   "outputs": [],
   "source": [
    "np.random.seed(SEED)\n",
    "tf.random.set_seed(SEED)"
   ]
  },
  {
   "cell_type": "code",
   "execution_count": 20,
   "metadata": {
    "colab": {},
    "colab_type": "code",
    "id": "tloGJnJpf6aa"
   },
   "outputs": [],
   "source": [
    "vae = CategoricalVAE(N=N, K=K, hard=ST)\n",
    "results = []\n",
    "best_loss, best_vae = float(\"inf\"), None\n",
    "start = time.time()\n",
    "i = 0\n",
    "np_temp=BASE_TEMP"
   ]
  },
  {
   "cell_type": "code",
   "execution_count": 21,
   "metadata": {},
   "outputs": [
    {
     "name": "stdout",
     "output_type": "stream",
     "text": [
      "loss = <function loss_relaxed_priors at 0x7f83289ed700>\n"
     ]
    }
   ],
   "source": [
    "loss = {\n",
    "        0: loss_relaxed_priors, \n",
    "        1: loss_categorical_categorical_mc, \n",
    "        2: loss_categorical_categorical, \n",
    "        3: loss_Jang,\n",
    "        4: loss_categorical_priors_mc,\n",
    "}[LOSS]\n",
    "print(\"loss = %s\" % loss)"
   ]
  },
  {
   "cell_type": "code",
   "execution_count": 22,
   "metadata": {
    "colab": {
     "base_uri": "https://localhost:8080/",
     "height": 1000
    },
    "colab_type": "code",
    "id": "-bi8Uc8iiqXV",
    "outputId": "29b7c1df-8a26-45e7-fe1b-8d89084c54dc"
   },
   "outputs": [
    {
     "name": "stdout",
     "output_type": "stream",
     "text": [
      "[0.5s] epoch=0/iteration=1 loss=545.00 ELBO=-544.98\n",
      "[0.6s] epoch=0/iteration=2 loss=535.26 ELBO=-535.04\n",
      "[0.8s] epoch=0/iteration=3 loss=524.28 ELBO=-524.12\n",
      "[0.9s] epoch=0/iteration=4 loss=510.84 ELBO=-510.48\n",
      "[1.0s] epoch=0/iteration=5 loss=493.42 ELBO=-492.73\n",
      "[1.2s] epoch=0/iteration=6 loss=472.72 ELBO=-470.60\n",
      "[1.3s] epoch=0/iteration=7 loss=443.24 ELBO=-440.92\n",
      "[1.4s] epoch=0/iteration=8 loss=415.89 ELBO=-410.10\n",
      "[1.6s] epoch=0/iteration=9 loss=383.06 ELBO=-376.69\n",
      "[14.0s] epoch=0/iteration=100 loss=196.88 ELBO=-195.48\n",
      "[27.9s] epoch=0/iteration=200 loss=191.39 ELBO=-189.98\n",
      "[32.8s] 0. l=211.13 (best=211.13) ELBO=-209.73 t=1.00\n",
      "Saving to VAEConcrete.csv\n",
      "[41.8s] epoch=1/iteration=300 loss=170.58 ELBO=-166.06\n",
      "[55.7s] epoch=1/iteration=400 loss=166.11 ELBO=-159.08\n",
      "[65.6s] 1. l=173.84 (best=173.84) ELBO=-168.59 t=1.00\n",
      "Saving to VAEConcrete.csv\n",
      "[69.9s] epoch=2/iteration=500 loss=159.31 ELBO=-152.78\n",
      "[84.2s] epoch=2/iteration=600 loss=161.68 ELBO=-152.77\n",
      "[98.5s] epoch=2/iteration=700 loss=151.54 ELBO=-144.35\n",
      "[99.2s] 2. l=159.04 (best=159.04) ELBO=-150.99 t=1.00\n",
      "Saving to VAEConcrete.csv\n",
      "[112.6s] epoch=3/iteration=800 loss=148.80 ELBO=-140.00\n",
      "[126.5s] epoch=3/iteration=900 loss=154.59 ELBO=-145.75\n",
      "[132.0s] 3. l=154.21 (best=154.21) ELBO=-145.21 t=1.00\n",
      "Saving to VAEConcrete.csv\n",
      "[140.4s] epoch=4/iteration=1000 loss=151.35 ELBO=-143.48\n",
      "[154.2s] epoch=4/iteration=1100 loss=146.61 ELBO=-136.97\n",
      "[164.9s] 4. l=152.20 (best=152.20) ELBO=-142.51 t=0.97\n",
      "Saving to VAEConcrete.csv\n",
      "[168.5s] epoch=5/iteration=1200 loss=152.73 ELBO=-142.01\n",
      "[182.6s] epoch=5/iteration=1300 loss=149.22 ELBO=-139.17\n",
      "[196.6s] epoch=5/iteration=1400 loss=151.96 ELBO=-141.39\n",
      "[198.0s] 5. l=150.88 (best=150.88) ELBO=-140.70 t=0.97\n",
      "Saving to VAEConcrete.csv\n",
      "[211.1s] epoch=6/iteration=1500 loss=152.16 ELBO=-141.43\n",
      "[225.3s] epoch=6/iteration=1600 loss=153.25 ELBO=-142.18\n",
      "[231.8s] 6. l=149.57 (best=149.57) ELBO=-139.10 t=0.97\n",
      "Saving to VAEConcrete.csv\n",
      "[239.8s] epoch=7/iteration=1700 loss=154.00 ELBO=-143.13\n",
      "[254.5s] epoch=7/iteration=1800 loss=148.05 ELBO=-137.34\n",
      "[266.0s] 7. l=148.43 (best=148.43) ELBO=-137.77 t=0.97\n",
      "Saving to VAEConcrete.csv\n",
      "[269.0s] epoch=8/iteration=1900 loss=146.51 ELBO=-135.36\n",
      "[283.3s] epoch=8/iteration=2000 loss=147.84 ELBO=-138.66\n",
      "[297.9s] epoch=8/iteration=2100 loss=147.52 ELBO=-136.48\n",
      "[300.0s] 8. l=148.07 (best=148.07) ELBO=-136.95 t=0.94\n",
      "Saving to VAEConcrete.csv\n",
      "[312.5s] epoch=9/iteration=2200 loss=142.68 ELBO=-131.67\n",
      "[326.7s] epoch=9/iteration=2300 loss=144.49 ELBO=-133.64\n",
      "[333.7s] 9. l=147.68 (best=147.68) ELBO=-136.17 t=0.94\n",
      "Saving to VAEConcrete.csv\n",
      "[341.1s] epoch=10/iteration=2400 loss=155.71 ELBO=-143.85\n",
      "[355.0s] epoch=10/iteration=2500 loss=148.63 ELBO=-136.37\n",
      "[366.8s] 10. l=147.03 (best=147.03) ELBO=-135.37 t=0.94\n",
      "Saving to VAEConcrete.csv\n",
      "[368.9s] epoch=11/iteration=2600 loss=153.76 ELBO=-141.36\n",
      "[383.0s] epoch=11/iteration=2700 loss=148.54 ELBO=-136.08\n",
      "[396.8s] epoch=11/iteration=2800 loss=149.03 ELBO=-137.00\n",
      "[399.5s] 11. l=146.40 (best=146.40) ELBO=-134.56 t=0.94\n",
      "Saving to VAEConcrete.csv\n",
      "[410.8s] epoch=12/iteration=2900 loss=143.59 ELBO=-131.22\n",
      "[424.6s] epoch=12/iteration=3000 loss=148.24 ELBO=-137.77\n",
      "[432.3s] 12. l=146.28 (best=146.28) ELBO=-134.27 t=0.91\n",
      "Saving to VAEConcrete.csv\n",
      "[438.7s] epoch=13/iteration=3100 loss=141.38 ELBO=-128.24\n",
      "[453.1s] epoch=13/iteration=3200 loss=145.98 ELBO=-134.36\n",
      "[466.2s] 13. l=146.41 (best=146.28) ELBO=-134.03 t=0.91\n",
      "Saving to VAEConcrete.csv\n",
      "[467.7s] epoch=14/iteration=3300 loss=144.69 ELBO=-131.47\n",
      "[482.1s] epoch=14/iteration=3400 loss=140.09 ELBO=-127.21\n",
      "[496.5s] epoch=14/iteration=3500 loss=146.50 ELBO=-135.23\n",
      "[500.3s] 14. l=145.88 (best=145.88) ELBO=-133.35 t=0.91\n",
      "Saving to VAEConcrete.csv\n",
      "[511.1s] epoch=15/iteration=3600 loss=139.70 ELBO=-126.94\n",
      "[525.2s] epoch=15/iteration=3700 loss=141.69 ELBO=-129.25\n",
      "[533.7s] 15. l=145.66 (best=145.66) ELBO=-133.13 t=0.91\n",
      "Saving to VAEConcrete.csv\n",
      "[539.5s] epoch=16/iteration=3800 loss=144.51 ELBO=-131.03\n",
      "[553.9s] epoch=16/iteration=3900 loss=143.38 ELBO=-130.62\n",
      "[567.6s] 16. l=145.24 (best=145.24) ELBO=-132.57 t=0.91\n",
      "Saving to VAEConcrete.csv\n",
      "[568.5s] epoch=17/iteration=4000 loss=149.07 ELBO=-136.98\n",
      "[583.4s] epoch=17/iteration=4100 loss=146.69 ELBO=-134.38\n",
      "[598.0s] epoch=17/iteration=4200 loss=140.27 ELBO=-127.88\n",
      "[602.2s] 17. l=145.89 (best=145.24) ELBO=-132.72 t=0.89\n",
      "Saving to VAEConcrete.csv\n",
      "[612.5s] epoch=18/iteration=4300 loss=141.43 ELBO=-129.61\n",
      "[627.5s] epoch=18/iteration=4400 loss=140.62 ELBO=-126.71\n",
      "[637.2s] 18. l=145.70 (best=145.24) ELBO=-132.46 t=0.89\n",
      "Saving to VAEConcrete.csv\n",
      "[642.4s] epoch=19/iteration=4500 loss=144.52 ELBO=-131.32\n",
      "[657.0s] epoch=19/iteration=4600 loss=147.99 ELBO=-134.62\n",
      "[671.4s] epoch=19/iteration=4700 loss=148.22 ELBO=-134.77\n",
      "[671.4s] 19. l=145.30 (best=145.24) ELBO=-131.99 t=0.89\n",
      "Saving to VAEConcrete.csv\n",
      "[686.0s] epoch=20/iteration=4800 loss=139.96 ELBO=-126.48\n",
      "[700.3s] epoch=20/iteration=4900 loss=141.72 ELBO=-128.74\n",
      "[705.2s] 20. l=145.11 (best=145.11) ELBO=-131.67 t=0.89\n",
      "Saving to VAEConcrete.csv\n",
      "[714.7s] epoch=21/iteration=5000 loss=140.25 ELBO=-127.57\n",
      "[729.1s] epoch=21/iteration=5100 loss=141.59 ELBO=-127.58\n",
      "[739.2s] 21. l=145.44 (best=145.11) ELBO=-131.64 t=0.86\n",
      "Saving to VAEConcrete.csv\n",
      "[743.7s] epoch=22/iteration=5200 loss=141.44 ELBO=-128.03\n",
      "[758.1s] epoch=22/iteration=5300 loss=147.46 ELBO=-132.69\n",
      "[772.5s] epoch=22/iteration=5400 loss=142.65 ELBO=-130.17\n",
      "[773.2s] 22. l=145.60 (best=145.11) ELBO=-131.60 t=0.86\n",
      "Saving to VAEConcrete.csv\n",
      "[787.1s] epoch=23/iteration=5500 loss=138.66 ELBO=-124.31\n",
      "[801.2s] epoch=23/iteration=5600 loss=145.71 ELBO=-131.48\n",
      "[807.1s] 23. l=145.38 (best=145.11) ELBO=-131.29 t=0.86\n",
      "Saving to VAEConcrete.csv\n",
      "[815.8s] epoch=24/iteration=5700 loss=145.76 ELBO=-132.18\n",
      "[830.2s] epoch=24/iteration=5800 loss=142.25 ELBO=-128.38\n",
      "[840.9s] 24. l=145.06 (best=145.06) ELBO=-130.89 t=0.86\n",
      "Saving to VAEConcrete.csv\n",
      "[844.6s] epoch=25/iteration=5900 loss=141.14 ELBO=-126.36\n",
      "[859.4s] epoch=25/iteration=6000 loss=143.54 ELBO=-129.71\n",
      "[873.6s] epoch=25/iteration=6100 loss=146.32 ELBO=-130.69\n",
      "[875.0s] 25. l=145.18 (best=145.06) ELBO=-130.86 t=0.84\n",
      "Saving to VAEConcrete.csv\n",
      "[888.3s] epoch=26/iteration=6200 loss=145.65 ELBO=-130.54\n",
      "[901.8s] epoch=26/iteration=6300 loss=150.15 ELBO=-135.36\n",
      "[907.9s] 26. l=145.65 (best=145.06) ELBO=-131.02 t=0.84\n",
      "Saving to VAEConcrete.csv\n",
      "[915.4s] epoch=27/iteration=6400 loss=151.65 ELBO=-137.76\n",
      "[929.1s] epoch=27/iteration=6500 loss=143.30 ELBO=-128.53\n",
      "[939.8s] 27. l=145.33 (best=145.06) ELBO=-130.63 t=0.84\n",
      "Saving to VAEConcrete.csv\n",
      "[942.6s] epoch=28/iteration=6600 loss=146.28 ELBO=-132.07\n",
      "[956.2s] epoch=28/iteration=6700 loss=144.79 ELBO=-131.03\n",
      "[969.6s] epoch=28/iteration=6800 loss=145.86 ELBO=-130.65\n",
      "[971.6s] 28. l=145.12 (best=145.06) ELBO=-130.37 t=0.84\n",
      "Saving to VAEConcrete.csv\n",
      "[983.6s] epoch=29/iteration=6900 loss=140.29 ELBO=-126.27\n",
      "[997.2s] epoch=29/iteration=7000 loss=141.35 ELBO=-127.90\n",
      "[1003.8s] 29. l=145.24 (best=145.06) ELBO=-130.24 t=0.81\n",
      "Saving to VAEConcrete.csv\n",
      "[1010.6s] epoch=30/iteration=7100 loss=154.65 ELBO=-139.44\n",
      "[1024.2s] epoch=30/iteration=7200 loss=146.27 ELBO=-131.11\n",
      "[1035.6s] 30. l=145.74 (best=145.06) ELBO=-130.38 t=0.81\n",
      "Saving to VAEConcrete.csv\n",
      "[1037.7s] epoch=31/iteration=7300 loss=151.84 ELBO=-136.74\n",
      "[1051.1s] epoch=31/iteration=7400 loss=148.18 ELBO=-132.54\n",
      "[1064.5s] epoch=31/iteration=7500 loss=149.15 ELBO=-133.10\n",
      "[1067.2s] 31. l=145.72 (best=145.06) ELBO=-130.31 t=0.81\n",
      "Saving to VAEConcrete.csv\n",
      "[1078.1s] epoch=32/iteration=7600 loss=141.30 ELBO=-125.05\n",
      "[1091.5s] epoch=32/iteration=7700 loss=147.72 ELBO=-134.47\n",
      "[1099.0s] 32. l=145.50 (best=145.06) ELBO=-130.02 t=0.81\n",
      "Saving to VAEConcrete.csv\n",
      "[1105.4s] epoch=33/iteration=7800 loss=139.39 ELBO=-124.08\n",
      "[1118.9s] epoch=33/iteration=7900 loss=145.72 ELBO=-130.38\n",
      "[1131.0s] 33. l=145.27 (best=145.06) ELBO=-129.73 t=0.81\n",
      "Saving to VAEConcrete.csv\n",
      "[1132.4s] epoch=34/iteration=8000 loss=143.07 ELBO=-128.00\n",
      "[1146.0s] epoch=34/iteration=8100 loss=139.31 ELBO=-122.71\n",
      "[1159.4s] epoch=34/iteration=8200 loss=146.40 ELBO=-131.75\n",
      "[1162.7s] 34. l=146.08 (best=145.06) ELBO=-130.08 t=0.79\n",
      "Saving to VAEConcrete.csv\n",
      "[1173.0s] epoch=35/iteration=8300 loss=142.69 ELBO=-127.84\n",
      "[1186.4s] epoch=35/iteration=8400 loss=142.81 ELBO=-125.95\n",
      "[1194.4s] 35. l=145.92 (best=145.06) ELBO=-129.81 t=0.79\n"
     ]
    },
    {
     "name": "stdout",
     "output_type": "stream",
     "text": [
      "Saving to VAEConcrete.csv\n",
      "[1199.9s] epoch=36/iteration=8500 loss=147.69 ELBO=-130.64\n",
      "[1214.2s] epoch=36/iteration=8600 loss=144.16 ELBO=-128.14\n",
      "[1227.5s] 36. l=145.83 (best=145.06) ELBO=-129.66 t=0.79\n",
      "Saving to VAEConcrete.csv\n",
      "[1228.2s] epoch=37/iteration=8700 loss=148.10 ELBO=-132.00\n",
      "[1241.8s] epoch=37/iteration=8800 loss=144.77 ELBO=-128.75\n",
      "[1255.2s] epoch=37/iteration=8900 loss=137.69 ELBO=-121.97\n",
      "[1259.1s] 37. l=145.59 (best=145.06) ELBO=-129.37 t=0.79\n",
      "Saving to VAEConcrete.csv\n",
      "[1269.0s] epoch=38/iteration=9000 loss=138.65 ELBO=-123.88\n",
      "[1282.7s] epoch=38/iteration=9100 loss=144.62 ELBO=-127.72\n",
      "[1291.4s] 38. l=145.99 (best=145.06) ELBO=-129.46 t=0.76\n",
      "Saving to VAEConcrete.csv\n",
      "[1296.2s] epoch=39/iteration=9200 loss=145.67 ELBO=-129.62\n",
      "[1309.7s] epoch=39/iteration=9300 loss=147.80 ELBO=-131.11\n",
      "[1323.2s] epoch=39/iteration=9400 loss=145.14 ELBO=-126.48\n",
      "[1323.2s] 39. l=146.35 (best=145.06) ELBO=-129.53 t=0.76\n",
      "Saving to VAEConcrete.csv\n",
      "[1337.0s] epoch=40/iteration=9500 loss=142.17 ELBO=-125.49\n",
      "[1350.7s] epoch=40/iteration=9600 loss=141.17 ELBO=-124.31\n",
      "[1355.4s] 40. l=146.24 (best=145.06) ELBO=-129.38 t=0.76\n",
      "Saving to VAEConcrete.csv\n",
      "[1364.3s] epoch=41/iteration=9700 loss=141.51 ELBO=-125.42\n",
      "[1377.8s] epoch=41/iteration=9800 loss=144.17 ELBO=-126.49\n",
      "[1387.3s] 41. l=146.08 (best=145.06) ELBO=-129.14 t=0.76\n",
      "Saving to VAEConcrete.csv\n",
      "[1391.5s] epoch=42/iteration=9900 loss=143.44 ELBO=-127.18\n",
      "[1405.1s] epoch=42/iteration=10000 loss=146.95 ELBO=-128.41\n",
      "[1418.8s] epoch=42/iteration=10100 loss=143.87 ELBO=-128.33\n",
      "[1419.4s] 42. l=146.36 (best=145.06) ELBO=-129.13 t=0.74\n",
      "Saving to VAEConcrete.csv\n",
      "[1432.4s] epoch=43/iteration=10200 loss=142.15 ELBO=-126.40\n",
      "[1445.9s] epoch=43/iteration=10300 loss=148.72 ELBO=-131.63\n",
      "[1451.2s] 43. l=146.96 (best=145.06) ELBO=-129.37 t=0.74\n",
      "Saving to VAEConcrete.csv\n",
      "[1459.5s] epoch=44/iteration=10400 loss=145.55 ELBO=-130.18\n",
      "[1473.0s] epoch=44/iteration=10500 loss=142.99 ELBO=-125.55\n",
      "[1483.0s] 44. l=146.70 (best=145.06) ELBO=-129.15 t=0.74\n",
      "Saving to VAEConcrete.csv\n",
      "[1486.5s] epoch=45/iteration=10600 loss=144.51 ELBO=-125.95\n",
      "[1500.0s] epoch=45/iteration=10700 loss=145.84 ELBO=-128.68\n",
      "[1513.5s] epoch=45/iteration=10800 loss=147.23 ELBO=-128.61\n",
      "[1514.9s] 45. l=146.47 (best=145.06) ELBO=-128.75 t=0.74\n",
      "Saving to VAEConcrete.csv\n",
      "[1527.0s] epoch=46/iteration=10900 loss=147.70 ELBO=-129.18\n",
      "[1540.4s] epoch=46/iteration=11000 loss=150.82 ELBO=-132.37\n",
      "[1546.4s] 46. l=146.68 (best=145.06) ELBO=-128.84 t=0.72\n",
      "Saving to VAEConcrete.csv\n",
      "[1553.8s] epoch=47/iteration=11100 loss=152.35 ELBO=-133.72\n",
      "[1567.3s] epoch=47/iteration=11200 loss=144.43 ELBO=-125.69\n",
      "[1578.2s] 47. l=147.53 (best=145.06) ELBO=-129.27 t=0.72\n",
      "Saving to VAEConcrete.csv\n",
      "[1581.0s] epoch=48/iteration=11300 loss=148.64 ELBO=-129.51\n",
      "[1594.5s] epoch=48/iteration=11400 loss=148.88 ELBO=-131.11\n",
      "[1608.0s] epoch=48/iteration=11500 loss=146.91 ELBO=-127.98\n",
      "[1610.0s] 48. l=147.44 (best=145.06) ELBO=-129.08 t=0.72\n",
      "Saving to VAEConcrete.csv\n",
      "[1621.6s] epoch=49/iteration=11600 loss=140.97 ELBO=-122.87\n",
      "[1635.3s] epoch=49/iteration=11700 loss=146.00 ELBO=-129.30\n",
      "[1641.7s] 49. l=147.24 (best=145.06) ELBO=-128.89 t=0.72\n",
      "Saving to VAEConcrete.csv\n",
      "[1648.2s] epoch=50/iteration=11800 loss=154.71 ELBO=-135.24\n",
      "[1660.8s] epoch=50/iteration=11900 loss=150.10 ELBO=-132.22\n",
      "[1671.4s] 50. l=147.08 (best=145.06) ELBO=-128.70 t=0.72\n",
      "Saving to VAEConcrete.csv\n",
      "[1673.3s] epoch=51/iteration=12000 loss=154.56 ELBO=-135.59\n",
      "[1686.0s] epoch=51/iteration=12100 loss=146.87 ELBO=-126.02\n",
      "[1698.7s] epoch=51/iteration=12200 loss=150.82 ELBO=-131.43\n",
      "[1701.2s] 51. l=148.06 (best=145.06) ELBO=-129.01 t=0.70\n",
      "Saving to VAEConcrete.csv\n",
      "[1711.5s] epoch=52/iteration=12300 loss=144.22 ELBO=-125.05\n",
      "[1724.1s] epoch=52/iteration=12400 loss=151.83 ELBO=-134.44\n",
      "[1731.0s] 52. l=148.12 (best=145.06) ELBO=-129.02 t=0.70\n",
      "Saving to VAEConcrete.csv\n",
      "[1736.8s] epoch=53/iteration=12500 loss=141.07 ELBO=-122.90\n",
      "[1749.6s] epoch=53/iteration=12600 loss=147.81 ELBO=-129.68\n",
      "[1760.9s] 53. l=148.13 (best=145.06) ELBO=-128.98 t=0.70\n",
      "Saving to VAEConcrete.csv\n",
      "[1762.3s] epoch=54/iteration=12700 loss=145.32 ELBO=-126.01\n",
      "[1775.0s] epoch=54/iteration=12800 loss=140.97 ELBO=-120.89\n",
      "[1787.6s] epoch=54/iteration=12900 loss=147.97 ELBO=-130.71\n",
      "[1790.8s] 54. l=147.81 (best=145.06) ELBO=-128.70 t=0.70\n",
      "Saving to VAEConcrete.csv\n",
      "[1800.3s] epoch=55/iteration=13000 loss=143.89 ELBO=-124.61\n",
      "[1813.0s] epoch=55/iteration=13100 loss=146.44 ELBO=-126.92\n",
      "[1820.5s] 55. l=148.66 (best=145.06) ELBO=-129.13 t=0.68\n",
      "Saving to VAEConcrete.csv\n",
      "[1825.7s] epoch=56/iteration=13200 loss=147.87 ELBO=-127.55\n",
      "[1838.3s] epoch=56/iteration=13300 loss=145.14 ELBO=-126.15\n",
      "[1850.3s] 56. l=148.83 (best=145.06) ELBO=-129.07 t=0.68\n",
      "Saving to VAEConcrete.csv\n",
      "[1851.0s] epoch=57/iteration=13400 loss=149.68 ELBO=-130.77\n",
      "[1863.7s] epoch=57/iteration=13500 loss=150.01 ELBO=-132.02\n",
      "[1876.3s] epoch=57/iteration=13600 loss=144.01 ELBO=-125.04\n",
      "[1880.1s] 57. l=148.76 (best=145.06) ELBO=-128.93 t=0.68\n",
      "Saving to VAEConcrete.csv\n",
      "[1889.1s] epoch=58/iteration=13700 loss=142.86 ELBO=-124.49\n",
      "[1901.8s] epoch=58/iteration=13800 loss=146.19 ELBO=-125.72\n",
      "[1910.0s] 58. l=148.53 (best=145.06) ELBO=-128.71 t=0.68\n",
      "Saving to VAEConcrete.csv\n",
      "[1914.5s] epoch=59/iteration=13900 loss=148.33 ELBO=-128.66\n",
      "[1927.1s] epoch=59/iteration=14000 loss=151.38 ELBO=-131.29\n",
      "[1939.7s] epoch=59/iteration=14100 loss=148.92 ELBO=-126.78\n",
      "[1939.7s] 59. l=149.15 (best=145.06) ELBO=-128.98 t=0.66\n",
      "Saving to VAEConcrete.csv\n",
      "[1952.6s] epoch=60/iteration=14200 loss=143.48 ELBO=-121.92\n",
      "[1965.2s] epoch=60/iteration=14300 loss=146.39 ELBO=-125.60\n",
      "[1969.5s] 60. l=149.66 (best=145.06) ELBO=-129.23 t=0.66\n",
      "Saving to VAEConcrete.csv\n",
      "[1977.8s] epoch=61/iteration=14400 loss=146.78 ELBO=-126.65\n",
      "[1990.5s] epoch=61/iteration=14500 loss=148.06 ELBO=-127.02\n",
      "[1999.3s] 61. l=149.65 (best=145.06) ELBO=-129.09 t=0.66\n",
      "Saving to VAEConcrete.csv\n",
      "[2003.1s] epoch=62/iteration=14600 loss=146.22 ELBO=-126.17\n",
      "[2015.7s] epoch=62/iteration=14700 loss=148.96 ELBO=-127.88\n",
      "[2028.4s] epoch=62/iteration=14800 loss=145.76 ELBO=-127.06\n",
      "[2029.0s] 62. l=149.48 (best=145.06) ELBO=-128.92 t=0.66\n",
      "Saving to VAEConcrete.csv\n",
      "[2041.0s] epoch=63/iteration=14900 loss=143.00 ELBO=-121.65\n",
      "[2053.7s] epoch=63/iteration=15000 loss=150.86 ELBO=-130.44\n",
      "[2058.8s] 63. l=149.68 (best=145.06) ELBO=-128.91 t=0.64\n",
      "Saving to VAEConcrete.csv\n",
      "[2066.5s] epoch=64/iteration=15100 loss=151.23 ELBO=-130.81\n",
      "[2079.2s] epoch=64/iteration=15200 loss=148.17 ELBO=-127.40\n",
      "[2088.6s] 64. l=150.65 (best=145.06) ELBO=-129.48 t=0.64\n",
      "Saving to VAEConcrete.csv\n",
      "[2091.8s] epoch=65/iteration=15300 loss=146.82 ELBO=-125.36\n",
      "[2104.6s] epoch=65/iteration=15400 loss=149.95 ELBO=-129.29\n",
      "[2117.3s] epoch=65/iteration=15500 loss=151.70 ELBO=-129.80\n",
      "[2118.5s] 65. l=150.70 (best=145.06) ELBO=-129.42 t=0.64\n",
      "Saving to VAEConcrete.csv\n",
      "[2129.9s] epoch=66/iteration=15600 loss=152.94 ELBO=-128.82\n",
      "[2142.8s] epoch=66/iteration=15700 loss=152.63 ELBO=-129.63\n",
      "[2148.5s] 66. l=150.57 (best=145.06) ELBO=-129.23 t=0.64\n",
      "Saving to VAEConcrete.csv\n",
      "[2155.8s] epoch=67/iteration=15800 loss=152.70 ELBO=-130.04\n",
      "[2168.6s] epoch=67/iteration=15900 loss=147.04 ELBO=-126.40\n",
      "[2178.9s] 67. l=150.38 (best=145.06) ELBO=-129.00 t=0.64\n",
      "Saving to VAEConcrete.csv\n",
      "[2181.6s] epoch=68/iteration=16000 loss=148.46 ELBO=-126.92\n",
      "[2194.5s] epoch=68/iteration=16100 loss=151.73 ELBO=-130.73\n",
      "[2207.4s] epoch=68/iteration=16200 loss=152.07 ELBO=-131.02\n",
      "[2209.2s] 68. l=151.47 (best=145.06) ELBO=-129.51 t=0.62\n",
      "Saving to VAEConcrete.csv\n",
      "[2220.1s] epoch=69/iteration=16300 loss=145.83 ELBO=-123.11\n",
      "[2232.9s] epoch=69/iteration=16400 loss=149.42 ELBO=-128.75\n",
      "[2239.2s] 69. l=151.68 (best=145.06) ELBO=-129.64 t=0.62\n",
      "Saving to VAEConcrete.csv\n",
      "[2245.7s] epoch=70/iteration=16500 loss=159.55 ELBO=-137.95\n",
      "[2258.9s] epoch=70/iteration=16600 loss=154.92 ELBO=-133.59\n",
      "[2269.6s] 70. l=151.73 (best=145.06) ELBO=-129.68 t=0.62\n",
      "Saving to VAEConcrete.csv\n",
      "[2271.6s] epoch=71/iteration=16700 loss=160.22 ELBO=-138.15\n",
      "[2284.5s] epoch=71/iteration=16800 loss=151.64 ELBO=-129.24\n",
      "[2297.2s] epoch=71/iteration=16900 loss=155.44 ELBO=-132.53\n",
      "[2299.7s] 71. l=151.58 (best=145.06) ELBO=-129.52 t=0.62\n",
      "Saving to VAEConcrete.csv\n",
      "[2310.1s] epoch=72/iteration=17000 loss=149.84 ELBO=-126.91\n",
      "[2323.1s] epoch=72/iteration=17100 loss=156.77 ELBO=-136.06\n"
     ]
    },
    {
     "name": "stdout",
     "output_type": "stream",
     "text": [
      "[2330.1s] 72. l=152.32 (best=145.06) ELBO=-129.75 t=0.60\n",
      "Saving to VAEConcrete.csv\n",
      "[2336.0s] epoch=73/iteration=17200 loss=147.78 ELBO=-126.12\n",
      "[2349.0s] epoch=73/iteration=17300 loss=152.82 ELBO=-131.05\n",
      "[2360.3s] 73. l=152.65 (best=145.06) ELBO=-129.98 t=0.60\n",
      "Saving to VAEConcrete.csv\n",
      "[2361.7s] epoch=74/iteration=17400 loss=150.45 ELBO=-126.70\n",
      "[2374.4s] epoch=74/iteration=17500 loss=148.70 ELBO=-125.67\n",
      "[2387.1s] epoch=74/iteration=17600 loss=153.62 ELBO=-131.75\n",
      "[2390.3s] 74. l=152.77 (best=145.06) ELBO=-129.93 t=0.60\n",
      "Saving to VAEConcrete.csv\n",
      "[2400.2s] epoch=75/iteration=17700 loss=146.80 ELBO=-124.74\n",
      "[2412.9s] epoch=75/iteration=17800 loss=151.86 ELBO=-129.87\n",
      "[2420.4s] 75. l=152.55 (best=145.06) ELBO=-129.80 t=0.60\n",
      "Saving to VAEConcrete.csv\n",
      "[2425.7s] epoch=76/iteration=17900 loss=151.24 ELBO=-128.24\n",
      "[2438.5s] epoch=76/iteration=18000 loss=149.16 ELBO=-126.23\n",
      "[2450.4s] 76. l=153.18 (best=145.06) ELBO=-130.01 t=0.58\n",
      "Saving to VAEConcrete.csv\n",
      "[2451.1s] epoch=77/iteration=18100 loss=157.25 ELBO=-134.64\n",
      "[2463.8s] epoch=77/iteration=18200 loss=152.84 ELBO=-130.66\n",
      "[2476.7s] epoch=77/iteration=18300 loss=149.30 ELBO=-126.31\n",
      "[2480.5s] 77. l=153.82 (best=145.06) ELBO=-130.35 t=0.58\n",
      "Saving to VAEConcrete.csv\n",
      "[2489.6s] epoch=78/iteration=18400 loss=147.91 ELBO=-126.29\n",
      "[2502.2s] epoch=78/iteration=18500 loss=151.01 ELBO=-126.00\n",
      "[2510.6s] 78. l=154.05 (best=145.06) ELBO=-130.49 t=0.58\n",
      "Saving to VAEConcrete.csv\n",
      "[2515.2s] epoch=79/iteration=18600 loss=154.20 ELBO=-130.55\n",
      "[2527.9s] epoch=79/iteration=18700 loss=155.70 ELBO=-131.50\n",
      "[2540.6s] epoch=79/iteration=18800 loss=156.11 ELBO=-130.75\n",
      "[2540.6s] 79. l=153.93 (best=145.06) ELBO=-130.38 t=0.58\n",
      "Saving to VAEConcrete.csv\n",
      "[2553.3s] epoch=80/iteration=18900 loss=149.48 ELBO=-126.12\n",
      "[2566.0s] epoch=80/iteration=19000 loss=150.50 ELBO=-127.20\n",
      "[2570.4s] 80. l=154.01 (best=145.06) ELBO=-130.45 t=0.57\n",
      "Saving to VAEConcrete.csv\n",
      "[2578.7s] epoch=81/iteration=19100 loss=152.92 ELBO=-130.09\n",
      "[2591.4s] epoch=81/iteration=19200 loss=151.78 ELBO=-127.26\n",
      "[2599.3s] 81. l=155.16 (best=145.06) ELBO=-130.96 t=0.57\n",
      "Saving to VAEConcrete.csv\n",
      "[2602.7s] epoch=82/iteration=19300 loss=150.22 ELBO=-126.53\n",
      "[2614.1s] epoch=82/iteration=19400 loss=157.11 ELBO=-131.87\n",
      "[2625.4s] epoch=82/iteration=19500 loss=150.48 ELBO=-128.90\n",
      "[2625.9s] 82. l=155.22 (best=145.06) ELBO=-130.97 t=0.57\n",
      "Saving to VAEConcrete.csv\n",
      "[2636.6s] epoch=83/iteration=19600 loss=149.29 ELBO=-125.32\n",
      "[2647.9s] epoch=83/iteration=19700 loss=156.48 ELBO=-132.99\n",
      "[2652.3s] 83. l=155.10 (best=145.06) ELBO=-130.92 t=0.57\n",
      "Saving to VAEConcrete.csv\n",
      "[2659.2s] epoch=84/iteration=19800 loss=155.23 ELBO=-133.39\n",
      "[2670.5s] epoch=84/iteration=19900 loss=149.25 ELBO=-125.02\n",
      "[2678.9s] 84. l=155.12 (best=145.06) ELBO=-130.91 t=0.57\n",
      "Saving to VAEConcrete.csv\n",
      "[2681.8s] epoch=85/iteration=20000 loss=154.05 ELBO=-128.97\n",
      "[2693.1s] epoch=85/iteration=20100 loss=155.95 ELBO=-131.32\n",
      "[2704.4s] epoch=85/iteration=20200 loss=157.99 ELBO=-131.04\n",
      "[2705.5s] 85. l=156.25 (best=145.06) ELBO=-131.35 t=0.55\n",
      "Saving to VAEConcrete.csv\n",
      "[2715.8s] epoch=86/iteration=20300 loss=157.67 ELBO=-130.49\n",
      "[2727.0s] epoch=86/iteration=20400 loss=160.01 ELBO=-134.20\n",
      "[2732.0s] 86. l=156.37 (best=145.06) ELBO=-131.42 t=0.55\n",
      "Saving to VAEConcrete.csv\n",
      "[2738.3s] epoch=87/iteration=20500 loss=161.22 ELBO=-135.51\n",
      "[2749.6s] epoch=87/iteration=20600 loss=153.67 ELBO=-129.07\n",
      "[2758.5s] 87. l=156.37 (best=145.06) ELBO=-131.40 t=0.55\n",
      "Saving to VAEConcrete.csv\n",
      "[2760.8s] epoch=88/iteration=20700 loss=157.93 ELBO=-132.49\n",
      "[2772.1s] epoch=88/iteration=20800 loss=155.01 ELBO=-132.58\n",
      "[2783.4s] epoch=88/iteration=20900 loss=156.36 ELBO=-131.99\n",
      "[2785.0s] 88. l=156.27 (best=145.06) ELBO=-131.29 t=0.55\n",
      "Saving to VAEConcrete.csv\n",
      "[2794.7s] epoch=89/iteration=21000 loss=149.48 ELBO=-125.10\n",
      "[2806.0s] epoch=89/iteration=21100 loss=157.77 ELBO=-133.02\n",
      "[2811.6s] 89. l=157.08 (best=145.06) ELBO=-131.64 t=0.53\n",
      "Saving to VAEConcrete.csv\n",
      "[2817.3s] epoch=90/iteration=21200 loss=165.38 ELBO=-139.50\n",
      "[2828.6s] epoch=90/iteration=21300 loss=159.33 ELBO=-133.75\n",
      "[2838.2s] 90. l=157.77 (best=145.06) ELBO=-132.02 t=0.53\n",
      "Saving to VAEConcrete.csv\n",
      "[2839.9s] epoch=91/iteration=21400 loss=166.06 ELBO=-139.53\n",
      "[2851.2s] epoch=91/iteration=21500 loss=162.29 ELBO=-136.12\n",
      "[2862.5s] epoch=91/iteration=21600 loss=162.00 ELBO=-136.51\n",
      "[2864.7s] 91. l=157.65 (best=145.06) ELBO=-131.84 t=0.53\n",
      "Saving to VAEConcrete.csv\n",
      "[2873.8s] epoch=92/iteration=21700 loss=153.13 ELBO=-127.10\n",
      "[2885.0s] epoch=92/iteration=21800 loss=162.07 ELBO=-137.51\n",
      "[2891.2s] 92. l=157.58 (best=145.06) ELBO=-131.87 t=0.53\n",
      "Saving to VAEConcrete.csv\n",
      "[2896.3s] epoch=93/iteration=21900 loss=151.66 ELBO=-127.91\n",
      "[2907.6s] epoch=93/iteration=22000 loss=158.36 ELBO=-133.95\n",
      "[2917.7s] 93. l=158.28 (best=145.06) ELBO=-132.16 t=0.52\n",
      "Saving to VAEConcrete.csv\n",
      "[2918.9s] epoch=94/iteration=22100 loss=158.00 ELBO=-130.57\n",
      "[2930.2s] epoch=94/iteration=22200 loss=153.21 ELBO=-125.57\n",
      "[2941.5s] epoch=94/iteration=22300 loss=158.82 ELBO=-133.27\n",
      "[2944.3s] 94. l=159.09 (best=145.06) ELBO=-132.79 t=0.52\n",
      "Saving to VAEConcrete.csv\n",
      "[2952.9s] epoch=95/iteration=22400 loss=154.88 ELBO=-128.64\n",
      "[2964.3s] epoch=95/iteration=22500 loss=156.33 ELBO=-129.79\n",
      "[2971.1s] 95. l=159.02 (best=145.06) ELBO=-132.48 t=0.52\n",
      "Saving to VAEConcrete.csv\n",
      "[2975.7s] epoch=96/iteration=22600 loss=157.59 ELBO=-131.75\n",
      "[2987.2s] epoch=96/iteration=22700 loss=155.51 ELBO=-128.64\n",
      "[2997.9s] 96. l=158.97 (best=145.06) ELBO=-132.39 t=0.52\n",
      "Saving to VAEConcrete.csv\n",
      "[2998.5s] epoch=97/iteration=22800 loss=161.67 ELBO=-134.70\n",
      "[3009.8s] epoch=97/iteration=22900 loss=159.14 ELBO=-132.67\n",
      "[3021.2s] epoch=97/iteration=23000 loss=152.02 ELBO=-128.01\n",
      "[3024.6s] 97. l=159.11 (best=145.06) ELBO=-132.51 t=0.50\n",
      "Saving to VAEConcrete.csv\n",
      "[3032.7s] epoch=98/iteration=23100 loss=155.44 ELBO=-130.30\n",
      "[3044.0s] epoch=98/iteration=23200 loss=158.90 ELBO=-130.07\n",
      "[3051.5s] 98. l=160.50 (best=145.06) ELBO=-133.28 t=0.50\n",
      "Saving to VAEConcrete.csv\n",
      "[3055.6s] epoch=99/iteration=23300 loss=159.44 ELBO=-132.61\n",
      "[3067.1s] epoch=99/iteration=23400 loss=162.08 ELBO=-135.32\n",
      "[3078.4s] epoch=99/iteration=23500 loss=158.75 ELBO=-129.17\n",
      "[3078.4s] 99. l=160.34 (best=145.06) ELBO=-132.99 t=0.50\n",
      "Saving to VAEConcrete.csv\n"
     ]
    }
   ],
   "source": [
    "for e in range(NUM_ITERS):\n",
    "\n",
    "    losses, true_losses = [], []\n",
    "    for np_x, labels in train_ds:\n",
    "        \n",
    "        with tf.GradientTape() as tape:        \n",
    "            p_x, q_y, y, logits_y = vae(np_x, temperature=np_temp)\n",
    "            l = loss(np_x, p_x, q_y, y, logits_y)\n",
    "        losses.append( float(l) ); \n",
    "        tl = true_loss(np_x, p_x, q_y)\n",
    "        true_losses.append( float(tl) )\n",
    "        g = tape.gradient(l, vae.trainable_variables)\n",
    "        optimizer.apply_gradients(zip(g, vae.trainable_variables))\n",
    "        \n",
    "        if i % 1000 == 1: # following Jang's code\n",
    "            np_temp = np.maximum(BASE_TEMP*np.exp(-ANNEAL_RATE*i), MIN_TEMP)\n",
    "            \n",
    "        i += 1\n",
    "        if i%100==0 or i<10: \n",
    "            print(\"[%.1fs] epoch=%i/iteration=%i loss=%.2f ELBO=%.2f\" % \\\n",
    "                  (time.time()-start, e, i, l, -tl))               \n",
    "    ########################################################################\n",
    "    \n",
    "    if np.mean(losses)<best_loss:\n",
    "        best_loss = np.mean(losses)\n",
    "        try: \n",
    "            best_vae = copy.deepcopy(vae)\n",
    "        except Exception as exc:\n",
    "            if best_vae is None:\n",
    "                    print(\"[ERROR] Failed to copy VAE object as best_vae: %s\" % exc)\n",
    "            best_vae = vae                \n",
    "            \n",
    "    print (\"[%.1fs] %d. l=%.2f (best=%.2f) ELBO=%.2f t=%.2f\" % (time.time()-start, \n",
    "            e, np.mean(losses), best_loss, -np.mean(true_losses), np_temp))                        \n",
    "    results.append(CFG+[time.time()-start, \n",
    "            e, np.mean(losses), best_loss, np.mean(true_losses), np_temp])\n",
    "    sys.stdout.flush()\n",
    "    \n",
    "    print(\"Saving to %s\" % OUT)\n",
    "    pd.DataFrame(results).to_csv(OUT, header=False, index=False)    "
   ]
  },
  {
   "cell_type": "code",
   "execution_count": 23,
   "metadata": {},
   "outputs": [],
   "source": [
    "vae = best_vae"
   ]
  },
  {
   "cell_type": "markdown",
   "metadata": {},
   "source": [
    "## reconstruction"
   ]
  },
  {
   "cell_type": "code",
   "execution_count": 24,
   "metadata": {
    "colab": {},
    "colab_type": "code",
    "id": "eyR7mEediqX2"
   },
   "outputs": [],
   "source": [
    "from matplotlib import pyplot as plt"
   ]
  },
  {
   "cell_type": "code",
   "execution_count": 25,
   "metadata": {
    "colab": {},
    "colab_type": "code",
    "id": "xyYdoTHNiqXg"
   },
   "outputs": [],
   "source": [
    "np_x1 = x_train[-BATCH_SIZE:]"
   ]
  },
  {
   "cell_type": "code",
   "execution_count": 27,
   "metadata": {
    "colab": {},
    "colab_type": "code",
    "id": "sthn64omiqXp"
   },
   "outputs": [],
   "source": [
    "p_x, q_y, y, logits_y = vae(np_x1)\n",
    "np_x2 = p_x.mean()"
   ]
  },
  {
   "cell_type": "code",
   "execution_count": 28,
   "metadata": {},
   "outputs": [
    {
     "data": {
      "image/png": "[encoded data removed]",
      "text/plain": [
       "<Figure size 432x288 with 1 Axes>"
      ]
     },
     "metadata": {
      "needs_background": "light"
     },
     "output_type": "display_data"
    },
    {
     "data": {
      "image/png": "[encoded data removed]",
      "text/plain": [
       "<Figure size 432x288 with 1 Axes>"
      ]
     },
     "metadata": {
      "needs_background": "light"
     },
     "output_type": "display_data"
    }
   ],
   "source": [
    "i = 31\n",
    "\n",
    "plt.imshow(np_x1[i].numpy().reshape((28,28))); plt.show()\n",
    "plt.imshow(np_x2[i].numpy().reshape((28,28))); plt.show()"
   ]
  },
  {
   "cell_type": "markdown",
   "metadata": {
    "colab_type": "text",
    "id": "7xmiYkdEiqYn"
   },
   "source": [
    "## Unconditional Generation\n",
    "\n",
    "This consists of sampling from the prior $p_\\theta(y)$ and passing it through the generative model."
   ]
  },
  {
   "cell_type": "code",
   "execution_count": 29,
   "metadata": {},
   "outputs": [
    {
     "data": {
      "image/png": "[encoded data removed]",
      "text/plain": [
       "<Figure size 460.8x108 with 1 Axes>"
      ]
     },
     "metadata": {},
     "output_type": "display_data"
    }
   ],
   "source": [
    "np.random.seed(0)\n",
    "ys = []\n",
    "for _ in range(3):\n",
    "    xs = []\n",
    "    for _ in range(10):\n",
    "        np_y = np.zeros((N,K))\n",
    "        np_y[range(N),np.random.choice(K,N)] = 1\n",
    "        np_y = np.reshape(np_y,[1,N,K])\n",
    "\n",
    "        logits_x = vae.calc_logits_x(tf.constant(np_y, dtype=tf.float32)) \n",
    "        p_x = tfp.distributions.Bernoulli(logits=logits_x)\n",
    "        np_x = p_x.mean().numpy()[0].reshape((28,28))\n",
    "        xs.append(np_x)\n",
    "    ys.append(np.hstack(xs))\n",
    "img = np.vstack(ys)   \n",
    "\n",
    "fig = plt.figure(figsize=(6.4, 1.5), dpi=72)\n",
    "plt.imshow(img, cmap=plt.cm.gray,interpolation='none')\n",
    "plt.xticks([],{})\n",
    "plt.yticks([],{})\n",
    "plt.savefig(\"vae_concrete_nost.pdf\", bbox_inches = 'tight', pad_inches =0)"
   ]
  },
  {
   "cell_type": "code",
   "execution_count": 30,
   "metadata": {
    "colab": {},
    "colab_type": "code",
    "id": "EIgbX-gfiqYo"
   },
   "outputs": [],
   "source": [
    "M=100*N\n",
    "np_y = np.zeros((M,K))\n",
    "np_y[range(M),np.random.choice(K,M)] = 1\n",
    "np_y = np.reshape(np_y,[100,N,K])"
   ]
  },
  {
   "cell_type": "code",
   "execution_count": 31,
   "metadata": {
    "colab": {},
    "colab_type": "code",
    "id": "9r85JvgCiqYt"
   },
   "outputs": [],
   "source": [
    "logits_x = vae.calc_logits_x(tf.constant(np_y, dtype=tf.float32)) \n",
    "p_x = tfp.distributions.Bernoulli(logits=logits_x)\n",
    "np_x = p_x.mean().numpy()"
   ]
  },
  {
   "cell_type": "code",
   "execution_count": 32,
   "metadata": {
    "colab": {},
    "colab_type": "code",
    "id": "-liAvgIBiqY3"
   },
   "outputs": [],
   "source": [
    "np_y = np_y.reshape((10,10,N,K))\n",
    "np_y = np.concatenate(np.split(np_y,10,axis=0),axis=3)\n",
    "np_y = np.concatenate(np.split(np_y,10,axis=1),axis=2)\n",
    "y_img = np.squeeze(np_y)"
   ]
  },
  {
   "cell_type": "code",
   "execution_count": 33,
   "metadata": {
    "colab": {},
    "colab_type": "code",
    "id": "KtWU9CiRiqY8"
   },
   "outputs": [],
   "source": [
    "np_x = np_x.reshape((10,10,28,28))\n",
    "# split into 10 (1,10,28,28) images, concat along columns -> 1,10,28,280\n",
    "np_x = np.concatenate(np.split(np_x,10,axis=0),axis=3)\n",
    "# split into 10 (1,1,28,280) images, concat along rows -> 1,1,280,280\n",
    "np_x = np.concatenate(np.split(np_x,10,axis=1),axis=2)\n",
    "x_img = np.squeeze(np_x)"
   ]
  },
  {
   "cell_type": "code",
   "execution_count": 34,
   "metadata": {
    "colab": {
     "base_uri": "https://localhost:8080/",
     "height": 925
    },
    "colab_type": "code",
    "id": "4R-Q4dzziqZD",
    "outputId": "51381564-e4e9-4791-9906-5e0d026b9ad1"
   },
   "outputs": [
    {
     "data": {
      "text/plain": [
       "Text(0.5, 1.0, 'Generated Images')"
      ]
     },
     "execution_count": 34,
     "metadata": {},
     "output_type": "execute_result"
    },
    {
     "data": {
      "image/png": "[encoded data removed]",
      "text/plain": [
       "<Figure size 1080x1080 with 2 Axes>"
      ]
     },
     "metadata": {
      "needs_background": "light"
     },
     "output_type": "display_data"
    }
   ],
   "source": [
    "f,axarr=plt.subplots(1,2,figsize=(15,15))\n",
    "# samples\n",
    "axarr[0].matshow(y_img,cmap=plt.cm.gray)\n",
    "axarr[0].set_title('Z Samples')\n",
    "# reconstruction\n",
    "axarr[1].imshow(x_img,cmap=plt.cm.gray,interpolation='none')\n",
    "axarr[1].set_title('Generated Images')"
   ]
  },
  {
   "cell_type": "code",
   "execution_count": null,
   "metadata": {},
   "outputs": [],
   "source": []
  },
  {
   "cell_type": "code",
   "execution_count": null,
   "metadata": {},
   "outputs": [],
   "source": []
  }
 ],
 "metadata": {
  "accelerator": "GPU",
  "colab": {
   "name": "CategoricalVAE_TF2.ipynb",
   "provenance": []
  },
  "kernelspec": {
   "display_name": "Python 3",
   "language": "python",
   "name": "python3"
  },
  "language_info": {
   "codemirror_mode": {
    "name": "ipython",
    "version": 3
   },
   "file_extension": ".py",
   "mimetype": "text/x-python",
   "name": "python",
   "nbconvert_exporter": "python",
   "pygments_lexer": "ipython3",
   "version": "3.8.3"
  }
 },
 "nbformat": 4,
 "nbformat_minor": 1
}
