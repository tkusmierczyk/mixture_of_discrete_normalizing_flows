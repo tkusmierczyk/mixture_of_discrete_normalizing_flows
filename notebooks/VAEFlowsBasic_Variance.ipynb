{
 "cells": [
  {
   "cell_type": "markdown",
   "metadata": {
    "colab_type": "text",
    "id": "YvryyD5UiqVT"
   },
   "source": [
    "# Variance estimation on Categorical VAE using VI with Mixture of Discrete Normalizing Flows"
   ]
  },
  {
   "cell_type": "markdown",
   "metadata": {},
   "source": [
    "A version using the one-file implementation of factorized flows."
   ]
  },
  {
   "cell_type": "markdown",
   "metadata": {},
   "source": [
    "Design of the VAE follows the implementation from https://github.com/ericjang/gumbel-softmax"
   ]
  },
  {
   "cell_type": "markdown",
   "metadata": {
    "colab_type": "text",
    "id": "5PUK6xQMiqVi"
   },
   "source": [
    "## Imports and Helper Functions"
   ]
  },
  {
   "cell_type": "code",
   "execution_count": 1,
   "metadata": {
    "colab": {},
    "colab_type": "code",
    "id": "Cf1nacIdiqVo"
   },
   "outputs": [],
   "source": [
    "import numpy as np\n",
    "import tensorflow as tf\n",
    "import tensorflow_probability as tfp\n",
    "from tensorflow_probability import distributions as tfpd\n",
    "\n",
    "import copy\n",
    "import time\n",
    "import pandas as pd"
   ]
  },
  {
   "cell_type": "code",
   "execution_count": 2,
   "metadata": {
    "colab": {
     "base_uri": "https://localhost:8080/",
     "height": 35
    },
    "colab_type": "code",
    "id": "0w2iD0BMiqV3",
    "outputId": "a04ed99f-73b6-4646-f83b-44d86cc30ff2"
   },
   "outputs": [
    {
     "data": {
      "text/plain": [
       "('2.2.0', '0.9.0')"
      ]
     },
     "execution_count": 2,
     "metadata": {},
     "output_type": "execute_result"
    }
   ],
   "source": [
    "tf.__version__, tfp.__version__"
   ]
  },
  {
   "cell_type": "code",
   "execution_count": 3,
   "metadata": {},
   "outputs": [],
   "source": [
    "import sys\n",
    "sys.path.append('../mdnf')"
   ]
  },
  {
   "cell_type": "code",
   "execution_count": 4,
   "metadata": {},
   "outputs": [],
   "source": [
    "import aux"
   ]
  },
  {
   "cell_type": "code",
   "execution_count": 5,
   "metadata": {},
   "outputs": [],
   "source": [
    "import flows_factorized_mixture"
   ]
  },
  {
   "cell_type": "markdown",
   "metadata": {},
   "source": [
    "## Configuration"
   ]
  },
  {
   "cell_type": "code",
   "execution_count": 6,
   "metadata": {},
   "outputs": [],
   "source": [
    "# can be run as a script with args in format KEY=VAL,KEY=[STRVAL],...\n",
    "args = aux.parse_script_args() "
   ]
  },
  {
   "cell_type": "code",
   "execution_count": 7,
   "metadata": {},
   "outputs": [],
   "source": [
    "SEED=args.get(\"SEED\", 0)\n",
    "OUT=args.get(\"OUT\", \"VAEFlows.csv\")\n",
    "\n",
    "# base distribution type (p -> delta)\n",
    "# see create_base_mixture in base_constructors.py for options\n",
    "BASE_SPECIFICATION = args.get(\"BASE_SPECIFICATION\", \"p\") \n",
    "\n",
    "B = args.get(\"B\", 40) # how many flows in mixture\n",
    "N = args.get(\"N\", 10) # how many latent variables\n",
    "K = args.get(\"K\", 2) # how many categories each\n",
    "\n",
    "# Temperature hyperparameter\n",
    "BASE_TEMP = args.get(\"BASE_TEMP\", 100.0)\n",
    "ANNEAL_RATE = args.get(\"ANNEAL_RATE\", 0.00003)\n",
    "MIN_TEMP = args.get(\"MIN_TEMP\", 0.001)\n",
    "\n",
    "OPTIMIZER = args.get(\"OPTIMIZER\", \"ADAM\")\n",
    "LR = args.get(\"LR\", 0.001)\n",
    "BATCH_SIZE=args.get(\"BATCH_SIZE\", 256) # how many samples in minibatch\n",
    "NUM_ITERS=args.get(\"NUM_ITERS\", 1) # how many epochs\n",
    "\n",
    "NSAMPLES = args.get(\"NSAMPLES\", 1) # how many samples per data point in each step (=how many ELBOs evaluations)"
   ]
  },
  {
   "cell_type": "code",
   "execution_count": 8,
   "metadata": {},
   "outputs": [
    {
     "name": "stdout",
     "output_type": "stream",
     "text": [
      "CFG=['VAE_FLOWS', 0, 'VAEFlows.csv', 40, 10, 2, 256, 1, 100.0, None, 'ADAM', 0.001, 3e-05, 0.001]\n"
     ]
    }
   ],
   "source": [
    "CFG = [\"VAE_FLOWS\", SEED, OUT, B, N, K, BATCH_SIZE, NUM_ITERS, \n",
    "       BASE_TEMP, None, OPTIMIZER, LR, ANNEAL_RATE, MIN_TEMP]\n",
    "print(\"CFG=%s\" % CFG)"
   ]
  },
  {
   "cell_type": "markdown",
   "metadata": {
    "colab_type": "text",
    "id": "zXgNCssWiqWd"
   },
   "source": [
    "## Model"
   ]
  },
  {
   "cell_type": "code",
   "execution_count": 9,
   "metadata": {
    "colab": {},
    "colab_type": "code",
    "id": "U8bqeCYViqWg"
   },
   "outputs": [],
   "source": [
    "class CategoricalVAE(tf.Module):\n",
    "\n",
    "    def __init__(self, mixture, N, K, name=None):\n",
    "        \"\"\"\n",
    "        \n",
    "            Args:\n",
    "                N  number of variables\n",
    "                K  number of categories for each variable\n",
    "                B  number of components in a mixture of flows\n",
    "        \"\"\"\n",
    "        super(CategoricalVAE, self).__init__(name=name)\n",
    "        \n",
    "        self.mixture = mixture\n",
    "        self.base = mixture\n",
    "\n",
    "        self.N = N # number of categorical distributions\n",
    "        self.K = K # number of classes\n",
    "        \n",
    "        \n",
    "        self.calc_logits_z = tf.keras.Sequential([ # encoder\n",
    "                                             tf.keras.layers.Flatten(name=\"encoder0\"),\n",
    "                                             tf.keras.layers.Dense(512, activation=\"relu\", \n",
    "                                                                   input_shape=(None, 784), name=\"encoder1\"),\n",
    "                                             tf.keras.layers.Dense(256, activation=\"relu\", name=\"encoder2\"),\n",
    "                                             tf.keras.layers.Dense(K*N, activation=None, name=\"encoder3\"),\n",
    "                                             tf.keras.layers.Reshape( [N,K] , name=\"encoder4\")\n",
    "                                            ], name=\"encoder\")\n",
    "\n",
    "        self.calc_logits_x = tf.keras.Sequential( # decoder\n",
    "                                            [tf.keras.layers.Flatten(name=\"decoder0\"),\n",
    "                                             tf.keras.layers.Dense(256, activation=\"relu\", name=\"decoder1\"),\n",
    "                                             tf.keras.layers.Dense(512, activation=\"relu\", name=\"decoder2\"),\n",
    "                                             tf.keras.layers.Dense(784, activation=None, name=\"decoder3\"),\n",
    "                                            ], name=\"decoder\")         \n",
    "        \n",
    "        #B = len(mixture.flows)\n",
    "        B = mixture.logits.shape[1]\n",
    "        self.calc_logits_flows = tf.keras.Sequential([ \n",
    "                                             tf.keras.layers.Flatten(name=\"flows0\"),\n",
    "                                             tf.keras.layers.Dense(K*N*B, activation=\"relu\", \n",
    "                                                                   input_shape=(None, 784), name=\"flows1\"),\n",
    "                                             tf.keras.layers.Dense(K*N*B, activation=None, name=\"flows2\"),\n",
    "                                             tf.keras.layers.Reshape( [B,N,K] , name=\"flows3\")\n",
    "                                            ], name=\"logits_flows\")        \n",
    "        \n",
    "    def __call__(self, x):       \n",
    "        # variational posterior q(z|x), i.e. the encoder \n",
    "        # unnormalized logits for N separate K-categorical distributions (shape=(batch_size,N,K))                \n",
    "        logits_z = self.calc_logits_z(x)        \n",
    "        \n",
    "        logits_flows = self.calc_logits_flows(logits_z)\n",
    "        self.mixture.logits = tf.transpose(logits_flows, [0,2,1,3])\n",
    "        batch_size = logits_flows.shape[0]\n",
    "        samples, mask = self.base.sample_extm(batch_size)             \n",
    "        \n",
    "        # generative model p(x|z)\n",
    "        logits_x = self.calc_logits_x(samples)    \n",
    "        p_x = tfpd.Bernoulli(logits=logits_x)\n",
    "        \n",
    "        return p_x, samples\n",
    "    \n",
    "    def log_prob(self, samples): # for entropy/KL evaluation\n",
    "        samples_inv = self.mixture.reverse(samples)\n",
    "        return self.base.log_prob_ext(samples_inv)[0,:] \n",
    "    \n",
    "    @property\n",
    "    def temperature(self):\n",
    "        return self.mixture.temperature\n",
    "    \n",
    "    @temperature.setter\n",
    "    def temperature(self, value):\n",
    "        self.mixture.temperature = value\n",
    "    "
   ]
  },
  {
   "cell_type": "markdown",
   "metadata": {},
   "source": [
    "## Optimizer"
   ]
  },
  {
   "cell_type": "code",
   "execution_count": 10,
   "metadata": {},
   "outputs": [
    {
     "name": "stdout",
     "output_type": "stream",
     "text": [
      "optimizer=<tensorflow.python.keras.optimizer_v2.adam.Adam object at 0x7f8fd384a580> lr=0.001\n"
     ]
    }
   ],
   "source": [
    "OPTIMIZERS = {\"RMS\": tf.keras.optimizers.RMSprop,\n",
    "              \"ADAM\": tf.keras.optimizers.Adam}\n",
    "if OPTIMIZER not in OPTIMIZERS: raise ValueError(\"Unknown optimizer!\")\n",
    "optimizer_class = OPTIMIZERS[OPTIMIZER]\n",
    "optimizer = optimizer_class(learning_rate=LR)\n",
    "\n",
    "print(\"optimizer=%s lr=%s\" % (optimizer, LR))"
   ]
  },
  {
   "cell_type": "markdown",
   "metadata": {
    "colab_type": "text",
    "collapsed": true,
    "id": "2AC1b8njiqWy"
   },
   "source": [
    "## Train for certain number of epochs and then estimate variance"
   ]
  },
  {
   "cell_type": "code",
   "execution_count": 11,
   "metadata": {
    "colab": {},
    "colab_type": "code",
    "id": "S0K0W_U7iqW9"
   },
   "outputs": [],
   "source": [
    "# get data\n",
    "(x_train, y_train), (x_test, y_test) = tf.keras.datasets.mnist.load_data(path='mnist.npz')\n",
    "frmt = lambda images: tf.cast(tf.reshape(images,(-1, 784)), tf.float32)/255.0\n",
    "x_train, x_test = frmt(x_train), frmt(x_test)\n",
    "\n",
    "train_ds = tf.data.Dataset.from_tensor_slices((x_train, y_train)).batch(BATCH_SIZE)\n",
    "test_ds = tf.data.Dataset.from_tensor_slices((x_test, y_test)).batch(BATCH_SIZE)"
   ]
  },
  {
   "cell_type": "code",
   "execution_count": 12,
   "metadata": {},
   "outputs": [],
   "source": [
    "def loss_MC(x, p_x, vae, samples): \n",
    "    \"\"\"\n",
    "        Args:\n",
    "            samples  Samples from latent representation\n",
    "    \"\"\"\n",
    "    batch_size, N, K = samples.shape\n",
    "    \n",
    "    H_q = -vae.log_prob(samples) \n",
    "    Eq_logp = tf.reduce_sum(samples*np.log(1./K), [-1,-2])\n",
    "    KL = -H_q -Eq_logp\n",
    "\n",
    "    lik = tf.reduce_sum(p_x.log_prob(x), -1) # sums over 784 pixels\n",
    "    \n",
    "    #print(\"lik=%.4f KL=%.4f prior=%.4f entropy_q=%.4f\" % \n",
    "    #      ( tf.reduce_mean(lik), tf.reduce_mean(KL), tf.reduce_mean(prior_samples), tf.reduce_mean(entropy_q)))\n",
    "    return tf.reduce_mean(lik), tf.reduce_mean(KL), tf.reduce_mean(Eq_logp), tf.reduce_mean(H_q)"
   ]
  },
  {
   "cell_type": "code",
   "execution_count": 13,
   "metadata": {},
   "outputs": [],
   "source": [
    "np.random.seed(SEED)\n",
    "tf.random.set_seed(SEED)"
   ]
  },
  {
   "cell_type": "code",
   "execution_count": 14,
   "metadata": {
    "colab": {
     "base_uri": "https://localhost:8080/",
     "height": 1000
    },
    "colab_type": "code",
    "id": "-bi8Uc8iiqXV",
    "outputId": "29b7c1df-8a26-45e7-fe1b-8d89084c54dc"
   },
   "outputs": [
    {
     "name": "stdout",
     "output_type": "stream",
     "text": [
      "Running for N=10 K=2\n",
      "[0.2s] epoch=0/iteration=0 loss=545.57 (lik=-545.48 kl=0.09 Eqlogp=-6.93 Hq=6.84)\n",
      "[5.8s] epoch=0/iteration=100 loss=199.43 (lik=-198.65 kl=0.78 Eqlogp=-6.93 Hq=6.15)\n",
      "[11.8s] epoch=0/iteration=200 loss=205.98 (lik=-205.05 kl=0.93 Eqlogp=-6.93 Hq=6.00)\n",
      "Running for N=2 K=10\n",
      "[0.1s] epoch=0/iteration=0 loss=543.40 (lik=-543.10 kl=0.30 Eqlogp=-4.61 Hq=4.31)\n",
      "[7.5s] epoch=0/iteration=100 loss=197.23 (lik=-196.07 kl=1.15 Eqlogp=-4.61 Hq=3.45)\n",
      "[15.1s] epoch=0/iteration=200 loss=209.02 (lik=-207.86 kl=1.15 Eqlogp=-4.61 Hq=3.45)\n",
      "Running for N=5 K=10\n",
      "[0.2s] epoch=0/iteration=0 loss=544.34 (lik=-543.70 kl=0.64 Eqlogp=-11.51 Hq=10.87)\n",
      "[14.2s] epoch=0/iteration=100 loss=190.98 (lik=-188.13 kl=2.85 Eqlogp=-11.51 Hq=8.66)\n",
      "[28.1s] epoch=0/iteration=200 loss=203.62 (lik=-201.57 kl=2.05 Eqlogp=-11.51 Hq=9.47)\n",
      "Running for N=10 K=5\n",
      "[0.2s] epoch=0/iteration=0 loss=545.74 (lik=-545.28 kl=0.46 Eqlogp=-16.09 Hq=15.64)\n",
      "[13.4s] epoch=0/iteration=100 loss=191.50 (lik=-188.37 kl=3.13 Eqlogp=-16.09 Hq=12.97)\n",
      "[26.5s] epoch=0/iteration=200 loss=200.45 (lik=-198.30 kl=2.15 Eqlogp=-16.09 Hq=13.95)\n",
      "Running for N=10 K=20\n",
      "[1.4s] epoch=0/iteration=0 loss=547.08 (lik=-544.43 kl=2.64 Eqlogp=-29.96 Hq=27.31)\n",
      "[105.1s] epoch=0/iteration=100 loss=202.27 (lik=-195.70 kl=6.57 Eqlogp=-29.96 Hq=23.38)\n",
      "[211.4s] epoch=0/iteration=200 loss=207.10 (lik=-200.66 kl=6.44 Eqlogp=-29.96 Hq=23.52)\n",
      "Running for N=20 K=10\n",
      "[1.2s] epoch=0/iteration=0 loss=547.11 (lik=-544.85 kl=2.26 Eqlogp=-46.05 Hq=43.79)\n",
      "[82.9s] epoch=0/iteration=100 loss=194.44 (lik=-187.11 kl=7.33 Eqlogp=-46.05 Hq=38.72)\n",
      "[169.9s] epoch=0/iteration=200 loss=199.51 (lik=-196.95 kl=2.57 Eqlogp=-46.05 Hq=43.48)\n"
     ]
    }
   ],
   "source": [
    "means, stds = [], []\n",
    "\n",
    "MODELS = [(10,2),(2,10),(5,10),(10,5),(10,20),(20,10)]    \n",
    "for N, K in MODELS:\n",
    "    print(\"Running for N=%s K=%s\" % (N, K))\n",
    "    \n",
    "    # init\n",
    "    temperature = tf.Variable(BASE_TEMP, name=\"temperature\") #!\n",
    "    mixture = flows_factorized_mixture.FactorizedDiscreteFlowsMixture(N, K, B, temperature=1.0)\n",
    "\n",
    "    vae = CategoricalVAE(mixture, N, K)\n",
    "    loss = loss_MC\n",
    "    results = []\n",
    "    best_loss, best_vae = float(\"inf\"), None\n",
    "    i = 0\n",
    "\n",
    "    # train for some number of iterations\n",
    "    start = time.time()\n",
    "    for e in range(NUM_ITERS):\n",
    "\n",
    "        losses, liks, kls = [], [], []\n",
    "        for batch_x, labels in train_ds:\n",
    "\n",
    "            with tf.GradientTape() as tape:              \n",
    "                l = 0.\n",
    "                for _ in range(NSAMPLES):\n",
    "                    p_x, samples = vae(batch_x)                       \n",
    "                    lik, KL, Eq_logp, H_q = loss(batch_x, p_x, vae, samples)  \n",
    "                    l += -(lik-KL)                \n",
    "                l /= NSAMPLES;             \n",
    "                lik /= NSAMPLES; KL /= NSAMPLES\n",
    "                losses.append(float(l)); liks.append(float(lik)); kls.append(float(KL));             \n",
    "\n",
    "            g = tape.gradient(l, list(vae.trainable_variables))\n",
    "            optimizer.apply_gradients(zip(g, list(vae.trainable_variables)))\n",
    "            vae.temperature = np.maximum(BASE_TEMP*np.exp(-ANNEAL_RATE*i), MIN_TEMP) \n",
    "\n",
    "            if i%100==0:             \n",
    "                print(\"[%.1fs] epoch=%i/iteration=%i loss=%.2f (lik=%.2f kl=%.2f Eqlogp=%.2f Hq=%.2f)\" % \\\n",
    "                               (time.time()-start, e, i, l, lik, KL, Eq_logp, H_q))\n",
    "            i += 1\n",
    "                \n",
    "            \n",
    "    ls = []\n",
    "    for batch_x, labels in train_ds: break    \n",
    "    for i in range(100):\n",
    "        p_x, samples = vae(batch_x)                       \n",
    "        lik, KL, Eq_logp, H_q = loss(batch_x, p_x, vae, samples)  \n",
    "        l = -(lik-KL)                \n",
    "        ls.append(l)    \n",
    "    means.append(np.mean(ls))\n",
    "    stds.append(np.std(ls))"
   ]
  },
  {
   "cell_type": "code",
   "execution_count": 15,
   "metadata": {},
   "outputs": [],
   "source": [
    "means = np.array(means)\n",
    "stds = np.array(stds)"
   ]
  },
  {
   "cell_type": "code",
   "execution_count": 16,
   "metadata": {},
   "outputs": [],
   "source": [
    "import matplotlib \n",
    "from matplotlib import pyplot as plt"
   ]
  },
  {
   "cell_type": "code",
   "execution_count": 22,
   "metadata": {},
   "outputs": [
    {
     "data": {
      "image/png": "[encoded data removed]",
      "text/plain": [
       "<Figure size 640x480 with 1 Axes>"
      ]
     },
     "metadata": {},
     "output_type": "display_data"
    }
   ],
   "source": [
    "# import sys\n",
    "# sys.path.append(\"../experiments\")\n",
    "# from aux_plt import *\n",
    "#start_plotting(left=0.2)\n",
    "\n",
    "xs=list(range(len(means)))\n",
    "plt.bar(xs, 100*stds / means, color=\"salmon\")\n",
    "plt.xlabel(\"Dimensionality (D) / Cardinality (K)\", fontsize=16)\n",
    "plt.ylabel(r\"Std. dev./$|$Value$|$ [%]\", fontsize=16)\n",
    "plt.xticks(xs, [\"%s/%s\" % (N,K) for N,K in MODELS]);\n",
    "plt.savefig(\"vae_elbo_variance.pdf\")\n",
    "plt.show()"
   ]
  },
  {
   "cell_type": "code",
   "execution_count": 19,
   "metadata": {},
   "outputs": [],
   "source": [
    "#     grads = []\n",
    "#     for batch_x, labels in train_ds: break    \n",
    "#     for i in range(10):\n",
    "#         with tf.GradientTape() as tape:  \n",
    "#             p_x, samples = vae(batch_x)                       \n",
    "#             lik, KL, Eq_logp, H_q = loss(batch_x, p_x, vae, samples)  \n",
    "#             l = -(lik-KL)                \n",
    "#         g = tape.gradient(l, list(vae.trainable_variables))\n",
    "#         grads.append(g)"
   ]
  },
  {
   "cell_type": "code",
   "execution_count": 20,
   "metadata": {},
   "outputs": [],
   "source": [
    "# for i in range(10):\n",
    "#     print(grads[i][0].shape)"
   ]
  },
  {
   "cell_type": "code",
   "execution_count": null,
   "metadata": {},
   "outputs": [],
   "source": []
  }
 ],
 "metadata": {
  "accelerator": "GPU",
  "colab": {
   "name": "CategoricalVAE_TF2.ipynb",
   "provenance": []
  },
  "kernelspec": {
   "display_name": "Python 3",
   "language": "python",
   "name": "python3"
  },
  "language_info": {
   "codemirror_mode": {
    "name": "ipython",
    "version": 3
   },
   "file_extension": ".py",
   "mimetype": "text/x-python",
   "name": "python",
   "nbconvert_exporter": "python",
   "pygments_lexer": "ipython3",
   "version": "3.8.3"
  }
 },
 "nbformat": 4,
 "nbformat_minor": 1
}
