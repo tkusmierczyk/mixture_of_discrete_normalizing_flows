{
 "cells": [
  {
   "cell_type": "markdown",
   "metadata": {},
   "source": [
    "# Variational Learning of Posteriors for Discrete Bayesian Networks using Gumbel-Softmax with relaxed priors\n"
   ]
  },
  {
   "cell_type": "markdown",
   "metadata": {},
   "source": [
    "A Bayes network (BN) represents a joint distribution of random variables factorized according to a directed\n",
    "acyclic graph (DAG) that determines their conditional independence. For BNs with latent nodes determining their joint posterior is difficult even if the structure is known. For sufficiently small networks the true posterior can be evaluated by direct enumeration of all configurations, with exponential cost in the number of latent nodes. We use this as ground truth, and compare against approximated posteriors represented with Gumbel-Softmax."
   ]
  },
  {
   "cell_type": "markdown",
   "metadata": {},
   "source": [
    "## Imports"
   ]
  },
  {
   "cell_type": "code",
   "execution_count": 1,
   "metadata": {},
   "outputs": [],
   "source": [
    "import tensorflow as tf\n",
    "import tensorflow_probability as tfp\n",
    "tfd = tfp.distributions\n",
    "import numpy as np\n",
    "import pandas as pd\n",
    "from collections import Counter\n",
    "\n",
    "import copy\n",
    "import time\n",
    "\n",
    "import gc"
   ]
  },
  {
   "cell_type": "code",
   "execution_count": 2,
   "metadata": {},
   "outputs": [],
   "source": [
    "import sys\n",
    "sys.path.append('../mdnf')"
   ]
  },
  {
   "cell_type": "code",
   "execution_count": 3,
   "metadata": {},
   "outputs": [],
   "source": [
    "import aux\n",
    "import time_profiling\n",
    "import inference\n",
    "\n",
    "import prob_recovery\n",
    "import bayesian_networks"
   ]
  },
  {
   "cell_type": "code",
   "execution_count": 4,
   "metadata": {},
   "outputs": [],
   "source": [
    "import logging\n",
    "logger = logging.getLogger(__name__)\n",
    "logging.basicConfig(level=logging.INFO, format='%(relativeCreated)6d %(message)s')"
   ]
  },
  {
   "cell_type": "code",
   "execution_count": 5,
   "metadata": {},
   "outputs": [
    {
     "name": "stderr",
     "output_type": "stream",
     "text": [
      "  3537 TF version=2.3.0\n"
     ]
    }
   ],
   "source": [
    "logger.info(\"TF version=%s\" % tf.__version__)"
   ]
  },
  {
   "cell_type": "markdown",
   "metadata": {},
   "source": [
    "## Configuration"
   ]
  },
  {
   "cell_type": "code",
   "execution_count": 6,
   "metadata": {},
   "outputs": [
    {
     "name": "stderr",
     "output_type": "stream",
     "text": [
      "  3541 parsing: <-f>\n"
     ]
    }
   ],
   "source": [
    "# can be run as a script with args in format KEY=VAL,KEY=[STRVAL],...\n",
    "args = aux.parse_script_args() "
   ]
  },
  {
   "cell_type": "code",
   "execution_count": 7,
   "metadata": {},
   "outputs": [
    {
     "name": "stderr",
     "output_type": "stream",
     "text": [
      "  3548 Results output file: BN_GS_KL.csv\n"
     ]
    }
   ],
   "source": [
    "SEED = args.get(\"SEED\", 1) # fix randomness\n",
    "\n",
    "# MODEL = args.get(\"MODEL\", \"bnets/cancer.bif\")\n",
    "# EVIDENCE = args.get(\"EVIDENCE\", \"Cancer-True\")\n",
    "MODEL = args.get(\"MODEL\", \"bnets/earthquake.bif\")\n",
    "EVIDENCE = args.get(\"EVIDENCE\", \"MaryCalls-True\")\n",
    "# MODEL = args.get(\"MODEL\", \"bnets/asia.bif\")\n",
    "# EVIDENCE = args.get(\"EVIDENCE\", \"asia-yes/xray-yes\")\n",
    "#MODEL = args.get(\"MODEL\", \"bnets/sachs.bif\")\n",
    "#EVIDENCE = args.get(\"EVIDENCE\", \"Akt-LOW\")\n",
    "# MODEL = args.get(\"MODEL\", \"bnets/hepar2.bif\")\n",
    "# EVIDENCE = args.get(\"EVIDENCE\", \"carcinoma-present\")\n",
    "\n",
    "EVIDENCE = aux.parse_dict(EVIDENCE, entries_separator=\"/\", key2val_separator=\"-\")  \n",
    "\n",
    "OPTIMIZER = args.get(\"OPTIMIZER\", \"RMS\").upper()\n",
    "LR = args.get(\"LR\", 0.01)\n",
    "\n",
    "NSAMPLES = args.get(\"NSAMPLES\", 100) # how many samples to estimate ELBO\n",
    "MAX_NITER = args.get(\"MAX_NITER\", 10001) \n",
    "NOIMPROV_NITER = args.get(\"NOIMPROV_NITER\", MAX_NITER) # stop if no improvement seen in niters\n",
    "\n",
    "# temperature settings\n",
    "PRIORS_TEMP =  args.get(\"PRIORS_TEMP\", 1.0)\n",
    "BASE_TEMP = args.get(\"BASE_TEMP\", 1.0) \n",
    "ANNEAL_RATE = args.get(\"ANNEAL_RATE\", 0.0)\n",
    "MIN_TEMP = args.get(\"MIN_TEMP\", 0.001)\n",
    "\n",
    "ST = bool(args.get(\"ST\", False))\n",
    "\n",
    "# where to save results\n",
    "OUT = args.get(\"OUT\", \"BN_GS_KL.csv\")\n",
    "logger.info(\"Results output file: %s\" % OUT)"
   ]
  },
  {
   "cell_type": "code",
   "execution_count": 20,
   "metadata": {},
   "outputs": [
    {
     "name": "stderr",
     "output_type": "stream",
     "text": [
      "397735 CONFIGURATION:\n",
      " ALG=GSKL\n",
      " SEED=1\n",
      " MODEL=bnets/earthquake.bif\n",
      " EVIDENCE=MaryCalls=True\n",
      " OPTIMIZER=RMS\n",
      " LR=0.01\n",
      " NSAMPLES=100\n",
      " MAX_NITER=10001\n",
      " PRIORS_TEMP=1.0\n",
      " BASE_TEMP=1.0\n",
      " ANNEAL_RATE=0.0\n",
      " MIN_TEMP=0.001\n",
      " ST=0\n",
      " OUT=BN_GS_KL.csv\n"
     ]
    }
   ],
   "source": [
    "COLS = [\"ALG\", \"SEED\", \"MODEL\", \"EVIDENCE\", \"OPTIMIZER\", \"LR\", \"NSAMPLES\", \"MAX_NITER\", \n",
    "               \"PRIORS_TEMP\", \"BASE_TEMP\", \"ANNEAL_RATE\", \"MIN_TEMP\", \"ST\", \"OUT\"]+\\\n",
    "       [\"iteration\", \"temp\", \"loss\", \"loss_evidence\", \"loss_priors\", \"loss_entropy\", \n",
    "                            \"kl1\", \"kl2\", \"nonzeros\", \"time_forward\", \"time_backward\"]\n",
    "\n",
    "CFG = [\"GSKL\", SEED, MODEL, \" \".join(\"%s=%s\" % (k,v) for k,v in EVIDENCE.items()), \n",
    "       OPTIMIZER, LR, NSAMPLES, MAX_NITER, \n",
    "       PRIORS_TEMP, BASE_TEMP, ANNEAL_RATE, MIN_TEMP, int(ST), OUT]\n",
    "\n",
    "logger.info(\"CONFIGURATION:\\n \"+\"\\n \".join(\"%s=%s\" % (name, val) \n",
    "                                     for name, val in zip(COLS, CFG)) )"
   ]
  },
  {
   "cell_type": "markdown",
   "metadata": {},
   "source": [
    "## Network & evidence"
   ]
  },
  {
   "cell_type": "markdown",
   "metadata": {},
   "source": [
    "Load Bayesian network and fix evidence."
   ]
  },
  {
   "cell_type": "code",
   "execution_count": 9,
   "metadata": {},
   "outputs": [
    {
     "name": "stderr",
     "output_type": "stream",
     "text": [
      "  4904 +--------------+------------------+-------------------+------------------+-------------------+\n",
      "| Burglary     | Burglary(True)   | Burglary(True)    | Burglary(False)  | Burglary(False)   |\n",
      "+--------------+------------------+-------------------+------------------+-------------------+\n",
      "| Earthquake   | Earthquake(True) | Earthquake(False) | Earthquake(True) | Earthquake(False) |\n",
      "+--------------+------------------+-------------------+------------------+-------------------+\n",
      "| Alarm(True)  | 0.95             | 0.94              | 0.29             | 0.001             |\n",
      "+--------------+------------------+-------------------+------------------+-------------------+\n",
      "| Alarm(False) | 0.05             | 0.06              | 0.71             | 0.999             |\n",
      "+--------------+------------------+-------------------+------------------+-------------------+\n",
      "  4907 +-----------------+------+\n",
      "| Burglary(True)  | 0.01 |\n",
      "+-----------------+------+\n",
      "| Burglary(False) | 0.99 |\n",
      "+-----------------+------+\n",
      "  4909 +-------------------+------+\n",
      "| Earthquake(True)  | 0.02 |\n",
      "+-------------------+------+\n",
      "| Earthquake(False) | 0.98 |\n",
      "+-------------------+------+\n",
      "  4910 +------------------+-------------+--------------+\n",
      "| Alarm            | Alarm(True) | Alarm(False) |\n",
      "+------------------+-------------+--------------+\n",
      "| JohnCalls(True)  | 0.9         | 0.05         |\n",
      "+------------------+-------------+--------------+\n",
      "| JohnCalls(False) | 0.1         | 0.95         |\n",
      "+------------------+-------------+--------------+\n",
      "  4912 +------------------+-------------+--------------+\n",
      "| Alarm            | Alarm(True) | Alarm(False) |\n",
      "+------------------+-------------+--------------+\n",
      "| MaryCalls(True)  | 0.7         | 0.01         |\n",
      "+------------------+-------------+--------------+\n",
      "| MaryCalls(False) | 0.3         | 0.99         |\n",
      "+------------------+-------------+--------------+\n",
      "  4913 [BayesianNetworkVI] 5 vars with max cardinality=2 => enumeration size=32\n"
     ]
    }
   ],
   "source": [
    "net = bayesian_networks.BayesianNetworkVI(EVIDENCE, MODEL)"
   ]
  },
  {
   "cell_type": "markdown",
   "metadata": {},
   "source": [
    "If possible obtain posterior by enumeration"
   ]
  },
  {
   "cell_type": "code",
   "execution_count": 10,
   "metadata": {},
   "outputs": [],
   "source": [
    "if net.enumeration_size < 10e6:\n",
    "    positions, probs = net.posteriors_via_enumeration()\n",
    "    TARGET = bayesian_networks.as_tensor(positions, probs)\n",
    "else:\n",
    "    TARGET = None"
   ]
  },
  {
   "cell_type": "markdown",
   "metadata": {},
   "source": [
    "# Inference"
   ]
  },
  {
   "cell_type": "markdown",
   "metadata": {},
   "source": [
    "Create an optimizer:"
   ]
  },
  {
   "cell_type": "code",
   "execution_count": 11,
   "metadata": {},
   "outputs": [
    {
     "name": "stderr",
     "output_type": "stream",
     "text": [
      "  4955 optimizer=<tensorflow.python.keras.optimizer_v2.rmsprop.RMSprop object at 0x7fdfb8e92790>\n"
     ]
    }
   ],
   "source": [
    "OPTIMIZERS = {\"RMS\": tf.keras.optimizers.RMSprop,\n",
    "              \"ADAM\": tf.keras.optimizers.Adam}\n",
    "if OPTIMIZER not in OPTIMIZERS: raise ValueError(\"Unknown optimizer!\")\n",
    "optimizer_class = OPTIMIZERS[OPTIMIZER]\n",
    "optimizer = optimizer_class(learning_rate=LR)\n",
    "logger.info(\"optimizer=%s\" % (optimizer))"
   ]
  },
  {
   "cell_type": "code",
   "execution_count": 12,
   "metadata": {},
   "outputs": [
    {
     "name": "stderr",
     "output_type": "stream",
     "text": [
      "  4960 N=4 K=2\n"
     ]
    }
   ],
   "source": [
    "K = net.cardinality # set automatically\n",
    "N = net.N-len(EVIDENCE) \n",
    "logger.info(\"N=%i K=%i\" % (N, K))"
   ]
  },
  {
   "cell_type": "code",
   "execution_count": 13,
   "metadata": {},
   "outputs": [],
   "source": [
    "temperature_annealing = inference.TemperatureAnnealingExp(BASE_TEMP, ANNEAL_RATE, MIN_TEMP)"
   ]
  },
  {
   "cell_type": "code",
   "execution_count": 14,
   "metadata": {},
   "outputs": [],
   "source": [
    "def straight_through_sample(y):\n",
    "    K = y.shape[-1]\n",
    "    y_hard = tf.cast(tf.one_hot(tf.argmax(y,-1), K), y.dtype)\n",
    "    y = tf.stop_gradient(y_hard - y) + y  \n",
    "    return y"
   ]
  },
  {
   "cell_type": "code",
   "execution_count": 15,
   "metadata": {},
   "outputs": [],
   "source": [
    "EPS = 1e-31\n",
    "\n",
    "def kl_divs(q, target, nsamples=max(100000, 5*K**N)):\n",
    "    sample = straight_through_sample( q.sample(nsamples) )\n",
    "    output_probs = prob_recovery.recover_prob_array_tf_one_hot( sample )    \n",
    "    \n",
    "    kl =  np.sum(output_probs * (np.log(output_probs+EPS)-np.log(target+EPS)))\n",
    "    kl2 = np.sum(target * (-np.log(output_probs+EPS)+np.log(target+EPS)))        \n",
    "    nonzeros = len(np.nonzero(output_probs.reshape(-1))[0])\n",
    "    return kl, kl2, nonzeros"
   ]
  },
  {
   "cell_type": "code",
   "execution_count": 16,
   "metadata": {},
   "outputs": [],
   "source": [
    "np.random.seed(SEED)\n",
    "tf.random.set_seed(SEED)"
   ]
  },
  {
   "cell_type": "code",
   "execution_count": 17,
   "metadata": {},
   "outputs": [],
   "source": [
    "logits = tf.Variable(tf.random.normal((N, K)), name=\"logits\", dtype='float32')\n",
    "\n",
    "last_improvement = 0\n",
    "best_loss = 1000000.\n",
    "time_forward = 0\n",
    "time_backward = 0\n",
    "IMPROV_EPS = 0\n",
    "results = []"
   ]
  },
  {
   "cell_type": "code",
   "execution_count": 18,
   "metadata": {},
   "outputs": [
    {
     "name": "stdout",
     "output_type": "stream",
     "text": [
      "0. t_q=1.000 loss=12.285 p(x|z)=-2.984 p(z;t=1.0)=-7.668 H(q)=-1.633 (true: kl1=7.562 kl2=2.467 nz(q)=16)\n",
      "1. t_q=1.000 loss=10.584 p(x|z)=-2.808 p(z;t=1.0)=-6.572 H(q)=-1.203 (true: kl1=7.313 kl2=2.374 nz(q)=16)\n",
      "2. t_q=1.000 loss=10.746 p(x|z)=-2.546 p(z;t=1.0)=-7.216 H(q)=-0.984 (true: kl1=7.171 kl2=2.316 nz(q)=16)\n",
      "3. t_q=1.000 loss=10.889 p(x|z)=-2.816 p(z;t=1.0)=-6.806 H(q)=-1.267 (true: kl1=7.021 kl2=2.272 nz(q)=16)\n",
      "4. t_q=1.000 loss=10.747 p(x|z)=-2.555 p(z;t=1.0)=-7.185 H(q)=-1.007 (true: kl1=6.882 kl2=2.222 nz(q)=16)\n",
      "5. t_q=1.000 loss=10.706 p(x|z)=-2.785 p(z;t=1.0)=-6.733 H(q)=-1.189 (true: kl1=6.825 kl2=2.215 nz(q)=16)\n",
      "6. t_q=1.000 loss=10.002 p(x|z)=-2.494 p(z;t=1.0)=-6.598 H(q)=-0.910 (true: kl1=6.694 kl2=2.165 nz(q)=16)\n",
      "7. t_q=1.000 loss=10.352 p(x|z)=-2.649 p(z;t=1.0)=-6.688 H(q)=-1.016 (true: kl1=6.606 kl2=2.140 nz(q)=16)\n",
      "8. t_q=1.000 loss=10.035 p(x|z)=-2.670 p(z;t=1.0)=-6.340 H(q)=-1.025 (true: kl1=6.509 kl2=2.121 nz(q)=16)\n",
      "9. t_q=1.000 loss=9.690 p(x|z)=-2.623 p(z;t=1.0)=-6.075 H(q)=-0.993 (true: kl1=6.429 kl2=2.110 nz(q)=16)\n",
      "10. t_q=1.000 loss=9.464 p(x|z)=-2.533 p(z;t=1.0)=-5.954 H(q)=-0.977 (true: kl1=6.320 kl2=2.060 nz(q)=16)\n",
      "20. t_q=1.000 loss=8.629 p(x|z)=-2.575 p(z;t=1.0)=-5.007 H(q)=-1.047 (true: kl1=5.593 kl2=1.870 nz(q)=16)\n",
      "30. t_q=1.000 loss=8.232 p(x|z)=-2.357 p(z;t=1.0)=-4.947 H(q)=-0.927 (true: kl1=4.933 kl2=1.736 nz(q)=16)\n",
      "40. t_q=1.000 loss=6.702 p(x|z)=-1.995 p(z;t=1.0)=-4.136 H(q)=-0.572 (true: kl1=4.359 kl2=1.624 nz(q)=16)\n",
      "50. t_q=1.000 loss=7.416 p(x|z)=-2.291 p(z;t=1.0)=-4.326 H(q)=-0.799 (true: kl1=3.792 kl2=1.516 nz(q)=16)\n",
      "100. t_q=1.000 loss=4.255 p(x|z)=-1.524 p(z;t=1.0)=-1.555 H(q)=-1.175 (true: kl1=2.194 kl2=1.234 nz(q)=16)\n",
      "150. t_q=1.000 loss=3.337 p(x|z)=-1.298 p(z;t=1.0)=-0.217 H(q)=-1.821 (true: kl1=1.911 kl2=1.285 nz(q)=16)\n",
      "200. t_q=1.000 loss=3.137 p(x|z)=-1.315 p(z;t=1.0)=0.840 H(q)=-2.661 (true: kl1=1.826 kl2=1.540 nz(q)=16)\n",
      "250. t_q=1.000 loss=3.025 p(x|z)=-1.577 p(z;t=1.0)=1.567 H(q)=-3.015 (true: kl1=1.629 kl2=1.730 nz(q)=16)\n",
      "300. t_q=1.000 loss=2.966 p(x|z)=-1.657 p(z;t=1.0)=2.323 H(q)=-3.633 (true: kl1=1.467 kl2=1.962 nz(q)=16)\n",
      "350. t_q=1.000 loss=3.153 p(x|z)=-1.785 p(z;t=1.0)=2.195 H(q)=-3.563 (true: kl1=1.421 kl2=1.985 nz(q)=16)\n",
      "400. t_q=1.000 loss=2.957 p(x|z)=-1.868 p(z;t=1.0)=2.543 H(q)=-3.632 (true: kl1=1.402 kl2=1.964 nz(q)=16)\n",
      "450. t_q=1.000 loss=2.874 p(x|z)=-1.795 p(z;t=1.0)=2.561 H(q)=-3.640 (true: kl1=1.412 kl2=1.980 nz(q)=16)\n",
      "500. t_q=1.000 loss=3.007 p(x|z)=-1.936 p(z;t=1.0)=2.371 H(q)=-3.442 (true: kl1=1.423 kl2=1.994 nz(q)=16)\n",
      "550. t_q=1.000 loss=2.872 p(x|z)=-1.827 p(z;t=1.0)=2.528 H(q)=-3.573 (true: kl1=1.434 kl2=2.015 nz(q)=16)\n",
      "600. t_q=1.000 loss=2.862 p(x|z)=-1.670 p(z;t=1.0)=2.326 H(q)=-3.518 (true: kl1=1.412 kl2=2.018 nz(q)=16)\n",
      "650. t_q=1.000 loss=2.982 p(x|z)=-1.692 p(z;t=1.0)=2.426 H(q)=-3.716 (true: kl1=1.410 kl2=1.994 nz(q)=16)\n",
      "700. t_q=1.000 loss=3.092 p(x|z)=-1.696 p(z;t=1.0)=2.081 H(q)=-3.476 (true: kl1=1.424 kl2=2.059 nz(q)=16)\n",
      "750. t_q=1.000 loss=3.051 p(x|z)=-1.827 p(z;t=1.0)=1.778 H(q)=-3.001 (true: kl1=1.402 kl2=1.998 nz(q)=16)\n",
      "800. t_q=1.000 loss=3.048 p(x|z)=-1.726 p(z;t=1.0)=2.209 H(q)=-3.530 (true: kl1=1.384 kl2=2.019 nz(q)=16)\n",
      "850. t_q=1.000 loss=3.099 p(x|z)=-1.693 p(z;t=1.0)=2.012 H(q)=-3.418 (true: kl1=1.408 kl2=1.986 nz(q)=16)\n",
      "900. t_q=1.000 loss=2.917 p(x|z)=-1.697 p(z;t=1.0)=2.468 H(q)=-3.688 (true: kl1=1.416 kl2=1.972 nz(q)=16)\n",
      "950. t_q=1.000 loss=2.931 p(x|z)=-1.745 p(z;t=1.0)=2.251 H(q)=-3.436 (true: kl1=1.417 kl2=2.006 nz(q)=16)\n",
      "1000. t_q=1.000 loss=3.007 p(x|z)=-1.788 p(z;t=1.0)=2.423 H(q)=-3.641 (true: kl1=1.397 kl2=2.053 nz(q)=16)\n",
      "1050. t_q=1.000 loss=3.088 p(x|z)=-1.811 p(z;t=1.0)=2.591 H(q)=-3.869 (true: kl1=1.407 kl2=1.995 nz(q)=16)\n",
      "1100. t_q=1.000 loss=2.953 p(x|z)=-1.831 p(z;t=1.0)=2.560 H(q)=-3.682 (true: kl1=1.406 kl2=1.965 nz(q)=16)\n",
      "1150. t_q=1.000 loss=2.965 p(x|z)=-1.716 p(z;t=1.0)=2.526 H(q)=-3.774 (true: kl1=1.387 kl2=2.002 nz(q)=16)\n",
      "1200. t_q=1.000 loss=3.030 p(x|z)=-1.723 p(z;t=1.0)=2.287 H(q)=-3.594 (true: kl1=1.407 kl2=1.980 nz(q)=16)\n",
      "1250. t_q=1.000 loss=3.020 p(x|z)=-1.998 p(z;t=1.0)=2.989 H(q)=-4.012 (true: kl1=1.408 kl2=1.996 nz(q)=16)\n",
      "1300. t_q=1.000 loss=2.888 p(x|z)=-1.895 p(z;t=1.0)=2.962 H(q)=-3.955 (true: kl1=1.404 kl2=2.052 nz(q)=16)\n",
      "1350. t_q=1.000 loss=2.955 p(x|z)=-1.738 p(z;t=1.0)=2.258 H(q)=-3.475 (true: kl1=1.414 kl2=1.972 nz(q)=16)\n",
      "1400. t_q=1.000 loss=3.016 p(x|z)=-1.859 p(z;t=1.0)=2.485 H(q)=-3.641 (true: kl1=1.405 kl2=1.955 nz(q)=16)\n",
      "1450. t_q=1.000 loss=3.182 p(x|z)=-1.673 p(z;t=1.0)=2.136 H(q)=-3.645 (true: kl1=1.417 kl2=1.996 nz(q)=16)\n",
      "1500. t_q=1.000 loss=2.979 p(x|z)=-1.874 p(z;t=1.0)=2.497 H(q)=-3.602 (true: kl1=1.445 kl2=1.986 nz(q)=16)\n",
      "1550. t_q=1.000 loss=3.241 p(x|z)=-1.690 p(z;t=1.0)=2.084 H(q)=-3.634 (true: kl1=1.445 kl2=1.980 nz(q)=16)\n",
      "1600. t_q=1.000 loss=2.878 p(x|z)=-1.712 p(z;t=1.0)=2.377 H(q)=-3.543 (true: kl1=1.430 kl2=2.007 nz(q)=16)\n",
      "1650. t_q=1.000 loss=2.911 p(x|z)=-1.794 p(z;t=1.0)=2.439 H(q)=-3.555 (true: kl1=1.394 kl2=2.039 nz(q)=16)\n",
      "1700. t_q=1.000 loss=2.815 p(x|z)=-1.811 p(z;t=1.0)=2.512 H(q)=-3.516 (true: kl1=1.402 kl2=1.962 nz(q)=16)\n",
      "1750. t_q=1.000 loss=2.962 p(x|z)=-1.743 p(z;t=1.0)=2.649 H(q)=-3.868 (true: kl1=1.419 kl2=2.021 nz(q)=16)\n",
      "1800. t_q=1.000 loss=3.139 p(x|z)=-1.760 p(z;t=1.0)=2.233 H(q)=-3.613 (true: kl1=1.409 kl2=1.997 nz(q)=16)\n",
      "1850. t_q=1.000 loss=3.026 p(x|z)=-1.806 p(z;t=1.0)=2.701 H(q)=-3.920 (true: kl1=1.443 kl2=1.961 nz(q)=16)\n",
      "1900. t_q=1.000 loss=3.230 p(x|z)=-1.679 p(z;t=1.0)=2.081 H(q)=-3.632 (true: kl1=1.417 kl2=1.984 nz(q)=16)\n",
      "1950. t_q=1.000 loss=2.971 p(x|z)=-1.896 p(z;t=1.0)=2.676 H(q)=-3.751 (true: kl1=1.413 kl2=2.010 nz(q)=16)\n",
      "2000. t_q=1.000 loss=2.986 p(x|z)=-1.609 p(z;t=1.0)=2.046 H(q)=-3.424 (true: kl1=1.410 kl2=1.982 nz(q)=16)\n",
      "2050. t_q=1.000 loss=2.848 p(x|z)=-1.791 p(z;t=1.0)=2.834 H(q)=-3.891 (true: kl1=1.435 kl2=2.053 nz(q)=16)\n",
      "2100. t_q=1.000 loss=2.938 p(x|z)=-1.725 p(z;t=1.0)=2.384 H(q)=-3.597 (true: kl1=1.430 kl2=2.005 nz(q)=16)\n",
      "2150. t_q=1.000 loss=2.906 p(x|z)=-1.794 p(z;t=1.0)=1.908 H(q)=-3.020 (true: kl1=1.400 kl2=2.004 nz(q)=16)\n",
      "2200. t_q=1.000 loss=2.976 p(x|z)=-1.883 p(z;t=1.0)=2.527 H(q)=-3.620 (true: kl1=1.441 kl2=1.971 nz(q)=16)\n",
      "2250. t_q=1.000 loss=3.195 p(x|z)=-1.716 p(z;t=1.0)=2.021 H(q)=-3.500 (true: kl1=1.444 kl2=1.968 nz(q)=16)\n",
      "2300. t_q=1.000 loss=2.887 p(x|z)=-1.588 p(z;t=1.0)=2.271 H(q)=-3.571 (true: kl1=1.410 kl2=2.029 nz(q)=16)\n",
      "2350. t_q=1.000 loss=2.765 p(x|z)=-1.894 p(z;t=1.0)=2.586 H(q)=-3.456 (true: kl1=1.417 kl2=2.030 nz(q)=16)\n",
      "2400. t_q=1.000 loss=3.048 p(x|z)=-1.953 p(z;t=1.0)=2.460 H(q)=-3.556 (true: kl1=1.423 kl2=2.002 nz(q)=16)\n",
      "2450. t_q=1.000 loss=2.914 p(x|z)=-1.654 p(z;t=1.0)=2.790 H(q)=-4.051 (true: kl1=1.414 kl2=1.968 nz(q)=16)\n",
      "2500. t_q=1.000 loss=2.957 p(x|z)=-1.934 p(z;t=1.0)=2.456 H(q)=-3.479 (true: kl1=1.410 kl2=1.993 nz(q)=16)\n",
      "2550. t_q=1.000 loss=3.003 p(x|z)=-1.666 p(z;t=1.0)=2.241 H(q)=-3.578 (true: kl1=1.407 kl2=2.044 nz(q)=16)\n",
      "2600. t_q=1.000 loss=2.964 p(x|z)=-1.630 p(z;t=1.0)=2.712 H(q)=-4.046 (true: kl1=1.414 kl2=1.991 nz(q)=16)\n",
      "2650. t_q=1.000 loss=3.055 p(x|z)=-1.812 p(z;t=1.0)=2.355 H(q)=-3.597 (true: kl1=1.389 kl2=1.999 nz(q)=16)\n",
      "2700. t_q=1.000 loss=2.855 p(x|z)=-1.880 p(z;t=1.0)=2.991 H(q)=-3.966 (true: kl1=1.434 kl2=2.009 nz(q)=16)\n",
      "2750. t_q=1.000 loss=2.777 p(x|z)=-1.801 p(z;t=1.0)=2.672 H(q)=-3.649 (true: kl1=1.412 kl2=2.016 nz(q)=16)\n",
      "2800. t_q=1.000 loss=2.929 p(x|z)=-1.672 p(z;t=1.0)=2.524 H(q)=-3.782 (true: kl1=1.415 kl2=2.027 nz(q)=16)\n",
      "2850. t_q=1.000 loss=2.991 p(x|z)=-1.603 p(z;t=1.0)=2.085 H(q)=-3.473 (true: kl1=1.419 kl2=1.974 nz(q)=16)\n",
      "2900. t_q=1.000 loss=3.115 p(x|z)=-1.825 p(z;t=1.0)=2.129 H(q)=-3.419 (true: kl1=1.421 kl2=2.046 nz(q)=16)\n",
      "2950. t_q=1.000 loss=2.934 p(x|z)=-1.650 p(z;t=1.0)=2.196 H(q)=-3.480 (true: kl1=1.462 kl2=2.027 nz(q)=16)\n",
      "3000. t_q=1.000 loss=2.994 p(x|z)=-1.723 p(z;t=1.0)=2.401 H(q)=-3.673 (true: kl1=1.442 kl2=2.001 nz(q)=16)\n",
      "3050. t_q=1.000 loss=2.999 p(x|z)=-1.858 p(z;t=1.0)=2.642 H(q)=-3.783 (true: kl1=1.446 kl2=1.991 nz(q)=16)\n",
      "3100. t_q=1.000 loss=2.961 p(x|z)=-1.774 p(z;t=1.0)=2.245 H(q)=-3.433 (true: kl1=1.421 kl2=1.989 nz(q)=16)\n",
      "3150. t_q=1.000 loss=2.888 p(x|z)=-1.601 p(z;t=1.0)=2.138 H(q)=-3.426 (true: kl1=1.414 kl2=2.001 nz(q)=16)\n"
     ]
    },
    {
     "name": "stdout",
     "output_type": "stream",
     "text": [
      "3200. t_q=1.000 loss=3.034 p(x|z)=-1.738 p(z;t=1.0)=2.269 H(q)=-3.566 (true: kl1=1.429 kl2=1.997 nz(q)=16)\n",
      "3250. t_q=1.000 loss=2.950 p(x|z)=-1.656 p(z;t=1.0)=2.452 H(q)=-3.745 (true: kl1=1.419 kl2=1.997 nz(q)=16)\n",
      "3300. t_q=1.000 loss=3.152 p(x|z)=-1.833 p(z;t=1.0)=2.455 H(q)=-3.774 (true: kl1=1.409 kl2=1.988 nz(q)=16)\n",
      "3350. t_q=1.000 loss=2.969 p(x|z)=-1.753 p(z;t=1.0)=2.170 H(q)=-3.386 (true: kl1=1.409 kl2=2.043 nz(q)=16)\n",
      "3400. t_q=1.000 loss=3.049 p(x|z)=-1.673 p(z;t=1.0)=2.612 H(q)=-3.988 (true: kl1=1.429 kl2=1.967 nz(q)=16)\n",
      "3450. t_q=1.000 loss=3.005 p(x|z)=-1.699 p(z;t=1.0)=2.230 H(q)=-3.535 (true: kl1=1.395 kl2=1.963 nz(q)=16)\n",
      "3500. t_q=1.000 loss=3.058 p(x|z)=-1.676 p(z;t=1.0)=2.260 H(q)=-3.642 (true: kl1=1.404 kl2=1.988 nz(q)=16)\n",
      "3550. t_q=1.000 loss=2.905 p(x|z)=-1.759 p(z;t=1.0)=3.068 H(q)=-4.214 (true: kl1=1.424 kl2=2.023 nz(q)=16)\n",
      "3600. t_q=1.000 loss=3.004 p(x|z)=-1.694 p(z;t=1.0)=2.047 H(q)=-3.356 (true: kl1=1.412 kl2=1.996 nz(q)=16)\n",
      "3650. t_q=1.000 loss=3.151 p(x|z)=-1.795 p(z;t=1.0)=2.375 H(q)=-3.731 (true: kl1=1.396 kl2=2.007 nz(q)=16)\n",
      "3700. t_q=1.000 loss=2.875 p(x|z)=-1.777 p(z;t=1.0)=2.232 H(q)=-3.330 (true: kl1=1.405 kl2=1.999 nz(q)=16)\n",
      "3750. t_q=1.000 loss=2.977 p(x|z)=-1.713 p(z;t=1.0)=2.387 H(q)=-3.651 (true: kl1=1.429 kl2=1.995 nz(q)=16)\n",
      "3800. t_q=1.000 loss=2.983 p(x|z)=-1.730 p(z;t=1.0)=2.528 H(q)=-3.782 (true: kl1=1.395 kl2=1.961 nz(q)=16)\n",
      "3850. t_q=1.000 loss=3.059 p(x|z)=-1.689 p(z;t=1.0)=2.448 H(q)=-3.819 (true: kl1=1.403 kl2=1.997 nz(q)=16)\n",
      "3900. t_q=1.000 loss=2.988 p(x|z)=-1.869 p(z;t=1.0)=2.786 H(q)=-3.906 (true: kl1=1.397 kl2=2.014 nz(q)=16)\n",
      "3950. t_q=1.000 loss=3.063 p(x|z)=-1.659 p(z;t=1.0)=2.084 H(q)=-3.487 (true: kl1=1.411 kl2=1.989 nz(q)=16)\n",
      "4000. t_q=1.000 loss=3.149 p(x|z)=-1.709 p(z;t=1.0)=2.064 H(q)=-3.505 (true: kl1=1.411 kl2=2.012 nz(q)=16)\n",
      "4050. t_q=1.000 loss=2.863 p(x|z)=-1.681 p(z;t=1.0)=2.274 H(q)=-3.456 (true: kl1=1.451 kl2=1.977 nz(q)=16)\n",
      "4100. t_q=1.000 loss=3.088 p(x|z)=-1.863 p(z;t=1.0)=2.462 H(q)=-3.687 (true: kl1=1.408 kl2=2.002 nz(q)=16)\n",
      "4150. t_q=1.000 loss=2.907 p(x|z)=-1.913 p(z;t=1.0)=2.808 H(q)=-3.803 (true: kl1=1.403 kl2=2.009 nz(q)=16)\n",
      "4200. t_q=1.000 loss=2.839 p(x|z)=-1.730 p(z;t=1.0)=2.699 H(q)=-3.809 (true: kl1=1.418 kl2=2.005 nz(q)=16)\n",
      "4250. t_q=1.000 loss=2.869 p(x|z)=-1.795 p(z;t=1.0)=2.421 H(q)=-3.495 (true: kl1=1.427 kl2=2.010 nz(q)=16)\n",
      "4300. t_q=1.000 loss=2.949 p(x|z)=-1.788 p(z;t=1.0)=2.326 H(q)=-3.486 (true: kl1=1.413 kl2=2.033 nz(q)=16)\n",
      "4350. t_q=1.000 loss=2.967 p(x|z)=-1.779 p(z;t=1.0)=2.287 H(q)=-3.474 (true: kl1=1.421 kl2=1.956 nz(q)=16)\n",
      "4400. t_q=1.000 loss=3.060 p(x|z)=-1.761 p(z;t=1.0)=2.503 H(q)=-3.801 (true: kl1=1.400 kl2=2.013 nz(q)=16)\n",
      "4450. t_q=1.000 loss=2.902 p(x|z)=-1.654 p(z;t=1.0)=2.222 H(q)=-3.470 (true: kl1=1.437 kl2=2.027 nz(q)=16)\n",
      "4500. t_q=1.000 loss=3.066 p(x|z)=-1.702 p(z;t=1.0)=2.501 H(q)=-3.865 (true: kl1=1.432 kl2=2.010 nz(q)=16)\n",
      "4550. t_q=1.000 loss=3.087 p(x|z)=-1.835 p(z;t=1.0)=2.396 H(q)=-3.648 (true: kl1=1.396 kl2=2.024 nz(q)=16)\n",
      "4600. t_q=1.000 loss=3.019 p(x|z)=-1.578 p(z;t=1.0)=2.108 H(q)=-3.550 (true: kl1=1.415 kl2=2.020 nz(q)=16)\n",
      "4650. t_q=1.000 loss=3.262 p(x|z)=-1.981 p(z;t=1.0)=2.381 H(q)=-3.662 (true: kl1=1.410 kl2=1.975 nz(q)=16)\n",
      "4700. t_q=1.000 loss=3.039 p(x|z)=-1.808 p(z;t=1.0)=2.377 H(q)=-3.608 (true: kl1=1.391 kl2=1.995 nz(q)=16)\n",
      "4750. t_q=1.000 loss=2.997 p(x|z)=-1.875 p(z;t=1.0)=2.551 H(q)=-3.673 (true: kl1=1.422 kl2=2.001 nz(q)=16)\n",
      "4800. t_q=1.000 loss=2.999 p(x|z)=-1.589 p(z;t=1.0)=2.240 H(q)=-3.649 (true: kl1=1.410 kl2=2.001 nz(q)=16)\n",
      "4850. t_q=1.000 loss=3.053 p(x|z)=-1.723 p(z;t=1.0)=2.437 H(q)=-3.767 (true: kl1=1.391 kl2=1.979 nz(q)=16)\n",
      "4900. t_q=1.000 loss=2.998 p(x|z)=-1.797 p(z;t=1.0)=2.015 H(q)=-3.216 (true: kl1=1.430 kl2=1.982 nz(q)=16)\n",
      "4950. t_q=1.000 loss=3.002 p(x|z)=-1.721 p(z;t=1.0)=2.159 H(q)=-3.440 (true: kl1=1.404 kl2=2.014 nz(q)=16)\n",
      "5000. t_q=1.000 loss=2.890 p(x|z)=-1.814 p(z;t=1.0)=2.619 H(q)=-3.696 (true: kl1=1.425 kl2=2.050 nz(q)=16)\n",
      "5050. t_q=1.000 loss=2.980 p(x|z)=-1.679 p(z;t=1.0)=2.696 H(q)=-3.997 (true: kl1=1.377 kl2=2.026 nz(q)=16)\n",
      "5100. t_q=1.000 loss=3.048 p(x|z)=-1.791 p(z;t=1.0)=2.612 H(q)=-3.868 (true: kl1=1.391 kl2=2.030 nz(q)=16)\n",
      "5150. t_q=1.000 loss=3.117 p(x|z)=-1.701 p(z;t=1.0)=2.044 H(q)=-3.460 (true: kl1=1.408 kl2=1.970 nz(q)=16)\n",
      "5200. t_q=1.000 loss=3.070 p(x|z)=-1.666 p(z;t=1.0)=2.281 H(q)=-3.685 (true: kl1=1.419 kl2=2.021 nz(q)=16)\n",
      "5250. t_q=1.000 loss=2.895 p(x|z)=-1.705 p(z;t=1.0)=2.260 H(q)=-3.450 (true: kl1=1.446 kl2=2.014 nz(q)=16)\n",
      "5300. t_q=1.000 loss=3.021 p(x|z)=-1.884 p(z;t=1.0)=2.857 H(q)=-3.994 (true: kl1=1.404 kl2=2.027 nz(q)=16)\n",
      "5350. t_q=1.000 loss=2.850 p(x|z)=-1.565 p(z;t=1.0)=2.357 H(q)=-3.642 (true: kl1=1.398 kl2=2.013 nz(q)=16)\n",
      "5400. t_q=1.000 loss=2.964 p(x|z)=-1.711 p(z;t=1.0)=2.330 H(q)=-3.583 (true: kl1=1.416 kl2=1.998 nz(q)=16)\n",
      "5450. t_q=1.000 loss=3.010 p(x|z)=-1.654 p(z;t=1.0)=1.986 H(q)=-3.342 (true: kl1=1.437 kl2=2.043 nz(q)=16)\n",
      "5500. t_q=1.000 loss=3.013 p(x|z)=-1.712 p(z;t=1.0)=2.235 H(q)=-3.536 (true: kl1=1.421 kl2=2.056 nz(q)=16)\n",
      "5550. t_q=1.000 loss=2.936 p(x|z)=-1.767 p(z;t=1.0)=2.305 H(q)=-3.473 (true: kl1=1.424 kl2=1.997 nz(q)=16)\n",
      "5600. t_q=1.000 loss=2.839 p(x|z)=-1.815 p(z;t=1.0)=2.375 H(q)=-3.399 (true: kl1=1.380 kl2=1.956 nz(q)=16)\n",
      "5650. t_q=1.000 loss=3.083 p(x|z)=-1.724 p(z;t=1.0)=2.191 H(q)=-3.550 (true: kl1=1.404 kl2=2.024 nz(q)=16)\n",
      "5700. t_q=1.000 loss=2.952 p(x|z)=-1.743 p(z;t=1.0)=2.582 H(q)=-3.791 (true: kl1=1.414 kl2=1.954 nz(q)=16)\n",
      "5750. t_q=1.000 loss=3.044 p(x|z)=-1.583 p(z;t=1.0)=1.952 H(q)=-3.413 (true: kl1=1.412 kl2=2.022 nz(q)=16)\n",
      "5800. t_q=1.000 loss=3.026 p(x|z)=-1.769 p(z;t=1.0)=2.311 H(q)=-3.568 (true: kl1=1.407 kl2=1.983 nz(q)=16)\n",
      "5850. t_q=1.000 loss=3.000 p(x|z)=-1.805 p(z;t=1.0)=2.452 H(q)=-3.647 (true: kl1=1.411 kl2=2.065 nz(q)=16)\n",
      "5900. t_q=1.000 loss=2.932 p(x|z)=-1.697 p(z;t=1.0)=2.366 H(q)=-3.600 (true: kl1=1.399 kl2=1.947 nz(q)=16)\n",
      "5950. t_q=1.000 loss=3.005 p(x|z)=-1.802 p(z;t=1.0)=2.562 H(q)=-3.765 (true: kl1=1.398 kl2=1.997 nz(q)=16)\n",
      "6000. t_q=1.000 loss=2.862 p(x|z)=-1.745 p(z;t=1.0)=2.536 H(q)=-3.653 (true: kl1=1.419 kl2=2.029 nz(q)=16)\n",
      "6050. t_q=1.000 loss=3.028 p(x|z)=-1.680 p(z;t=1.0)=2.726 H(q)=-4.075 (true: kl1=1.398 kl2=1.990 nz(q)=16)\n",
      "6100. t_q=1.000 loss=2.969 p(x|z)=-1.715 p(z;t=1.0)=2.366 H(q)=-3.621 (true: kl1=1.407 kl2=2.018 nz(q)=16)\n",
      "6150. t_q=1.000 loss=2.892 p(x|z)=-1.816 p(z;t=1.0)=2.798 H(q)=-3.874 (true: kl1=1.403 kl2=2.023 nz(q)=16)\n",
      "6200. t_q=1.000 loss=3.068 p(x|z)=-1.640 p(z;t=1.0)=2.021 H(q)=-3.449 (true: kl1=1.421 kl2=1.987 nz(q)=16)\n",
      "6250. t_q=1.000 loss=3.000 p(x|z)=-1.745 p(z;t=1.0)=2.517 H(q)=-3.773 (true: kl1=1.412 kl2=2.021 nz(q)=16)\n",
      "6300. t_q=1.000 loss=2.969 p(x|z)=-1.789 p(z;t=1.0)=2.488 H(q)=-3.668 (true: kl1=1.398 kl2=1.971 nz(q)=16)\n",
      "6350. t_q=1.000 loss=3.053 p(x|z)=-1.817 p(z;t=1.0)=2.533 H(q)=-3.770 (true: kl1=1.416 kl2=2.018 nz(q)=16)\n",
      "6400. t_q=1.000 loss=2.792 p(x|z)=-1.822 p(z;t=1.0)=2.739 H(q)=-3.710 (true: kl1=1.418 kl2=2.024 nz(q)=16)\n",
      "6450. t_q=1.000 loss=2.860 p(x|z)=-1.695 p(z;t=1.0)=2.388 H(q)=-3.553 (true: kl1=1.424 kl2=2.014 nz(q)=16)\n",
      "6500. t_q=1.000 loss=3.047 p(x|z)=-1.789 p(z;t=1.0)=2.368 H(q)=-3.626 (true: kl1=1.407 kl2=2.006 nz(q)=16)\n",
      "6550. t_q=1.000 loss=3.132 p(x|z)=-1.733 p(z;t=1.0)=2.251 H(q)=-3.650 (true: kl1=1.397 kl2=2.004 nz(q)=16)\n",
      "6600. t_q=1.000 loss=3.059 p(x|z)=-1.942 p(z;t=1.0)=2.735 H(q)=-3.852 (true: kl1=1.398 kl2=1.984 nz(q)=16)\n",
      "6650. t_q=1.000 loss=2.835 p(x|z)=-1.660 p(z;t=1.0)=2.445 H(q)=-3.620 (true: kl1=1.446 kl2=2.000 nz(q)=16)\n",
      "6700. t_q=1.000 loss=3.051 p(x|z)=-1.765 p(z;t=1.0)=2.131 H(q)=-3.417 (true: kl1=1.426 kl2=1.985 nz(q)=16)\n",
      "6750. t_q=1.000 loss=3.061 p(x|z)=-1.718 p(z;t=1.0)=2.256 H(q)=-3.598 (true: kl1=1.411 kl2=1.999 nz(q)=16)\n",
      "6800. t_q=1.000 loss=2.966 p(x|z)=-1.685 p(z;t=1.0)=2.721 H(q)=-4.002 (true: kl1=1.375 kl2=2.007 nz(q)=16)\n",
      "6850. t_q=1.000 loss=3.076 p(x|z)=-1.709 p(z;t=1.0)=2.010 H(q)=-3.376 (true: kl1=1.409 kl2=2.013 nz(q)=16)\n",
      "6900. t_q=1.000 loss=2.929 p(x|z)=-1.673 p(z;t=1.0)=2.088 H(q)=-3.344 (true: kl1=1.418 kl2=1.974 nz(q)=16)\n",
      "6950. t_q=1.000 loss=3.048 p(x|z)=-1.738 p(z;t=1.0)=2.458 H(q)=-3.768 (true: kl1=1.442 kl2=2.017 nz(q)=16)\n",
      "7000. t_q=1.000 loss=3.077 p(x|z)=-1.813 p(z;t=1.0)=2.668 H(q)=-3.932 (true: kl1=1.423 kl2=2.018 nz(q)=16)\n"
     ]
    },
    {
     "name": "stdout",
     "output_type": "stream",
     "text": [
      "7050. t_q=1.000 loss=2.929 p(x|z)=-1.848 p(z;t=1.0)=2.587 H(q)=-3.668 (true: kl1=1.399 kl2=2.006 nz(q)=16)\n",
      "7100. t_q=1.000 loss=2.950 p(x|z)=-1.801 p(z;t=1.0)=2.263 H(q)=-3.412 (true: kl1=1.401 kl2=1.959 nz(q)=16)\n",
      "7150. t_q=1.000 loss=2.883 p(x|z)=-1.642 p(z;t=1.0)=2.446 H(q)=-3.686 (true: kl1=1.424 kl2=2.014 nz(q)=16)\n",
      "7200. t_q=1.000 loss=2.928 p(x|z)=-1.795 p(z;t=1.0)=2.228 H(q)=-3.361 (true: kl1=1.396 kl2=1.964 nz(q)=16)\n",
      "7250. t_q=1.000 loss=2.967 p(x|z)=-1.600 p(z;t=1.0)=2.318 H(q)=-3.685 (true: kl1=1.415 kl2=2.025 nz(q)=16)\n",
      "7300. t_q=1.000 loss=2.989 p(x|z)=-1.848 p(z;t=1.0)=2.386 H(q)=-3.526 (true: kl1=1.410 kl2=2.033 nz(q)=16)\n",
      "7350. t_q=1.000 loss=2.980 p(x|z)=-1.812 p(z;t=1.0)=2.487 H(q)=-3.656 (true: kl1=1.404 kl2=1.981 nz(q)=16)\n",
      "7400. t_q=1.000 loss=2.909 p(x|z)=-1.535 p(z;t=1.0)=2.042 H(q)=-3.416 (true: kl1=1.398 kl2=1.990 nz(q)=16)\n",
      "7450. t_q=1.000 loss=3.119 p(x|z)=-1.829 p(z;t=1.0)=2.136 H(q)=-3.427 (true: kl1=1.403 kl2=1.979 nz(q)=16)\n",
      "7500. t_q=1.000 loss=3.046 p(x|z)=-1.861 p(z;t=1.0)=2.034 H(q)=-3.219 (true: kl1=1.394 kl2=1.988 nz(q)=16)\n",
      "7550. t_q=1.000 loss=3.043 p(x|z)=-1.846 p(z;t=1.0)=2.314 H(q)=-3.511 (true: kl1=1.395 kl2=2.020 nz(q)=16)\n",
      "7600. t_q=1.000 loss=2.975 p(x|z)=-1.850 p(z;t=1.0)=2.239 H(q)=-3.364 (true: kl1=1.422 kl2=2.020 nz(q)=16)\n",
      "7650. t_q=1.000 loss=2.972 p(x|z)=-1.926 p(z;t=1.0)=2.310 H(q)=-3.357 (true: kl1=1.396 kl2=1.999 nz(q)=16)\n",
      "7700. t_q=1.000 loss=3.021 p(x|z)=-1.889 p(z;t=1.0)=2.703 H(q)=-3.835 (true: kl1=1.411 kl2=2.038 nz(q)=16)\n",
      "7750. t_q=1.000 loss=3.056 p(x|z)=-1.754 p(z;t=1.0)=2.369 H(q)=-3.672 (true: kl1=1.396 kl2=2.039 nz(q)=16)\n",
      "7800. t_q=1.000 loss=2.829 p(x|z)=-1.729 p(z;t=1.0)=2.285 H(q)=-3.384 (true: kl1=1.403 kl2=2.005 nz(q)=16)\n",
      "7850. t_q=1.000 loss=3.184 p(x|z)=-1.953 p(z;t=1.0)=2.099 H(q)=-3.331 (true: kl1=1.410 kl2=2.033 nz(q)=16)\n",
      "7900. t_q=1.000 loss=2.992 p(x|z)=-1.862 p(z;t=1.0)=2.689 H(q)=-3.819 (true: kl1=1.436 kl2=1.981 nz(q)=16)\n",
      "7950. t_q=1.000 loss=2.928 p(x|z)=-1.680 p(z;t=1.0)=1.851 H(q)=-3.099 (true: kl1=1.432 kl2=1.941 nz(q)=16)\n",
      "8000. t_q=1.000 loss=3.060 p(x|z)=-1.740 p(z;t=1.0)=2.671 H(q)=-3.992 (true: kl1=1.427 kl2=1.993 nz(q)=16)\n",
      "8050. t_q=1.000 loss=3.026 p(x|z)=-1.735 p(z;t=1.0)=2.404 H(q)=-3.695 (true: kl1=1.410 kl2=1.988 nz(q)=16)\n",
      "8100. t_q=1.000 loss=2.989 p(x|z)=-1.598 p(z;t=1.0)=2.251 H(q)=-3.641 (true: kl1=1.391 kl2=1.994 nz(q)=16)\n",
      "8150. t_q=1.000 loss=3.003 p(x|z)=-1.788 p(z;t=1.0)=2.516 H(q)=-3.731 (true: kl1=1.416 kl2=2.019 nz(q)=16)\n",
      "8200. t_q=1.000 loss=2.748 p(x|z)=-1.767 p(z;t=1.0)=2.607 H(q)=-3.588 (true: kl1=1.413 kl2=1.993 nz(q)=16)\n",
      "8250. t_q=1.000 loss=2.938 p(x|z)=-1.915 p(z;t=1.0)=2.782 H(q)=-3.805 (true: kl1=1.410 kl2=1.967 nz(q)=16)\n",
      "8300. t_q=1.000 loss=2.849 p(x|z)=-1.721 p(z;t=1.0)=2.211 H(q)=-3.339 (true: kl1=1.429 kl2=2.028 nz(q)=16)\n",
      "8350. t_q=1.000 loss=3.085 p(x|z)=-1.692 p(z;t=1.0)=2.172 H(q)=-3.564 (true: kl1=1.408 kl2=1.971 nz(q)=16)\n",
      "8400. t_q=1.000 loss=2.923 p(x|z)=-1.768 p(z;t=1.0)=2.239 H(q)=-3.393 (true: kl1=1.422 kl2=2.004 nz(q)=16)\n",
      "8450. t_q=1.000 loss=3.147 p(x|z)=-1.907 p(z;t=1.0)=2.108 H(q)=-3.348 (true: kl1=1.426 kl2=1.976 nz(q)=16)\n",
      "8500. t_q=1.000 loss=3.057 p(x|z)=-1.549 p(z;t=1.0)=2.242 H(q)=-3.749 (true: kl1=1.428 kl2=1.992 nz(q)=16)\n",
      "8550. t_q=1.000 loss=2.945 p(x|z)=-1.737 p(z;t=1.0)=2.140 H(q)=-3.348 (true: kl1=1.440 kl2=1.963 nz(q)=16)\n",
      "8600. t_q=1.000 loss=3.030 p(x|z)=-1.820 p(z;t=1.0)=2.461 H(q)=-3.671 (true: kl1=1.410 kl2=1.984 nz(q)=16)\n",
      "8650. t_q=1.000 loss=2.872 p(x|z)=-1.744 p(z;t=1.0)=2.272 H(q)=-3.400 (true: kl1=1.414 kl2=2.370 nz(q)=15)\n",
      "8700. t_q=1.000 loss=2.822 p(x|z)=-1.844 p(z;t=1.0)=2.672 H(q)=-3.650 (true: kl1=1.386 kl2=2.037 nz(q)=16)\n",
      "8750. t_q=1.000 loss=3.028 p(x|z)=-1.718 p(z;t=1.0)=2.660 H(q)=-3.970 (true: kl1=1.407 kl2=1.989 nz(q)=16)\n",
      "8800. t_q=1.000 loss=3.008 p(x|z)=-1.560 p(z;t=1.0)=2.145 H(q)=-3.593 (true: kl1=1.425 kl2=2.029 nz(q)=16)\n",
      "8850. t_q=1.000 loss=3.026 p(x|z)=-1.824 p(z;t=1.0)=2.556 H(q)=-3.759 (true: kl1=1.412 kl2=2.000 nz(q)=16)\n",
      "8900. t_q=1.000 loss=2.873 p(x|z)=-1.540 p(z;t=1.0)=2.139 H(q)=-3.473 (true: kl1=1.416 kl2=2.009 nz(q)=16)\n",
      "8950. t_q=1.000 loss=3.016 p(x|z)=-1.803 p(z;t=1.0)=2.308 H(q)=-3.521 (true: kl1=1.403 kl2=2.047 nz(q)=16)\n",
      "9000. t_q=1.000 loss=3.375 p(x|z)=-1.983 p(z;t=1.0)=2.654 H(q)=-4.046 (true: kl1=1.413 kl2=2.040 nz(q)=16)\n",
      "9050. t_q=1.000 loss=2.893 p(x|z)=-1.778 p(z;t=1.0)=2.219 H(q)=-3.334 (true: kl1=1.371 kl2=1.993 nz(q)=16)\n",
      "9100. t_q=1.000 loss=3.035 p(x|z)=-1.709 p(z;t=1.0)=2.491 H(q)=-3.818 (true: kl1=1.401 kl2=2.048 nz(q)=16)\n",
      "9150. t_q=1.000 loss=3.119 p(x|z)=-1.680 p(z;t=1.0)=2.656 H(q)=-4.095 (true: kl1=1.409 kl2=2.003 nz(q)=16)\n",
      "9200. t_q=1.000 loss=2.993 p(x|z)=-1.938 p(z;t=1.0)=2.748 H(q)=-3.803 (true: kl1=1.392 kl2=2.017 nz(q)=16)\n",
      "9250. t_q=1.000 loss=2.868 p(x|z)=-1.655 p(z;t=1.0)=2.187 H(q)=-3.401 (true: kl1=1.415 kl2=2.006 nz(q)=16)\n",
      "9300. t_q=1.000 loss=3.074 p(x|z)=-1.692 p(z;t=1.0)=2.290 H(q)=-3.672 (true: kl1=1.417 kl2=1.988 nz(q)=16)\n",
      "9350. t_q=1.000 loss=3.037 p(x|z)=-1.559 p(z;t=1.0)=2.336 H(q)=-3.814 (true: kl1=1.438 kl2=1.979 nz(q)=16)\n",
      "9400. t_q=1.000 loss=2.931 p(x|z)=-1.680 p(z;t=1.0)=2.344 H(q)=-3.596 (true: kl1=1.405 kl2=2.021 nz(q)=16)\n",
      "9450. t_q=1.000 loss=3.038 p(x|z)=-1.782 p(z;t=1.0)=2.408 H(q)=-3.664 (true: kl1=1.418 kl2=1.996 nz(q)=16)\n",
      "9500. t_q=1.000 loss=3.014 p(x|z)=-1.751 p(z;t=1.0)=2.295 H(q)=-3.558 (true: kl1=1.429 kl2=2.004 nz(q)=16)\n",
      "9550. t_q=1.000 loss=2.917 p(x|z)=-1.798 p(z;t=1.0)=2.266 H(q)=-3.385 (true: kl1=1.426 kl2=1.973 nz(q)=16)\n",
      "9600. t_q=1.000 loss=2.923 p(x|z)=-1.800 p(z;t=1.0)=2.738 H(q)=-3.861 (true: kl1=1.404 kl2=2.023 nz(q)=16)\n",
      "9650. t_q=1.000 loss=2.913 p(x|z)=-1.570 p(z;t=1.0)=2.330 H(q)=-3.673 (true: kl1=1.418 kl2=1.981 nz(q)=16)\n",
      "9700. t_q=1.000 loss=2.941 p(x|z)=-1.730 p(z;t=1.0)=2.687 H(q)=-3.898 (true: kl1=1.411 kl2=2.051 nz(q)=16)\n",
      "9750. t_q=1.000 loss=2.899 p(x|z)=-1.788 p(z;t=1.0)=2.854 H(q)=-3.966 (true: kl1=1.407 kl2=2.005 nz(q)=16)\n",
      "9800. t_q=1.000 loss=2.959 p(x|z)=-1.692 p(z;t=1.0)=2.288 H(q)=-3.555 (true: kl1=1.402 kl2=1.958 nz(q)=16)\n",
      "9850. t_q=1.000 loss=2.879 p(x|z)=-1.738 p(z;t=1.0)=2.448 H(q)=-3.589 (true: kl1=1.415 kl2=1.984 nz(q)=16)\n",
      "9900. t_q=1.000 loss=2.858 p(x|z)=-1.788 p(z;t=1.0)=2.659 H(q)=-3.728 (true: kl1=1.427 kl2=2.003 nz(q)=16)\n",
      "9950. t_q=1.000 loss=3.079 p(x|z)=-1.730 p(z;t=1.0)=2.490 H(q)=-3.838 (true: kl1=1.427 kl2=1.992 nz(q)=16)\n",
      "10000. t_q=1.000 loss=2.985 p(x|z)=-1.748 p(z;t=1.0)=2.361 H(q)=-3.598 (true: kl1=1.407 kl2=2.010 nz(q)=16)\n"
     ]
    }
   ],
   "source": [
    "for iteration in range(MAX_NITER):\n",
    "\n",
    "    start_op_time = time.time()\n",
    "    with tf.GradientTape() as tape:\n",
    "        temp = float(temperature_annealing(iteration))\n",
    "        q = tfd.RelaxedOneHotCategorical(temp, logits=logits)\n",
    "\n",
    "        sample = q.sample(NSAMPLES)\n",
    "\n",
    "        entropy = -tf.reduce_mean(tf.reduce_sum(q.log_prob(sample + 1e-31), -1))  # !                \n",
    "        sample = straight_through_sample(sample) if ST else sample\n",
    "        sample = net.set_evidence(sample)\n",
    "        evidence = tf.reduce_mean(net.log_prob_evidence(sample))\n",
    "        priors = tf.reduce_mean(net.log_relaxed_prob_priors(sample, PRIORS_TEMP, eps=1e-10))\n",
    "\n",
    "        elbo = entropy + evidence + priors\n",
    "        loss = -elbo\n",
    "\n",
    "    time_forward += time.time() - start_op_time\n",
    "\n",
    "    improved = loss + IMPROV_EPS < best_loss\n",
    "    if improved:  # Track the best solution\n",
    "        last_improvement = iteration\n",
    "\n",
    "    # must be ivoked before approximation update\n",
    "    if iteration%50 == 0 or (iteration < 50 and iteration%10 == 0) or iteration<10:\n",
    "        kl1, kl2, nonzeros = kl_divs(q, TARGET)        \n",
    "        print(\"%i. t_q=%.3f loss=%.3f p(x|z)=%.3f p(z;t=%s)=%.3f H(q)=%.3f (true: kl1=%.3f kl2=%.3f nz(q)=%d)\" % \\\n",
    "              (iteration, temp, loss.numpy(), evidence, PRIORS_TEMP, priors, entropy, kl1, kl2, nonzeros))\n",
    "        \n",
    "        results.append(CFG+[iteration, temp, float(loss), float(evidence), float(priors), float(entropy), \n",
    "                            float(kl1), float(kl2), nonzeros, time_forward, time_backward])        \n",
    "        if iteration%1000 == 0:\n",
    "            pd.DataFrame(results).rename(columns=dict(enumerate(COLS))).to_csv(OUT, header=False, index=False)\n",
    "        \n",
    "    start_op_time = time.time()\n",
    "    grads = tape.gradient(loss, q.trainable_variables)\n",
    "    optimizer.apply_gradients(zip(grads, q.trainable_variables))\n",
    "    logits = q.logits\n",
    "    time_backward += time.time() - start_op_time\n",
    "\n",
    "#     if iteration >= 0 and NOIMPROV_NITER < iteration - last_improvement:\n",
    "#         logger.info(\"[VariationalInference.fit] No improvement in recent %i iterations. Stop.\" % \\\n",
    "#                     self.noimprov_niter)\n",
    "#         break"
   ]
  },
  {
   "cell_type": "code",
   "execution_count": 19,
   "metadata": {},
   "outputs": [
    {
     "name": "stdout",
     "output_type": "stream",
     "text": [
      "Compare recovered vs target distribution (on values > eps):\n",
      "[0.    0.    0.002 0.005 0.003 0.007 0.084 0.18  0.    0.    0.006 0.012\n",
      " 0.008 0.017 0.215 0.46 ] \n",
      " [0.006 0.001 0.275 0.031 0.171 0.019 0.029 0.003 0.    0.    0.    0.\n",
      " 0.    0.006 0.023 0.436]\n"
     ]
    }
   ],
   "source": [
    "print(\"Compare recovered vs target distribution (on values > eps):\")\n",
    "output_probs = prob_recovery.recover_prob_array_tf_one_hot(straight_through_sample(q.sample(1000000)))\n",
    "mask=(output_probs+TARGET>1e-6)\n",
    "print(np.round(output_probs[mask].reshape(-1), 3), \"\\n\", np.round(TARGET[mask].reshape(-1), 3))"
   ]
  },
  {
   "cell_type": "code",
   "execution_count": null,
   "metadata": {},
   "outputs": [],
   "source": []
  }
 ],
 "metadata": {
  "kernelspec": {
   "display_name": "Python 3",
   "language": "python",
   "name": "python3"
  },
  "language_info": {
   "codemirror_mode": {
    "name": "ipython",
    "version": 3
   },
   "file_extension": ".py",
   "mimetype": "text/x-python",
   "name": "python",
   "nbconvert_exporter": "python",
   "pygments_lexer": "ipython3",
   "version": "3.8.3"
  }
 },
 "nbformat": 4,
 "nbformat_minor": 2
}
