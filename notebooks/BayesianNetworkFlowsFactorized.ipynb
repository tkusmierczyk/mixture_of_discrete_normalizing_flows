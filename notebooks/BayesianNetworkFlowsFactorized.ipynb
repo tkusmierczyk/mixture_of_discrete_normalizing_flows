{
 "cells": [
  {
   "cell_type": "markdown",
   "metadata": {},
   "source": [
    "# Variational Learning of Posteriors for Discrete Bayesian Networks using Mixture of Discrete Normalizing Flows (assumes factorized posteriors)"
   ]
  },
  {
   "cell_type": "markdown",
   "metadata": {},
   "source": [
    "A Bayes network (BN) represents a joint distribution of random variables factorized according to a directed\n",
    "acyclic graph (DAG) that determines their conditional independence. For BNs with latent nodes determining their joint posterior is difficult even if the structure is known. For sufficiently small networks the true posterior can be evaluated by direct enumeration of all configurations, with exponential cost in the number of latent nodes. We use this as ground truth, and compare against approximated posteriors represented with MDNF."
   ]
  },
  {
   "cell_type": "markdown",
   "metadata": {},
   "source": [
    "## Imports"
   ]
  },
  {
   "cell_type": "code",
   "execution_count": 1,
   "metadata": {},
   "outputs": [],
   "source": [
    "#!pip install pgmpy==0.1.10"
   ]
  },
  {
   "cell_type": "code",
   "execution_count": 2,
   "metadata": {},
   "outputs": [],
   "source": [
    "import tensorflow as tf\n",
    "import numpy as np\n",
    "import pandas as pd\n",
    "\n",
    "import copy\n",
    "import time\n",
    "\n",
    "import gc"
   ]
  },
  {
   "cell_type": "code",
   "execution_count": 3,
   "metadata": {},
   "outputs": [],
   "source": [
    "import sys\n",
    "sys.path.append('../mdnf')"
   ]
  },
  {
   "cell_type": "code",
   "execution_count": 4,
   "metadata": {},
   "outputs": [
    {
     "name": "stderr",
     "output_type": "stream",
     "text": [
      " WARNING: Failed to import Edward2! Certain flow types may be not available! \n"
     ]
    }
   ],
   "source": [
    "import aux\n",
    "import time_profiling\n",
    "\n",
    "import base_constructors\n",
    "import flows_mixture\n",
    "import flows\n",
    "import prob_recovery\n",
    "import bayesian_networks\n",
    "import inference"
   ]
  },
  {
   "cell_type": "code",
   "execution_count": 5,
   "metadata": {},
   "outputs": [],
   "source": [
    "import logging\n",
    "logger = logging.getLogger(__name__)\n",
    "logging.basicConfig(level=logging.INFO, format='%(relativeCreated)6d %(message)s')"
   ]
  },
  {
   "cell_type": "code",
   "execution_count": 6,
   "metadata": {},
   "outputs": [
    {
     "name": "stderr",
     "output_type": "stream",
     "text": [
      "  4904 TF version=2.3.0\n"
     ]
    }
   ],
   "source": [
    "logger.info(\"TF version=%s\" % tf.__version__)"
   ]
  },
  {
   "cell_type": "markdown",
   "metadata": {},
   "source": [
    "## Configuration"
   ]
  },
  {
   "cell_type": "code",
   "execution_count": 7,
   "metadata": {},
   "outputs": [
    {
     "name": "stderr",
     "output_type": "stream",
     "text": [
      "  4909 parsing: <-f>\n"
     ]
    }
   ],
   "source": [
    "# can be run as a script with args in format KEY=VAL,KEY=[STRVAL],...\n",
    "args = aux.parse_script_args() "
   ]
  },
  {
   "cell_type": "code",
   "execution_count": 8,
   "metadata": {},
   "outputs": [
    {
     "name": "stderr",
     "output_type": "stream",
     "text": [
      "  4919 Results output file: BN_AVI_bnets_earthquake_p_01_100_0.csv\n"
     ]
    }
   ],
   "source": [
    "SEED = args.get(\"SEED\", 0) # fix randomness\n",
    "\n",
    "# MODEL = args.get(\"MODEL\", \"bnets/cancer.bif\")\n",
    "# EVIDENCE = args.get(\"EVIDENCE\", \"Cancer-True\")\n",
    "MODEL = args.get(\"MODEL\", \"bnets/earthquake.bif\")\n",
    "EVIDENCE = args.get(\"EVIDENCE\", \"MaryCalls-True\")\n",
    "#MODEL = args.get(\"MODEL\", \"bnets/asia.bif\")\n",
    "# EVIDENCE = args.get(\"EVIDENCE\", \"asia-yes/xray-yes\")\n",
    "#MODEL = args.get(\"MODEL\", \"bnets/sachs.bif\")\n",
    "#EVIDENCE = args.get(\"EVIDENCE\", \"Akt-LOW\")\n",
    "# MODEL = args.get(\"MODEL\", \"bnets/hepar2.bif\")\n",
    "# EVIDENCE = args.get(\"EVIDENCE\", \"carcinoma-present\")\n",
    "\n",
    "EVIDENCE = aux.parse_dict(EVIDENCE, entries_separator=\"/\", key2val_separator=\"-\")  \n",
    "\n",
    "# see create_base_mixture in base_constructors.py for options\n",
    "BASE_SPECIFICATION = args.get(\"BASE_SPECIFICATION\", \"p\") \n",
    "B = args.get(\"B\", 100) # how many flows in mixture\n",
    "FLOW_TYPE = args.get(\"FLOW_TYPE\", \"F\") # transformation type\n",
    "\n",
    "# structure of transformation network\n",
    "HIDDEN_LAYERS = args.get(\"HIDDEN_LAYERS\", 1) \n",
    "HIDDEN_NODES_PER_VARIABLE = args.get(\"HIDDEN_NODES_PER_VARIABLE\", 1)\n",
    "\n",
    "INFERENCE = args.get(\"INFERENCE\", 0) # 0=VIF, 1=BVIF/BVI\n",
    "TRAIN_FLOWS = bool(args.get(\"TRAIN_FLOWS\", 1)) # if 0 only weights will be trained (= BVI)\n",
    "\n",
    "OPTIMIZER = args.get(\"OPTIMIZER\", \"RMS\").upper()\n",
    "LR = args.get(\"LR\", 0.01)\n",
    "\n",
    "# IGNORED (used only if weights are optimized separately)\n",
    "LR2 = args.get(\"LR2\", 0.1) \n",
    "SWITCH_NITER = args.get(\"SWITCH_NITER\", 40) \n",
    "\n",
    "NSAMPLES = args.get(\"NSAMPLES\", 100) # how many samples to estimate ELBO\n",
    "MAX_NITER = args.get(\"MAX_NITER\", 10000) \n",
    "NOIMPROV_NITER = args.get(\"NOIMPROV_NITER\", 1000) # stop if no improvement seen in niters\n",
    "\n",
    "# temperature settings\n",
    "BASE_TEMP = args.get(\"BASE_TEMP\", 10.0) \n",
    "ANNEAL_RATE = args.get(\"ANNEAL_RATE\", 0.01)\n",
    "MIN_TEMP = args.get(\"MIN_TEMP\", 0.001)\n",
    "\n",
    "# where to save results\n",
    "OUT = args.get(\"OUT\", \"BN_AVI_%s_%s_%s%s_%s_%s.csv\" % \\\n",
    "               (MODEL.replace(\"/\", \"_\").replace(\".bif\", \"\"), BASE_SPECIFICATION, \n",
    "                INFERENCE, int(TRAIN_FLOWS), B, SEED))\n",
    "logger.info(\"Results output file: %s\" % OUT)"
   ]
  },
  {
   "cell_type": "code",
   "execution_count": 9,
   "metadata": {},
   "outputs": [
    {
     "name": "stderr",
     "output_type": "stream",
     "text": [
      "  4925 CONFIGURATION:\n",
      " MODEL=bnets/earthquake.bif\n",
      " EVIDENCE=MaryCalls=True\n",
      " SEED=0\n",
      " BASE_SPECIFICATION=p\n",
      " B=100\n",
      " FLOW_TYPE=F\n",
      " HIDDEN_NODES_PER_VARIABLE=1\n",
      " HIDDEN_LAYERS=1\n",
      " INFERENCE=0\n",
      " TRAIN_FLOWS=1\n",
      " OPTIMIZER=RMS\n",
      " LR=0.01\n",
      " LR2=0.1\n",
      " NSAMPLES=100\n",
      " MAX_NITER=10000\n",
      " NOIMPROV_NITER=1000\n",
      " SWITCH_NITER=40\n",
      " BASE_TEMP=10.0\n",
      " ANNEAL_RATE=0.01\n",
      " MIN_TEMP=0.001\n"
     ]
    }
   ],
   "source": [
    "# Store & print configuration\n",
    "CFG =      [MODEL, \" \".join(\"%s=%s\" % (k,v) for k,v in EVIDENCE.items()), SEED, \n",
    "            BASE_SPECIFICATION, B, FLOW_TYPE, \n",
    "            HIDDEN_NODES_PER_VARIABLE, HIDDEN_LAYERS,\n",
    "            int(INFERENCE), int(TRAIN_FLOWS),\n",
    "            OPTIMIZER, LR, LR2, \n",
    "            NSAMPLES, MAX_NITER, NOIMPROV_NITER, SWITCH_NITER,\n",
    "            BASE_TEMP, ANNEAL_RATE, MIN_TEMP]\n",
    "CFGNAMES = [\"MODEL\", \"EVIDENCE\", \"SEED\", \n",
    "            \"BASE_SPECIFICATION\", \"B\", \"FLOW_TYPE\", \n",
    "            \"HIDDEN_NODES_PER_VARIABLE\", \"HIDDEN_LAYERS\",\n",
    "            \"INFERENCE\", \"TRAIN_FLOWS\",\n",
    "            \"OPTIMIZER\", \"LR\", \"LR2\", \n",
    "            \"NSAMPLES\", \"MAX_NITER\", \"NOIMPROV_NITER\", \"SWITCH_NITER\",\n",
    "            \"BASE_TEMP\", \"ANNEAL_RATE\", \"MIN_TEMP\"]\n",
    "\n",
    "logger.info(\"CONFIGURATION:\\n \"+\"\\n \".join(\"%s=%s\" % (name, val) \n",
    "                                     for name, val in zip(CFGNAMES, CFG)) )"
   ]
  },
  {
   "cell_type": "markdown",
   "metadata": {},
   "source": [
    "## Network & evidence"
   ]
  },
  {
   "cell_type": "markdown",
   "metadata": {},
   "source": [
    "Load Bayesian network and fix evidence."
   ]
  },
  {
   "cell_type": "code",
   "execution_count": 10,
   "metadata": {},
   "outputs": [
    {
     "name": "stderr",
     "output_type": "stream",
     "text": [
      "  6118 +--------------+------------------+-------------------+------------------+-------------------+\n",
      "| Burglary     | Burglary(True)   | Burglary(True)    | Burglary(False)  | Burglary(False)   |\n",
      "+--------------+------------------+-------------------+------------------+-------------------+\n",
      "| Earthquake   | Earthquake(True) | Earthquake(False) | Earthquake(True) | Earthquake(False) |\n",
      "+--------------+------------------+-------------------+------------------+-------------------+\n",
      "| Alarm(True)  | 0.95             | 0.94              | 0.29             | 0.001             |\n",
      "+--------------+------------------+-------------------+------------------+-------------------+\n",
      "| Alarm(False) | 0.05             | 0.06              | 0.71             | 0.999             |\n",
      "+--------------+------------------+-------------------+------------------+-------------------+\n",
      "  6120 +-----------------+------+\n",
      "| Burglary(True)  | 0.01 |\n",
      "+-----------------+------+\n",
      "| Burglary(False) | 0.99 |\n",
      "+-----------------+------+\n",
      "  6121 +-------------------+------+\n",
      "| Earthquake(True)  | 0.02 |\n",
      "+-------------------+------+\n",
      "| Earthquake(False) | 0.98 |\n",
      "+-------------------+------+\n",
      "  6121 +------------------+-------------+--------------+\n",
      "| Alarm            | Alarm(True) | Alarm(False) |\n",
      "+------------------+-------------+--------------+\n",
      "| JohnCalls(True)  | 0.9         | 0.05         |\n",
      "+------------------+-------------+--------------+\n",
      "| JohnCalls(False) | 0.1         | 0.95         |\n",
      "+------------------+-------------+--------------+\n",
      "  6122 +------------------+-------------+--------------+\n",
      "| Alarm            | Alarm(True) | Alarm(False) |\n",
      "+------------------+-------------+--------------+\n",
      "| MaryCalls(True)  | 0.7         | 0.01         |\n",
      "+------------------+-------------+--------------+\n",
      "| MaryCalls(False) | 0.3         | 0.99         |\n",
      "+------------------+-------------+--------------+\n",
      "  6123 [BayesianNetworkVI] 5 vars with max cardinality=2 => enumeration size=32\n"
     ]
    }
   ],
   "source": [
    "net = bayesian_networks.BayesianNetworkVI(EVIDENCE, MODEL)"
   ]
  },
  {
   "cell_type": "markdown",
   "metadata": {},
   "source": [
    "Model joint log-probability evaluation with the network\n"
   ]
  },
  {
   "cell_type": "code",
   "execution_count": 11,
   "metadata": {},
   "outputs": [],
   "source": [
    "log_prob = lambda sample: net.log_prob( net.set_evidence(sample) )"
   ]
  },
  {
   "cell_type": "markdown",
   "metadata": {},
   "source": [
    "If possible obtain posterior by enumeration"
   ]
  },
  {
   "cell_type": "code",
   "execution_count": 12,
   "metadata": {},
   "outputs": [],
   "source": [
    "if net.enumeration_size < 10e6:\n",
    "    positions, probs = net.posteriors_via_enumeration()\n",
    "    TARGET = bayesian_networks.as_tensor(positions, probs)\n",
    "else:\n",
    "    TARGET = None"
   ]
  },
  {
   "cell_type": "markdown",
   "metadata": {},
   "source": [
    "## Recording configuration & results"
   ]
  },
  {
   "cell_type": "code",
   "execution_count": 13,
   "metadata": {},
   "outputs": [],
   "source": [
    "RESULTS = []\n",
    "\n",
    "# what to put into results    \n",
    "COLS = [\"wall_time\", \"time\", \"time_forward\", \"time_backward\",\n",
    "        \"C\", \"iteration\", \"temp\", \"loss\", \"kl1\", \"best_loss\", \"best_kl\", \"kl2\", \"kl1_samples\", \"kl2_samples\"]   "
   ]
  },
  {
   "cell_type": "code",
   "execution_count": 14,
   "metadata": {},
   "outputs": [],
   "source": [
    "def _store_results(RESULTS, COLS, CFG, CFGNAMES, OUT):\n",
    "    results_pd = pd.DataFrame(RESULTS).rename(columns=dict(enumerate(COLS)))\n",
    "    for name, val in zip(CFGNAMES, CFG):\n",
    "        results_pd[name] = str(val)\n",
    "\n",
    "    logger.info(\"Writing %i data rows to: %s\" % (len(RESULTS), OUT))\n",
    "    results_pd.to_csv(OUT, header=True, index=False)    "
   ]
  },
  {
   "cell_type": "code",
   "execution_count": 15,
   "metadata": {},
   "outputs": [],
   "source": [
    "start_time = time.time()\n",
    "best_loss, best_kl = float(\"inf\"), float(\"inf\")\n",
    "\n",
    "def record_status(status, iteration, loss): # callback function\n",
    "    global best_loss, best_kl    \n",
    "    improved = loss < best_loss    \n",
    "    if not (improved or iteration<10 or iteration%50==0 or (iteration<50 and iteration%10==0)): return \n",
    "    \n",
    "    # fast evaluation using flows\n",
    "    kl, kl2, _ = prob_recovery.kl_divergences(status.base, status.flow, TARGET)    \n",
    "    \n",
    "    # sanity check: compare against KL evaluated from samples (very slow)\n",
    "    if iteration%1000==0 and iteration>0:\n",
    "        EPS = 1e-31\n",
    "        flow_output_probs = prob_recovery.recover_prob_array_flow_samples(flow, base, nsamples=max(100000, 5*K**N))\n",
    "        kl11 =  np.sum(flow_output_probs * (np.log(flow_output_probs+EPS)-np.log(TARGET+EPS)))\n",
    "        kl12 = np.sum(TARGET * (-np.log(flow_output_probs+EPS)+np.log(TARGET+EPS)))   \n",
    "    else:\n",
    "        kl11, kl12 = None, None\n",
    "    \n",
    "    if improved: best_loss, best_kl = loss, kl\n",
    "    \n",
    "    try: C = status.C\n",
    "    except: C = \"\"\n",
    "    temp = status.flow.temperature\n",
    "    logger.info((\"[%.0fs](%s) %s:%i. loss=%.3f \" +\n",
    "           \"kl=%.2f~=%s (best: %.3f/%.2f) kl2=%.2f~=%s temp=%.4f\\n\\tmixing=%s\") % \\\n",
    "          (time.time() - start_time, (\"*\" if improved else \" \"), C, iteration, \n",
    "           loss, kl, kl11, best_loss, best_kl, kl2, kl12,\n",
    "           temp if temp is not None else float(\"nan\"),\n",
    "           str(np.round(status.base.mixing_probs,2))[:200]))\n",
    "    \n",
    "    RESULTS.append((time.time() - start_time,\n",
    "                    status.time_forward + status.time_backward, \n",
    "                    status.time_forward, status.time_backward,\n",
    "                    C, iteration, status.flow.temperature,\n",
    "                    loss, kl, best_loss, best_kl, kl2, kl11, kl12))     "
   ]
  },
  {
   "cell_type": "markdown",
   "metadata": {},
   "source": [
    "## Approximating distribution: set bases and flows"
   ]
  },
  {
   "cell_type": "code",
   "execution_count": 16,
   "metadata": {},
   "outputs": [
    {
     "name": "stderr",
     "output_type": "stream",
     "text": [
      "  6191 N=4 K=2 B=100\n"
     ]
    }
   ],
   "source": [
    "np.random.seed(SEED)\n",
    "tf.random.set_seed(SEED)\n",
    "\n",
    "K = net.cardinality # set automatically\n",
    "N = net.N-len(EVIDENCE) \n",
    "if B is None or B<=0: B = K**N\n",
    "logger.info(\"N=%i K=%i B=%i\" % (N, K, B))"
   ]
  },
  {
   "cell_type": "markdown",
   "metadata": {},
   "source": [
    "Construct bases"
   ]
  },
  {
   "cell_type": "code",
   "execution_count": 17,
   "metadata": {},
   "outputs": [],
   "source": [
    "base = base_constructors.create_categorical_blocks(N, K, B, BASE_SPECIFICATION)\n",
    "\n",
    "for i in range(len(base.components)):\n",
    "    logger.debug(\"base no%s:\\n%s\" % (i, np.round(base.components[i].probs, 3)))\n",
    "    \n",
    "if INFERENCE==0: base.uniform_mask = True "
   ]
  },
  {
   "cell_type": "markdown",
   "metadata": {},
   "source": [
    "Construct flows"
   ]
  },
  {
   "cell_type": "code",
   "execution_count": 18,
   "metadata": {},
   "outputs": [],
   "source": [
    "if not TRAIN_FLOWS:\n",
    "    mixture_flows = [flows.DummyFlow(temperature=BASE_TEMP) for _ in range(B)]     \n",
    "elif FLOW_TYPE in [\"F\", \"FU\"]:\n",
    "    mixture_flows = [flows.DiscreteFlow(N,K, layers=[(FLOW_TYPE, None)]*HIDDEN_LAYERS) \n",
    "                     for _ in range(B)]\n",
    "else:\n",
    "    HIDDEN_NODES = int(N*HIDDEN_NODES_PER_VARIABLE) \n",
    "    mixture_flows = flows.parse_layers_specification([(FLOW_TYPE, [HIDDEN_NODES]*HIDDEN_LAYERS)]*B,\n",
    "                     N, K, temperature=BASE_TEMP)\n",
    "\n",
    "flow = flows_mixture.DiscreteFlowsMixture(N, K, B, flows=mixture_flows)"
   ]
  },
  {
   "cell_type": "code",
   "execution_count": 19,
   "metadata": {},
   "outputs": [
    {
     "name": "stderr",
     "output_type": "stream",
     "text": [
      "<ipython-input-19-7c29efaca35f>:6: DeprecationWarning: The 'warn' method is deprecated, use 'warning' instead\n",
      "  logger.warn(\" Failed: %s -> Skipping...\" % e)\n",
      "  6648  Failed: Outer product currently implemented only for 2D and 3D arrays! -> Skipping...\n"
     ]
    }
   ],
   "source": [
    "try:\n",
    "    for i, d1 in enumerate(base.distributions):\n",
    "        logger.debug(\"probabilities of component no %i:\" % i)\n",
    "        logger.debug(np.round(d1.get_joint_probability_array(), 3))\n",
    "except Exception as e:\n",
    "    logger.warn(\" Failed: %s -> Skipping...\" % e)\n",
    "    pass\n",
    "\n",
    "#logger.info(\"Trainable variables:\\n %s\" % \"\\n \".join([v.name for v in flow.trainable_variables]))"
   ]
  },
  {
   "cell_type": "markdown",
   "metadata": {},
   "source": [
    "# Inference"
   ]
  },
  {
   "cell_type": "code",
   "execution_count": 20,
   "metadata": {},
   "outputs": [],
   "source": [
    "np.random.seed(SEED)\n",
    "tf.random.set_seed(SEED)"
   ]
  },
  {
   "cell_type": "markdown",
   "metadata": {},
   "source": [
    "Create an optimizer:"
   ]
  },
  {
   "cell_type": "code",
   "execution_count": 21,
   "metadata": {},
   "outputs": [
    {
     "name": "stderr",
     "output_type": "stream",
     "text": [
      "  6661 optimizer=<tensorflow.python.keras.optimizer_v2.rmsprop.RMSprop object at 0x7fa7705b5670> optimizer_weights=<tensorflow.python.keras.optimizer_v2.rmsprop.RMSprop object at 0x7fa7705b5850>\n"
     ]
    }
   ],
   "source": [
    "OPTIMIZERS = {\"RMS\": tf.keras.optimizers.RMSprop,\n",
    "              \"ADAM\": tf.keras.optimizers.Adam}\n",
    "if OPTIMIZER not in OPTIMIZERS: raise ValueError(\"Unknown optimizer!\")\n",
    "optimizer_class = OPTIMIZERS[OPTIMIZER]\n",
    "optimizer = optimizer_class(learning_rate=LR)\n",
    "optimizer_weights = optimizer_class(learning_rate=LR2)\n",
    "logger.info(\"optimizer=%s optimizer_weights=%s\" % (optimizer, optimizer_weights))"
   ]
  },
  {
   "cell_type": "code",
   "execution_count": 22,
   "metadata": {},
   "outputs": [
    {
     "name": "stderr",
     "output_type": "stream",
     "text": [
      "  6666 VI inference type: <inference.VariationalInference object at 0x7fa740983910>\n"
     ]
    }
   ],
   "source": [
    "ID2INFERENCE = {\n",
    "    0: inference.VariationalInference,\n",
    "    1: inference.BoostingVariationalInference,\n",
    "    2: inference.IterativeVariationalInference,\n",
    "    3: inference.BoostingVariationalInferenceAltering,\n",
    "    4: inference.BoostingVariationalInferenceAlteringIndep,\n",
    "}\n",
    "inference_class = ID2INFERENCE[INFERENCE]\n",
    "\n",
    "vi = inference_class(log_prob=log_prob, base=base, flow=flow, \n",
    " temperature_annealing=inference.TemperatureAnnealingExp(BASE_TEMP,ANNEAL_RATE,MIN_TEMP),\n",
    " nsamples=NSAMPLES, max_niter=MAX_NITER, noimprov_niter=NOIMPROV_NITER, \n",
    " optimizer=optimizer, optimizer_weights=optimizer_weights, switch_niter=SWITCH_NITER)\n",
    "    \n",
    "logger.info(\"VI inference type: %s\" % vi)    "
   ]
  },
  {
   "cell_type": "code",
   "execution_count": 23,
   "metadata": {},
   "outputs": [
    {
     "name": "stderr",
     "output_type": "stream",
     "text": [
      "  7748 [ERROR][<inference.VariationalInference object at 0x7fa740983910>] Failed to make a copy of base & flow objects: cannot pickle '_thread.RLock' object\n",
      "  7814 [2s](*) :0. loss=7.122 kl=3.26~=None (best: 7.122/3.26) kl2=1.39~=None temp=10.0000\n",
      "\tmixing=[0.01 0.01 0.01 0.01 0.01 0.01 0.01 0.01 0.01 0.01 0.01 0.01 0.01 0.01\n",
      " 0.01 0.01 0.01 0.01 0.01 0.01 0.01 0.01 0.01 0.01 0.01 0.01 0.01 0.01\n",
      " 0.01 0.01 0.01 0.01 0.01 0.01 0.01 0.01 0.01 0.01 0.01 0.\n",
      "  8297 [2s](*) :1. loss=6.786 kl=2.93~=None (best: 6.786/2.93) kl2=1.23~=None temp=9.9005\n",
      "\tmixing=[0.01 0.01 0.01 0.01 0.01 0.01 0.01 0.01 0.01 0.01 0.01 0.01 0.01 0.01\n",
      " 0.01 0.01 0.01 0.01 0.01 0.01 0.01 0.01 0.01 0.01 0.01 0.01 0.01 0.01\n",
      " 0.01 0.01 0.01 0.01 0.01 0.01 0.01 0.01 0.01 0.01 0.01 0.\n",
      "  8844 [3s](*) :2. loss=6.602 kl=2.74~=None (best: 6.602/2.74) kl2=1.19~=None temp=9.8020\n",
      "\tmixing=[0.01 0.01 0.01 0.01 0.01 0.01 0.01 0.01 0.01 0.01 0.01 0.01 0.01 0.01\n",
      " 0.01 0.01 0.01 0.01 0.01 0.01 0.01 0.01 0.01 0.01 0.01 0.01 0.01 0.01\n",
      " 0.01 0.01 0.01 0.01 0.01 0.01 0.01 0.01 0.01 0.01 0.01 0.\n",
      "  9289 [3s](*) :3. loss=6.493 kl=2.64~=None (best: 6.493/2.64) kl2=1.13~=None temp=9.7045\n",
      "\tmixing=[0.01 0.01 0.01 0.01 0.01 0.01 0.01 0.01 0.01 0.01 0.01 0.01 0.01 0.01\n",
      " 0.01 0.01 0.01 0.01 0.01 0.01 0.01 0.01 0.01 0.01 0.01 0.01 0.01 0.01\n",
      " 0.01 0.01 0.01 0.01 0.01 0.01 0.01 0.01 0.01 0.01 0.01 0.\n",
      "  9719 [4s]( ) :4. loss=6.551 kl=2.69~=None (best: 6.493/2.64) kl2=1.11~=None temp=9.6079\n",
      "\tmixing=[0.01 0.01 0.01 0.01 0.01 0.01 0.01 0.01 0.01 0.01 0.01 0.01 0.01 0.01\n",
      " 0.01 0.01 0.01 0.01 0.01 0.01 0.01 0.01 0.01 0.01 0.01 0.01 0.01 0.01\n",
      " 0.01 0.01 0.01 0.01 0.01 0.01 0.01 0.01 0.01 0.01 0.01 0.\n",
      " 10156 [4s](*) :5. loss=6.256 kl=2.40~=None (best: 6.256/2.40) kl2=0.92~=None temp=9.5123\n",
      "\tmixing=[0.01 0.01 0.01 0.01 0.01 0.01 0.01 0.01 0.01 0.01 0.01 0.01 0.01 0.01\n",
      " 0.01 0.01 0.01 0.01 0.01 0.01 0.01 0.01 0.01 0.01 0.01 0.01 0.01 0.01\n",
      " 0.01 0.01 0.01 0.01 0.01 0.01 0.01 0.01 0.01 0.01 0.01 0.\n",
      " 10584 [4s]( ) :6. loss=6.336 kl=2.48~=None (best: 6.256/2.40) kl2=0.95~=None temp=9.4176\n",
      "\tmixing=[0.01 0.01 0.01 0.01 0.01 0.01 0.01 0.01 0.01 0.01 0.01 0.01 0.01 0.01\n",
      " 0.01 0.01 0.01 0.01 0.01 0.01 0.01 0.01 0.01 0.01 0.01 0.01 0.01 0.01\n",
      " 0.01 0.01 0.01 0.01 0.01 0.01 0.01 0.01 0.01 0.01 0.01 0.\n",
      " 11017 [5s](*) :7. loss=6.158 kl=2.30~=None (best: 6.158/2.30) kl2=0.94~=None temp=9.3239\n",
      "\tmixing=[0.01 0.01 0.01 0.01 0.01 0.01 0.01 0.01 0.01 0.01 0.01 0.01 0.01 0.01\n",
      " 0.01 0.01 0.01 0.01 0.01 0.01 0.01 0.01 0.01 0.01 0.01 0.01 0.01 0.01\n",
      " 0.01 0.01 0.01 0.01 0.01 0.01 0.01 0.01 0.01 0.01 0.01 0.\n",
      " 11450 [5s](*) :8. loss=6.053 kl=2.19~=None (best: 6.053/2.19) kl2=0.86~=None temp=9.2312\n",
      "\tmixing=[0.01 0.01 0.01 0.01 0.01 0.01 0.01 0.01 0.01 0.01 0.01 0.01 0.01 0.01\n",
      " 0.01 0.01 0.01 0.01 0.01 0.01 0.01 0.01 0.01 0.01 0.01 0.01 0.01 0.01\n",
      " 0.01 0.01 0.01 0.01 0.01 0.01 0.01 0.01 0.01 0.01 0.01 0.\n",
      " 11889 [6s](*) :9. loss=5.862 kl=2.00~=None (best: 5.862/2.00) kl2=0.75~=None temp=9.1393\n",
      "\tmixing=[0.01 0.01 0.01 0.01 0.01 0.01 0.01 0.01 0.01 0.01 0.01 0.01 0.01 0.01\n",
      " 0.01 0.01 0.01 0.01 0.01 0.01 0.01 0.01 0.01 0.01 0.01 0.01 0.01 0.01\n",
      " 0.01 0.01 0.01 0.01 0.01 0.01 0.01 0.01 0.01 0.01 0.01 0.\n",
      " 12315 [6s]( ) :10. loss=5.877 kl=2.02~=None (best: 5.862/2.00) kl2=0.74~=None temp=9.0484\n",
      "\tmixing=[0.01 0.01 0.01 0.01 0.01 0.01 0.01 0.01 0.01 0.01 0.01 0.01 0.01 0.01\n",
      " 0.01 0.01 0.01 0.01 0.01 0.01 0.01 0.01 0.01 0.01 0.01 0.01 0.01 0.01\n",
      " 0.01 0.01 0.01 0.01 0.01 0.01 0.01 0.01 0.01 0.01 0.01 0.\n",
      " 12757 [7s](*) :11. loss=5.723 kl=1.87~=None (best: 5.723/1.87) kl2=0.74~=None temp=8.9583\n",
      "\tmixing=[0.01 0.01 0.01 0.01 0.01 0.01 0.01 0.01 0.01 0.01 0.01 0.01 0.01 0.01\n",
      " 0.01 0.01 0.01 0.01 0.01 0.01 0.01 0.01 0.01 0.01 0.01 0.01 0.01 0.01\n",
      " 0.01 0.01 0.01 0.01 0.01 0.01 0.01 0.01 0.01 0.01 0.01 0.\n",
      " 13909 [8s](*) :14. loss=5.723 kl=1.87~=None (best: 5.723/1.87) kl2=0.74~=None temp=8.6936\n",
      "\tmixing=[0.01 0.01 0.01 0.01 0.01 0.01 0.01 0.01 0.01 0.01 0.01 0.01 0.01 0.01\n",
      " 0.01 0.01 0.01 0.01 0.01 0.01 0.01 0.01 0.01 0.01 0.01 0.01 0.01 0.01\n",
      " 0.01 0.01 0.01 0.01 0.01 0.01 0.01 0.01 0.01 0.01 0.01 0.\n",
      " 14702 [9s](*) :16. loss=5.688 kl=1.83~=None (best: 5.688/1.83) kl2=0.68~=None temp=8.5214\n",
      "\tmixing=[0.01 0.01 0.01 0.01 0.01 0.01 0.01 0.01 0.01 0.01 0.01 0.01 0.01 0.01\n",
      " 0.01 0.01 0.01 0.01 0.01 0.01 0.01 0.01 0.01 0.01 0.01 0.01 0.01 0.01\n",
      " 0.01 0.01 0.01 0.01 0.01 0.01 0.01 0.01 0.01 0.01 0.01 0.\n",
      " 15137 [9s](*) :17. loss=5.659 kl=1.80~=None (best: 5.659/1.80) kl2=0.68~=None temp=8.4366\n",
      "\tmixing=[0.01 0.01 0.01 0.01 0.01 0.01 0.01 0.01 0.01 0.01 0.01 0.01 0.01 0.01\n",
      " 0.01 0.01 0.01 0.01 0.01 0.01 0.01 0.01 0.01 0.01 0.01 0.01 0.01 0.01\n",
      " 0.01 0.01 0.01 0.01 0.01 0.01 0.01 0.01 0.01 0.01 0.01 0.\n",
      " 15571 [9s](*) :18. loss=5.575 kl=1.72~=None (best: 5.575/1.72) kl2=0.65~=None temp=8.3527\n",
      "\tmixing=[0.01 0.01 0.01 0.01 0.01 0.01 0.01 0.01 0.01 0.01 0.01 0.01 0.01 0.01\n",
      " 0.01 0.01 0.01 0.01 0.01 0.01 0.01 0.01 0.01 0.01 0.01 0.01 0.01 0.01\n",
      " 0.01 0.01 0.01 0.01 0.01 0.01 0.01 0.01 0.01 0.01 0.01 0.\n",
      " 16380 [10s](*) :20. loss=5.543 kl=1.69~=None (best: 5.543/1.69) kl2=0.78~=None temp=8.1873\n",
      "\tmixing=[0.01 0.01 0.01 0.01 0.01 0.01 0.01 0.01 0.01 0.01 0.01 0.01 0.01 0.01\n",
      " 0.01 0.01 0.01 0.01 0.01 0.01 0.01 0.01 0.01 0.01 0.01 0.01 0.01 0.01\n",
      " 0.01 0.01 0.01 0.01 0.01 0.01 0.01 0.01 0.01 0.01 0.01 0.\n",
      " 16827 [11s](*) :21. loss=5.495 kl=1.64~=None (best: 5.495/1.64) kl2=0.72~=None temp=8.1058\n",
      "\tmixing=[0.01 0.01 0.01 0.01 0.01 0.01 0.01 0.01 0.01 0.01 0.01 0.01 0.01 0.01\n",
      " 0.01 0.01 0.01 0.01 0.01 0.01 0.01 0.01 0.01 0.01 0.01 0.01 0.01 0.01\n",
      " 0.01 0.01 0.01 0.01 0.01 0.01 0.01 0.01 0.01 0.01 0.01 0.\n",
      " 19215 [13s](*) :27. loss=5.392 kl=1.53~=None (best: 5.392/1.53) kl2=0.56~=None temp=7.6338\n",
      "\tmixing=[0.01 0.01 0.01 0.01 0.01 0.01 0.01 0.01 0.01 0.01 0.01 0.01 0.01 0.01\n",
      " 0.01 0.01 0.01 0.01 0.01 0.01 0.01 0.01 0.01 0.01 0.01 0.01 0.01 0.01\n",
      " 0.01 0.01 0.01 0.01 0.01 0.01 0.01 0.01 0.01 0.01 0.01 0.\n",
      " 20000 [14s](*) :29. loss=5.243 kl=1.39~=None (best: 5.243/1.39) kl2=0.61~=None temp=7.4826\n",
      "\tmixing=[0.01 0.01 0.01 0.01 0.01 0.01 0.01 0.01 0.01 0.01 0.01 0.01 0.01 0.01\n",
      " 0.01 0.01 0.01 0.01 0.01 0.01 0.01 0.01 0.01 0.01 0.01 0.01 0.01 0.01\n",
      " 0.01 0.01 0.01 0.01 0.01 0.01 0.01 0.01 0.01 0.01 0.01 0.\n",
      " 20426 [14s]( ) :30. loss=5.328 kl=1.47~=None (best: 5.243/1.39) kl2=0.60~=None temp=7.4082\n",
      "\tmixing=[0.01 0.01 0.01 0.01 0.01 0.01 0.01 0.01 0.01 0.01 0.01 0.01 0.01 0.01\n",
      " 0.01 0.01 0.01 0.01 0.01 0.01 0.01 0.01 0.01 0.01 0.01 0.01 0.01 0.01\n",
      " 0.01 0.01 0.01 0.01 0.01 0.01 0.01 0.01 0.01 0.01 0.01 0.\n",
      " 21215 [15s](*) :32. loss=5.073 kl=1.22~=None (best: 5.073/1.22) kl2=0.60~=None temp=7.2615\n",
      "\tmixing=[0.01 0.01 0.01 0.01 0.01 0.01 0.01 0.01 0.01 0.01 0.01 0.01 0.01 0.01\n",
      " 0.01 0.01 0.01 0.01 0.01 0.01 0.01 0.01 0.01 0.01 0.01 0.01 0.01 0.01\n",
      " 0.01 0.01 0.01 0.01 0.01 0.01 0.01 0.01 0.01 0.01 0.01 0.\n",
      " 23419 [17s](*) :38. loss=5.043 kl=1.19~=None (best: 5.043/1.19) kl2=0.45~=None temp=6.8386\n",
      "\tmixing=[0.01 0.01 0.01 0.01 0.01 0.01 0.01 0.01 0.01 0.01 0.01 0.01 0.01 0.01\n",
      " 0.01 0.01 0.01 0.01 0.01 0.01 0.01 0.01 0.01 0.01 0.01 0.01 0.01 0.01\n",
      " 0.01 0.01 0.01 0.01 0.01 0.01 0.01 0.01 0.01 0.01 0.01 0.\n",
      " 24197 [18s]( ) :40. loss=5.115 kl=1.26~=None (best: 5.043/1.19) kl2=0.53~=None temp=6.7032\n",
      "\tmixing=[0.01 0.01 0.01 0.01 0.01 0.01 0.01 0.01 0.01 0.01 0.01 0.01 0.01 0.01\n",
      " 0.01 0.01 0.01 0.01 0.01 0.01 0.01 0.01 0.01 0.01 0.01 0.01 0.01 0.01\n",
      " 0.01 0.01 0.01 0.01 0.01 0.01 0.01 0.01 0.01 0.01 0.01 0.\n",
      " 26766 [21s](*) :47. loss=4.979 kl=1.12~=None (best: 4.979/1.12) kl2=0.43~=None temp=6.2500\n",
      "\tmixing=[0.01 0.01 0.01 0.01 0.01 0.01 0.01 0.01 0.01 0.01 0.01 0.01 0.01 0.01\n",
      " 0.01 0.01 0.01 0.01 0.01 0.01 0.01 0.01 0.01 0.01 0.01 0.01 0.01 0.01\n",
      " 0.01 0.01 0.01 0.01 0.01 0.01 0.01 0.01 0.01 0.01 0.01 0.\n",
      " 27198 [21s](*) :48. loss=4.880 kl=1.02~=None (best: 4.880/1.02) kl2=0.37~=None temp=6.1878\n",
      "\tmixing=[0.01 0.01 0.01 0.01 0.01 0.01 0.01 0.01 0.01 0.01 0.01 0.01 0.01 0.01\n",
      " 0.01 0.01 0.01 0.01 0.01 0.01 0.01 0.01 0.01 0.01 0.01 0.01 0.01 0.01\n",
      " 0.01 0.01 0.01 0.01 0.01 0.01 0.01 0.01 0.01 0.01 0.01 0.\n",
      " 27638 [21s](*) :49. loss=4.761 kl=0.90~=None (best: 4.761/0.90) kl2=0.29~=None temp=6.1263\n",
      "\tmixing=[0.01 0.01 0.01 0.01 0.01 0.01 0.01 0.01 0.01 0.01 0.01 0.01 0.01 0.01\n",
      " 0.01 0.01 0.01 0.01 0.01 0.01 0.01 0.01 0.01 0.01 0.01 0.01 0.01 0.01\n",
      " 0.01 0.01 0.01 0.01 0.01 0.01 0.01 0.01 0.01 0.01 0.01 0.\n"
     ]
    },
    {
     "name": "stderr",
     "output_type": "stream",
     "text": [
      " 28062 [22s]( ) :50. loss=5.036 kl=1.18~=None (best: 4.761/0.90) kl2=1.01~=None temp=6.0653\n",
      "\tmixing=[0.01 0.01 0.01 0.01 0.01 0.01 0.01 0.01 0.01 0.01 0.01 0.01 0.01 0.01\n",
      " 0.01 0.01 0.01 0.01 0.01 0.01 0.01 0.01 0.01 0.01 0.01 0.01 0.01 0.01\n",
      " 0.01 0.01 0.01 0.01 0.01 0.01 0.01 0.01 0.01 0.01 0.01 0.\n",
      " 46176 [40s]( ) :100. loss=5.389 kl=1.53~=None (best: 4.761/0.90) kl2=0.39~=None temp=3.6788\n",
      "\tmixing=[0.01 0.01 0.01 0.01 0.01 0.01 0.01 0.01 0.01 0.01 0.01 0.01 0.01 0.01\n",
      " 0.01 0.01 0.01 0.01 0.01 0.01 0.01 0.01 0.01 0.01 0.01 0.01 0.01 0.01\n",
      " 0.01 0.01 0.01 0.01 0.01 0.01 0.01 0.01 0.01 0.01 0.01 0.\n",
      " 64102 [58s]( ) :150. loss=7.291 kl=3.43~=None (best: 4.761/0.90) kl2=1.62~=None temp=2.2313\n",
      "\tmixing=[0.01 0.01 0.01 0.01 0.01 0.01 0.01 0.01 0.01 0.01 0.01 0.01 0.01 0.01\n",
      " 0.01 0.01 0.01 0.01 0.01 0.01 0.01 0.01 0.01 0.01 0.01 0.01 0.01 0.01\n",
      " 0.01 0.01 0.01 0.01 0.01 0.01 0.01 0.01 0.01 0.01 0.01 0.\n",
      " 82172 [76s]( ) :200. loss=7.882 kl=4.02~=None (best: 4.761/0.90) kl2=7.69~=None temp=1.3534\n",
      "\tmixing=[0.01 0.01 0.01 0.01 0.01 0.01 0.01 0.01 0.01 0.01 0.01 0.01 0.01 0.01\n",
      " 0.01 0.01 0.01 0.01 0.01 0.01 0.01 0.01 0.01 0.01 0.01 0.01 0.01 0.01\n",
      " 0.01 0.01 0.01 0.01 0.01 0.01 0.01 0.01 0.01 0.01 0.01 0.\n",
      "100510 [94s]( ) :250. loss=8.241 kl=4.38~=None (best: 4.761/0.90) kl2=8.32~=None temp=0.8209\n",
      "\tmixing=[0.01 0.01 0.01 0.01 0.01 0.01 0.01 0.01 0.01 0.01 0.01 0.01 0.01 0.01\n",
      " 0.01 0.01 0.01 0.01 0.01 0.01 0.01 0.01 0.01 0.01 0.01 0.01 0.01 0.01\n",
      " 0.01 0.01 0.01 0.01 0.01 0.01 0.01 0.01 0.01 0.01 0.01 0.\n",
      "118726 [113s]( ) :300. loss=8.723 kl=4.87~=None (best: 4.761/0.90) kl2=8.38~=None temp=0.4979\n",
      "\tmixing=[0.01 0.01 0.01 0.01 0.01 0.01 0.01 0.01 0.01 0.01 0.01 0.01 0.01 0.01\n",
      " 0.01 0.01 0.01 0.01 0.01 0.01 0.01 0.01 0.01 0.01 0.01 0.01 0.01 0.01\n",
      " 0.01 0.01 0.01 0.01 0.01 0.01 0.01 0.01 0.01 0.01 0.01 0.\n",
      "136937 [131s]( ) :350. loss=8.892 kl=5.03~=None (best: 4.761/0.90) kl2=8.49~=None temp=0.3020\n",
      "\tmixing=[0.01 0.01 0.01 0.01 0.01 0.01 0.01 0.01 0.01 0.01 0.01 0.01 0.01 0.01\n",
      " 0.01 0.01 0.01 0.01 0.01 0.01 0.01 0.01 0.01 0.01 0.01 0.01 0.01 0.01\n",
      " 0.01 0.01 0.01 0.01 0.01 0.01 0.01 0.01 0.01 0.01 0.01 0.\n",
      "155246 [149s]( ) :400. loss=8.681 kl=4.82~=None (best: 4.761/0.90) kl2=8.52~=None temp=0.1832\n",
      "\tmixing=[0.01 0.01 0.01 0.01 0.01 0.01 0.01 0.01 0.01 0.01 0.01 0.01 0.01 0.01\n",
      " 0.01 0.01 0.01 0.01 0.01 0.01 0.01 0.01 0.01 0.01 0.01 0.01 0.01 0.01\n",
      " 0.01 0.01 0.01 0.01 0.01 0.01 0.01 0.01 0.01 0.01 0.01 0.\n",
      "173451 [167s]( ) :450. loss=8.494 kl=4.64~=None (best: 4.761/0.90) kl2=8.50~=None temp=0.1111\n",
      "\tmixing=[0.01 0.01 0.01 0.01 0.01 0.01 0.01 0.01 0.01 0.01 0.01 0.01 0.01 0.01\n",
      " 0.01 0.01 0.01 0.01 0.01 0.01 0.01 0.01 0.01 0.01 0.01 0.01 0.01 0.01\n",
      " 0.01 0.01 0.01 0.01 0.01 0.01 0.01 0.01 0.01 0.01 0.01 0.\n",
      "191541 [185s]( ) :500. loss=9.095 kl=5.24~=None (best: 4.761/0.90) kl2=8.73~=None temp=0.0674\n",
      "\tmixing=[0.01 0.01 0.01 0.01 0.01 0.01 0.01 0.01 0.01 0.01 0.01 0.01 0.01 0.01\n",
      " 0.01 0.01 0.01 0.01 0.01 0.01 0.01 0.01 0.01 0.01 0.01 0.01 0.01 0.01\n",
      " 0.01 0.01 0.01 0.01 0.01 0.01 0.01 0.01 0.01 0.01 0.01 0.\n",
      "209616 [203s]( ) :550. loss=10.010 kl=6.15~=None (best: 4.761/0.90) kl2=9.02~=None temp=0.0409\n",
      "\tmixing=[0.01 0.01 0.01 0.01 0.01 0.01 0.01 0.01 0.01 0.01 0.01 0.01 0.01 0.01\n",
      " 0.01 0.01 0.01 0.01 0.01 0.01 0.01 0.01 0.01 0.01 0.01 0.01 0.01 0.01\n",
      " 0.01 0.01 0.01 0.01 0.01 0.01 0.01 0.01 0.01 0.01 0.01 0.\n",
      "227464 [221s]( ) :600. loss=9.515 kl=5.66~=None (best: 4.761/0.90) kl2=8.94~=None temp=0.0248\n",
      "\tmixing=[0.01 0.01 0.01 0.01 0.01 0.01 0.01 0.01 0.01 0.01 0.01 0.01 0.01 0.01\n",
      " 0.01 0.01 0.01 0.01 0.01 0.01 0.01 0.01 0.01 0.01 0.01 0.01 0.01 0.01\n",
      " 0.01 0.01 0.01 0.01 0.01 0.01 0.01 0.01 0.01 0.01 0.01 0.\n",
      "245441 [239s]( ) :650. loss=8.861 kl=5.00~=None (best: 4.761/0.90) kl2=9.69~=None temp=0.0150\n",
      "\tmixing=[0.01 0.01 0.01 0.01 0.01 0.01 0.01 0.01 0.01 0.01 0.01 0.01 0.01 0.01\n",
      " 0.01 0.01 0.01 0.01 0.01 0.01 0.01 0.01 0.01 0.01 0.01 0.01 0.01 0.01\n",
      " 0.01 0.01 0.01 0.01 0.01 0.01 0.01 0.01 0.01 0.01 0.01 0.\n",
      "263424 [257s]( ) :700. loss=6.975 kl=3.12~=None (best: 4.761/0.90) kl2=1.01~=None temp=0.0091\n",
      "\tmixing=[0.01 0.01 0.01 0.01 0.01 0.01 0.01 0.01 0.01 0.01 0.01 0.01 0.01 0.01\n",
      " 0.01 0.01 0.01 0.01 0.01 0.01 0.01 0.01 0.01 0.01 0.01 0.01 0.01 0.01\n",
      " 0.01 0.01 0.01 0.01 0.01 0.01 0.01 0.01 0.01 0.01 0.01 0.\n",
      "281811 [276s]( ) :750. loss=4.791 kl=0.93~=None (best: 4.761/0.90) kl2=0.53~=None temp=0.0055\n",
      "\tmixing=[0.01 0.01 0.01 0.01 0.01 0.01 0.01 0.01 0.01 0.01 0.01 0.01 0.01 0.01\n",
      " 0.01 0.01 0.01 0.01 0.01 0.01 0.01 0.01 0.01 0.01 0.01 0.01 0.01 0.01\n",
      " 0.01 0.01 0.01 0.01 0.01 0.01 0.01 0.01 0.01 0.01 0.01 0.\n",
      "282370 [276s](*) :751. loss=4.749 kl=0.89~=None (best: 4.749/0.89) kl2=1.40~=None temp=0.0055\n",
      "\tmixing=[0.01 0.01 0.01 0.01 0.01 0.01 0.01 0.01 0.01 0.01 0.01 0.01 0.01 0.01\n",
      " 0.01 0.01 0.01 0.01 0.01 0.01 0.01 0.01 0.01 0.01 0.01 0.01 0.01 0.01\n",
      " 0.01 0.01 0.01 0.01 0.01 0.01 0.01 0.01 0.01 0.01 0.01 0.\n",
      "282809 [277s](*) :752. loss=4.748 kl=0.89~=None (best: 4.748/0.89) kl2=1.31~=None temp=0.0054\n",
      "\tmixing=[0.01 0.01 0.01 0.01 0.01 0.01 0.01 0.01 0.01 0.01 0.01 0.01 0.01 0.01\n",
      " 0.01 0.01 0.01 0.01 0.01 0.01 0.01 0.01 0.01 0.01 0.01 0.01 0.01 0.01\n",
      " 0.01 0.01 0.01 0.01 0.01 0.01 0.01 0.01 0.01 0.01 0.01 0.\n",
      "283254 [277s](*) :753. loss=4.714 kl=0.86~=None (best: 4.714/0.86) kl2=1.30~=None temp=0.0054\n",
      "\tmixing=[0.01 0.01 0.01 0.01 0.01 0.01 0.01 0.01 0.01 0.01 0.01 0.01 0.01 0.01\n",
      " 0.01 0.01 0.01 0.01 0.01 0.01 0.01 0.01 0.01 0.01 0.01 0.01 0.01 0.01\n",
      " 0.01 0.01 0.01 0.01 0.01 0.01 0.01 0.01 0.01 0.01 0.01 0.\n",
      "283687 [278s](*) :754. loss=4.649 kl=0.79~=None (best: 4.649/0.79) kl2=0.47~=None temp=0.0053\n",
      "\tmixing=[0.01 0.01 0.01 0.01 0.01 0.01 0.01 0.01 0.01 0.01 0.01 0.01 0.01 0.01\n",
      " 0.01 0.01 0.01 0.01 0.01 0.01 0.01 0.01 0.01 0.01 0.01 0.01 0.01 0.01\n",
      " 0.01 0.01 0.01 0.01 0.01 0.01 0.01 0.01 0.01 0.01 0.01 0.\n",
      "284125 [278s](*) :755. loss=4.632 kl=0.77~=None (best: 4.632/0.77) kl2=0.36~=None temp=0.0053\n",
      "\tmixing=[0.01 0.01 0.01 0.01 0.01 0.01 0.01 0.01 0.01 0.01 0.01 0.01 0.01 0.01\n",
      " 0.01 0.01 0.01 0.01 0.01 0.01 0.01 0.01 0.01 0.01 0.01 0.01 0.01 0.01\n",
      " 0.01 0.01 0.01 0.01 0.01 0.01 0.01 0.01 0.01 0.01 0.01 0.\n",
      "284929 [279s](*) :757. loss=4.625 kl=0.77~=None (best: 4.625/0.77) kl2=0.46~=None temp=0.0052\n",
      "\tmixing=[0.01 0.01 0.01 0.01 0.01 0.01 0.01 0.01 0.01 0.01 0.01 0.01 0.01 0.01\n",
      " 0.01 0.01 0.01 0.01 0.01 0.01 0.01 0.01 0.01 0.01 0.01 0.01 0.01 0.01\n",
      " 0.01 0.01 0.01 0.01 0.01 0.01 0.01 0.01 0.01 0.01 0.01 0.\n",
      "285365 [279s](*) :758. loss=4.600 kl=0.74~=None (best: 4.600/0.74) kl2=0.45~=None temp=0.0051\n",
      "\tmixing=[0.01 0.01 0.01 0.01 0.01 0.01 0.01 0.01 0.01 0.01 0.01 0.01 0.01 0.01\n",
      " 0.01 0.01 0.01 0.01 0.01 0.01 0.01 0.01 0.01 0.01 0.01 0.01 0.01 0.01\n",
      " 0.01 0.01 0.01 0.01 0.01 0.01 0.01 0.01 0.01 0.01 0.01 0.\n",
      "285802 [280s](*) :759. loss=4.567 kl=0.71~=None (best: 4.567/0.71) kl2=0.43~=None temp=0.0051\n",
      "\tmixing=[0.01 0.01 0.01 0.01 0.01 0.01 0.01 0.01 0.01 0.01 0.01 0.01 0.01 0.01\n",
      " 0.01 0.01 0.01 0.01 0.01 0.01 0.01 0.01 0.01 0.01 0.01 0.01 0.01 0.01\n",
      " 0.01 0.01 0.01 0.01 0.01 0.01 0.01 0.01 0.01 0.01 0.01 0.\n",
      "286235 [280s](*) :760. loss=4.513 kl=0.66~=None (best: 4.513/0.66) kl2=1.22~=None temp=0.0050\n",
      "\tmixing=[0.01 0.01 0.01 0.01 0.01 0.01 0.01 0.01 0.01 0.01 0.01 0.01 0.01 0.01\n",
      " 0.01 0.01 0.01 0.01 0.01 0.01 0.01 0.01 0.01 0.01 0.01 0.01 0.01 0.01\n",
      " 0.01 0.01 0.01 0.01 0.01 0.01 0.01 0.01 0.01 0.01 0.01 0.\n",
      "286669 [280s](*) :761. loss=4.509 kl=0.65~=None (best: 4.509/0.65) kl2=0.33~=None temp=0.0050\n",
      "\tmixing=[0.01 0.01 0.01 0.01 0.01 0.01 0.01 0.01 0.01 0.01 0.01 0.01 0.01 0.01\n",
      " 0.01 0.01 0.01 0.01 0.01 0.01 0.01 0.01 0.01 0.01 0.01 0.01 0.01 0.01\n",
      " 0.01 0.01 0.01 0.01 0.01 0.01 0.01 0.01 0.01 0.01 0.01 0.\n",
      "287457 [281s](*) :763. loss=4.499 kl=0.64~=None (best: 4.499/0.64) kl2=0.32~=None temp=0.0049\n",
      "\tmixing=[0.01 0.01 0.01 0.01 0.01 0.01 0.01 0.01 0.01 0.01 0.01 0.01 0.01 0.01\n",
      " 0.01 0.01 0.01 0.01 0.01 0.01 0.01 0.01 0.01 0.01 0.01 0.01 0.01 0.01\n",
      " 0.01 0.01 0.01 0.01 0.01 0.01 0.01 0.01 0.01 0.01 0.01 0.\n",
      "288251 [282s](*) :765. loss=4.448 kl=0.59~=None (best: 4.448/0.59) kl2=0.31~=None temp=0.0048\n",
      "\tmixing=[0.01 0.01 0.01 0.01 0.01 0.01 0.01 0.01 0.01 0.01 0.01 0.01 0.01 0.01\n",
      " 0.01 0.01 0.01 0.01 0.01 0.01 0.01 0.01 0.01 0.01 0.01 0.01 0.01 0.01\n",
      " 0.01 0.01 0.01 0.01 0.01 0.01 0.01 0.01 0.01 0.01 0.01 0.\n",
      "288684 [282s](*) :766. loss=4.437 kl=0.58~=None (best: 4.437/0.58) kl2=0.30~=None temp=0.0047\n",
      "\tmixing=[0.01 0.01 0.01 0.01 0.01 0.01 0.01 0.01 0.01 0.01 0.01 0.01 0.01 0.01\n",
      " 0.01 0.01 0.01 0.01 0.01 0.01 0.01 0.01 0.01 0.01 0.01 0.01 0.01 0.01\n",
      " 0.01 0.01 0.01 0.01 0.01 0.01 0.01 0.01 0.01 0.01 0.01 0.\n"
     ]
    },
    {
     "name": "stderr",
     "output_type": "stream",
     "text": [
      "290319 [284s](*) :770. loss=4.436 kl=0.58~=None (best: 4.436/0.58) kl2=0.30~=None temp=0.0045\n",
      "\tmixing=[0.01 0.01 0.01 0.01 0.01 0.01 0.01 0.01 0.01 0.01 0.01 0.01 0.01 0.01\n",
      " 0.01 0.01 0.01 0.01 0.01 0.01 0.01 0.01 0.01 0.01 0.01 0.01 0.01 0.01\n",
      " 0.01 0.01 0.01 0.01 0.01 0.01 0.01 0.01 0.01 0.01 0.01 0.\n",
      "291476 [285s](*) :773. loss=4.431 kl=0.57~=None (best: 4.431/0.57) kl2=0.30~=None temp=0.0044\n",
      "\tmixing=[0.01 0.01 0.01 0.01 0.01 0.01 0.01 0.01 0.01 0.01 0.01 0.01 0.01 0.01\n",
      " 0.01 0.01 0.01 0.01 0.01 0.01 0.01 0.01 0.01 0.01 0.01 0.01 0.01 0.01\n",
      " 0.01 0.01 0.01 0.01 0.01 0.01 0.01 0.01 0.01 0.01 0.01 0.\n",
      "291918 [286s](*) :774. loss=4.392 kl=0.53~=None (best: 4.392/0.53) kl2=0.30~=None temp=0.0044\n",
      "\tmixing=[0.01 0.01 0.01 0.01 0.01 0.01 0.01 0.01 0.01 0.01 0.01 0.01 0.01 0.01\n",
      " 0.01 0.01 0.01 0.01 0.01 0.01 0.01 0.01 0.01 0.01 0.01 0.01 0.01 0.01\n",
      " 0.01 0.01 0.01 0.01 0.01 0.01 0.01 0.01 0.01 0.01 0.01 0.\n",
      "292352 [286s](*) :775. loss=4.390 kl=0.53~=None (best: 4.390/0.53) kl2=0.30~=None temp=0.0043\n",
      "\tmixing=[0.01 0.01 0.01 0.01 0.01 0.01 0.01 0.01 0.01 0.01 0.01 0.01 0.01 0.01\n",
      " 0.01 0.01 0.01 0.01 0.01 0.01 0.01 0.01 0.01 0.01 0.01 0.01 0.01 0.01\n",
      " 0.01 0.01 0.01 0.01 0.01 0.01 0.01 0.01 0.01 0.01 0.01 0.\n",
      "294203 [288s](*) :780. loss=4.390 kl=0.53~=None (best: 4.390/0.53) kl2=0.30~=None temp=0.0041\n",
      "\tmixing=[0.01 0.01 0.01 0.01 0.01 0.01 0.01 0.01 0.01 0.01 0.01 0.01 0.01 0.01\n",
      " 0.01 0.01 0.01 0.01 0.01 0.01 0.01 0.01 0.01 0.01 0.01 0.01 0.01 0.01\n",
      " 0.01 0.01 0.01 0.01 0.01 0.01 0.01 0.01 0.01 0.01 0.01 0.\n",
      "298964 [293s](*) :793. loss=4.380 kl=0.52~=None (best: 4.380/0.52) kl2=0.28~=None temp=0.0036\n",
      "\tmixing=[0.01 0.01 0.01 0.01 0.01 0.01 0.01 0.01 0.01 0.01 0.01 0.01 0.01 0.01\n",
      " 0.01 0.01 0.01 0.01 0.01 0.01 0.01 0.01 0.01 0.01 0.01 0.01 0.01 0.01\n",
      " 0.01 0.01 0.01 0.01 0.01 0.01 0.01 0.01 0.01 0.01 0.01 0.\n",
      "300102 [294s](*) :796. loss=4.364 kl=0.51~=None (best: 4.364/0.51) kl2=0.25~=None temp=0.0035\n",
      "\tmixing=[0.01 0.01 0.01 0.01 0.01 0.01 0.01 0.01 0.01 0.01 0.01 0.01 0.01 0.01\n",
      " 0.01 0.01 0.01 0.01 0.01 0.01 0.01 0.01 0.01 0.01 0.01 0.01 0.01 0.01\n",
      " 0.01 0.01 0.01 0.01 0.01 0.01 0.01 0.01 0.01 0.01 0.01 0.\n",
      "301710 [296s]( ) :800. loss=4.392 kl=0.53~=None (best: 4.364/0.51) kl2=0.29~=None temp=0.0034\n",
      "\tmixing=[0.01 0.01 0.01 0.01 0.01 0.01 0.01 0.01 0.01 0.01 0.01 0.01 0.01 0.01\n",
      " 0.01 0.01 0.01 0.01 0.01 0.01 0.01 0.01 0.01 0.01 0.01 0.01 0.01 0.01\n",
      " 0.01 0.01 0.01 0.01 0.01 0.01 0.01 0.01 0.01 0.01 0.01 0.\n",
      "302502 [296s](*) :802. loss=4.356 kl=0.50~=None (best: 4.356/0.50) kl2=0.29~=None temp=0.0033\n",
      "\tmixing=[0.01 0.01 0.01 0.01 0.01 0.01 0.01 0.01 0.01 0.01 0.01 0.01 0.01 0.01\n",
      " 0.01 0.01 0.01 0.01 0.01 0.01 0.01 0.01 0.01 0.01 0.01 0.01 0.01 0.01\n",
      " 0.01 0.01 0.01 0.01 0.01 0.01 0.01 0.01 0.01 0.01 0.01 0.\n",
      "308870 [303s](*) :819. loss=4.344 kl=0.49~=None (best: 4.344/0.49) kl2=0.24~=None temp=0.0028\n",
      "\tmixing=[0.01 0.01 0.01 0.01 0.01 0.01 0.01 0.01 0.01 0.01 0.01 0.01 0.01 0.01\n",
      " 0.01 0.01 0.01 0.01 0.01 0.01 0.01 0.01 0.01 0.01 0.01 0.01 0.01 0.01\n",
      " 0.01 0.01 0.01 0.01 0.01 0.01 0.01 0.01 0.01 0.01 0.01 0.\n",
      "310396 [304s](*) :823. loss=4.336 kl=0.48~=None (best: 4.336/0.48) kl2=0.22~=None temp=0.0027\n",
      "\tmixing=[0.01 0.01 0.01 0.01 0.01 0.01 0.01 0.01 0.01 0.01 0.01 0.01 0.01 0.01\n",
      " 0.01 0.01 0.01 0.01 0.01 0.01 0.01 0.01 0.01 0.01 0.01 0.01 0.01 0.01\n",
      " 0.01 0.01 0.01 0.01 0.01 0.01 0.01 0.01 0.01 0.01 0.01 0.\n",
      "311909 [306s](*) :827. loss=4.334 kl=0.48~=None (best: 4.334/0.48) kl2=0.22~=None temp=0.0026\n",
      "\tmixing=[0.01 0.01 0.01 0.01 0.01 0.01 0.01 0.01 0.01 0.01 0.01 0.01 0.01 0.01\n",
      " 0.01 0.01 0.01 0.01 0.01 0.01 0.01 0.01 0.01 0.01 0.01 0.01 0.01 0.01\n",
      " 0.01 0.01 0.01 0.01 0.01 0.01 0.01 0.01 0.01 0.01 0.01 0.\n",
      "320259 [314s]( ) :850. loss=4.336 kl=0.48~=None (best: 4.334/0.48) kl2=0.22~=None temp=0.0020\n",
      "\tmixing=[0.01 0.01 0.01 0.01 0.01 0.01 0.01 0.01 0.01 0.01 0.01 0.01 0.01 0.01\n",
      " 0.01 0.01 0.01 0.01 0.01 0.01 0.01 0.01 0.01 0.01 0.01 0.01 0.01 0.01\n",
      " 0.01 0.01 0.01 0.01 0.01 0.01 0.01 0.01 0.01 0.01 0.01 0.\n",
      "338137 [332s]( ) :900. loss=4.336 kl=0.48~=None (best: 4.334/0.48) kl2=0.22~=None temp=0.0012\n",
      "\tmixing=[0.01 0.01 0.01 0.01 0.01 0.01 0.01 0.01 0.01 0.01 0.01 0.01 0.01 0.01\n",
      " 0.01 0.01 0.01 0.01 0.01 0.01 0.01 0.01 0.01 0.01 0.01 0.01 0.01 0.01\n",
      " 0.01 0.01 0.01 0.01 0.01 0.01 0.01 0.01 0.01 0.01 0.01 0.\n",
      "356084 [350s]( ) :950. loss=4.336 kl=0.48~=None (best: 4.334/0.48) kl2=0.22~=None temp=0.0010\n",
      "\tmixing=[0.01 0.01 0.01 0.01 0.01 0.01 0.01 0.01 0.01 0.01 0.01 0.01 0.01 0.01\n",
      " 0.01 0.01 0.01 0.01 0.01 0.01 0.01 0.01 0.01 0.01 0.01 0.01 0.01 0.01\n",
      " 0.01 0.01 0.01 0.01 0.01 0.01 0.01 0.01 0.01 0.01 0.01 0.\n",
      "376538 [370s]( ) :1000. loss=4.336 kl=0.48~=0.4779748514511727 (best: 4.334/0.48) kl2=0.22~=0.23032753802253148 temp=0.0010\n",
      "\tmixing=[0.01 0.01 0.01 0.01 0.01 0.01 0.01 0.01 0.01 0.01 0.01 0.01 0.01 0.01\n",
      " 0.01 0.01 0.01 0.01 0.01 0.01 0.01 0.01 0.01 0.01 0.01 0.01 0.01 0.01\n",
      " 0.01 0.01 0.01 0.01 0.01 0.01 0.01 0.01 0.01 0.01 0.01 0.\n",
      "394788 [389s]( ) :1050. loss=4.336 kl=0.48~=None (best: 4.334/0.48) kl2=0.22~=None temp=0.0010\n",
      "\tmixing=[0.01 0.01 0.01 0.01 0.01 0.01 0.01 0.01 0.01 0.01 0.01 0.01 0.01 0.01\n",
      " 0.01 0.01 0.01 0.01 0.01 0.01 0.01 0.01 0.01 0.01 0.01 0.01 0.01 0.01\n",
      " 0.01 0.01 0.01 0.01 0.01 0.01 0.01 0.01 0.01 0.01 0.01 0.\n",
      "413106 [407s]( ) :1100. loss=4.336 kl=0.48~=None (best: 4.334/0.48) kl2=0.22~=None temp=0.0010\n",
      "\tmixing=[0.01 0.01 0.01 0.01 0.01 0.01 0.01 0.01 0.01 0.01 0.01 0.01 0.01 0.01\n",
      " 0.01 0.01 0.01 0.01 0.01 0.01 0.01 0.01 0.01 0.01 0.01 0.01 0.01 0.01\n",
      " 0.01 0.01 0.01 0.01 0.01 0.01 0.01 0.01 0.01 0.01 0.01 0.\n",
      "431620 [425s]( ) :1150. loss=4.336 kl=0.48~=None (best: 4.334/0.48) kl2=0.22~=None temp=0.0010\n",
      "\tmixing=[0.01 0.01 0.01 0.01 0.01 0.01 0.01 0.01 0.01 0.01 0.01 0.01 0.01 0.01\n",
      " 0.01 0.01 0.01 0.01 0.01 0.01 0.01 0.01 0.01 0.01 0.01 0.01 0.01 0.01\n",
      " 0.01 0.01 0.01 0.01 0.01 0.01 0.01 0.01 0.01 0.01 0.01 0.\n",
      "449573 [443s]( ) :1200. loss=4.336 kl=0.48~=None (best: 4.334/0.48) kl2=0.22~=None temp=0.0010\n",
      "\tmixing=[0.01 0.01 0.01 0.01 0.01 0.01 0.01 0.01 0.01 0.01 0.01 0.01 0.01 0.01\n",
      " 0.01 0.01 0.01 0.01 0.01 0.01 0.01 0.01 0.01 0.01 0.01 0.01 0.01 0.01\n",
      " 0.01 0.01 0.01 0.01 0.01 0.01 0.01 0.01 0.01 0.01 0.01 0.\n",
      "467713 [462s]( ) :1250. loss=4.336 kl=0.48~=None (best: 4.334/0.48) kl2=0.22~=None temp=0.0010\n",
      "\tmixing=[0.01 0.01 0.01 0.01 0.01 0.01 0.01 0.01 0.01 0.01 0.01 0.01 0.01 0.01\n",
      " 0.01 0.01 0.01 0.01 0.01 0.01 0.01 0.01 0.01 0.01 0.01 0.01 0.01 0.01\n",
      " 0.01 0.01 0.01 0.01 0.01 0.01 0.01 0.01 0.01 0.01 0.01 0.\n",
      "485714 [480s]( ) :1300. loss=4.336 kl=0.48~=None (best: 4.334/0.48) kl2=0.22~=None temp=0.0010\n",
      "\tmixing=[0.01 0.01 0.01 0.01 0.01 0.01 0.01 0.01 0.01 0.01 0.01 0.01 0.01 0.01\n",
      " 0.01 0.01 0.01 0.01 0.01 0.01 0.01 0.01 0.01 0.01 0.01 0.01 0.01 0.01\n",
      " 0.01 0.01 0.01 0.01 0.01 0.01 0.01 0.01 0.01 0.01 0.01 0.\n",
      "503787 [498s]( ) :1350. loss=4.336 kl=0.48~=None (best: 4.334/0.48) kl2=0.22~=None temp=0.0010\n",
      "\tmixing=[0.01 0.01 0.01 0.01 0.01 0.01 0.01 0.01 0.01 0.01 0.01 0.01 0.01 0.01\n",
      " 0.01 0.01 0.01 0.01 0.01 0.01 0.01 0.01 0.01 0.01 0.01 0.01 0.01 0.01\n",
      " 0.01 0.01 0.01 0.01 0.01 0.01 0.01 0.01 0.01 0.01 0.01 0.\n",
      "521874 [516s]( ) :1400. loss=4.336 kl=0.48~=None (best: 4.334/0.48) kl2=0.22~=None temp=0.0010\n",
      "\tmixing=[0.01 0.01 0.01 0.01 0.01 0.01 0.01 0.01 0.01 0.01 0.01 0.01 0.01 0.01\n",
      " 0.01 0.01 0.01 0.01 0.01 0.01 0.01 0.01 0.01 0.01 0.01 0.01 0.01 0.01\n",
      " 0.01 0.01 0.01 0.01 0.01 0.01 0.01 0.01 0.01 0.01 0.01 0.\n",
      "540020 [534s]( ) :1450. loss=4.336 kl=0.48~=None (best: 4.334/0.48) kl2=0.22~=None temp=0.0010\n",
      "\tmixing=[0.01 0.01 0.01 0.01 0.01 0.01 0.01 0.01 0.01 0.01 0.01 0.01 0.01 0.01\n",
      " 0.01 0.01 0.01 0.01 0.01 0.01 0.01 0.01 0.01 0.01 0.01 0.01 0.01 0.01\n",
      " 0.01 0.01 0.01 0.01 0.01 0.01 0.01 0.01 0.01 0.01 0.01 0.\n",
      "558232 [552s]( ) :1500. loss=4.336 kl=0.48~=None (best: 4.334/0.48) kl2=0.22~=None temp=0.0010\n",
      "\tmixing=[0.01 0.01 0.01 0.01 0.01 0.01 0.01 0.01 0.01 0.01 0.01 0.01 0.01 0.01\n",
      " 0.01 0.01 0.01 0.01 0.01 0.01 0.01 0.01 0.01 0.01 0.01 0.01 0.01 0.01\n",
      " 0.01 0.01 0.01 0.01 0.01 0.01 0.01 0.01 0.01 0.01 0.01 0.\n",
      "576380 [570s]( ) :1550. loss=4.336 kl=0.48~=None (best: 4.334/0.48) kl2=0.22~=None temp=0.0010\n",
      "\tmixing=[0.01 0.01 0.01 0.01 0.01 0.01 0.01 0.01 0.01 0.01 0.01 0.01 0.01 0.01\n",
      " 0.01 0.01 0.01 0.01 0.01 0.01 0.01 0.01 0.01 0.01 0.01 0.01 0.01 0.01\n",
      " 0.01 0.01 0.01 0.01 0.01 0.01 0.01 0.01 0.01 0.01 0.01 0.\n"
     ]
    },
    {
     "name": "stderr",
     "output_type": "stream",
     "text": [
      "594452 [588s]( ) :1600. loss=4.336 kl=0.48~=None (best: 4.334/0.48) kl2=0.22~=None temp=0.0010\n",
      "\tmixing=[0.01 0.01 0.01 0.01 0.01 0.01 0.01 0.01 0.01 0.01 0.01 0.01 0.01 0.01\n",
      " 0.01 0.01 0.01 0.01 0.01 0.01 0.01 0.01 0.01 0.01 0.01 0.01 0.01 0.01\n",
      " 0.01 0.01 0.01 0.01 0.01 0.01 0.01 0.01 0.01 0.01 0.01 0.\n",
      "612450 [606s]( ) :1650. loss=4.336 kl=0.48~=None (best: 4.334/0.48) kl2=0.22~=None temp=0.0010\n",
      "\tmixing=[0.01 0.01 0.01 0.01 0.01 0.01 0.01 0.01 0.01 0.01 0.01 0.01 0.01 0.01\n",
      " 0.01 0.01 0.01 0.01 0.01 0.01 0.01 0.01 0.01 0.01 0.01 0.01 0.01 0.01\n",
      " 0.01 0.01 0.01 0.01 0.01 0.01 0.01 0.01 0.01 0.01 0.01 0.\n",
      "630557 [624s]( ) :1700. loss=4.336 kl=0.48~=None (best: 4.334/0.48) kl2=0.22~=None temp=0.0010\n",
      "\tmixing=[0.01 0.01 0.01 0.01 0.01 0.01 0.01 0.01 0.01 0.01 0.01 0.01 0.01 0.01\n",
      " 0.01 0.01 0.01 0.01 0.01 0.01 0.01 0.01 0.01 0.01 0.01 0.01 0.01 0.01\n",
      " 0.01 0.01 0.01 0.01 0.01 0.01 0.01 0.01 0.01 0.01 0.01 0.\n",
      "648725 [643s]( ) :1750. loss=4.336 kl=0.48~=None (best: 4.334/0.48) kl2=0.22~=None temp=0.0010\n",
      "\tmixing=[0.01 0.01 0.01 0.01 0.01 0.01 0.01 0.01 0.01 0.01 0.01 0.01 0.01 0.01\n",
      " 0.01 0.01 0.01 0.01 0.01 0.01 0.01 0.01 0.01 0.01 0.01 0.01 0.01 0.01\n",
      " 0.01 0.01 0.01 0.01 0.01 0.01 0.01 0.01 0.01 0.01 0.01 0.\n",
      "666863 [661s]( ) :1800. loss=4.336 kl=0.48~=None (best: 4.334/0.48) kl2=0.22~=None temp=0.0010\n",
      "\tmixing=[0.01 0.01 0.01 0.01 0.01 0.01 0.01 0.01 0.01 0.01 0.01 0.01 0.01 0.01\n",
      " 0.01 0.01 0.01 0.01 0.01 0.01 0.01 0.01 0.01 0.01 0.01 0.01 0.01 0.01\n",
      " 0.01 0.01 0.01 0.01 0.01 0.01 0.01 0.01 0.01 0.01 0.01 0.\n",
      "677674 [VariationalInference.fit] No improvement in recent 1000 iterations. Stop.\n"
     ]
    }
   ],
   "source": [
    "total_niters = vi.fit(callback=record_status)"
   ]
  },
  {
   "cell_type": "code",
   "execution_count": 24,
   "metadata": {},
   "outputs": [
    {
     "name": "stderr",
     "output_type": "stream",
     "text": [
      "677687 Writing 87 data rows to: BN_AVI_bnets_earthquake_p_01_100_0.csv\n"
     ]
    }
   ],
   "source": [
    "_store_results(RESULTS, COLS, CFG, CFGNAMES, OUT)"
   ]
  },
  {
   "cell_type": "code",
   "execution_count": 25,
   "metadata": {},
   "outputs": [],
   "source": [
    "# EPS = 1e-31\n",
    "\n",
    "# def kl_divs(flow, base, target, nsamples=100000):\n",
    "#     #sample = q.sample(nsamples)\n",
    "#     #output_probs = prob_recovery.recover_prob_array_tf_one_hot( sample )    \n",
    "#     output_probs = prob_recovery.recover_prob_array_flow_samples(flow, base, nsamples)\n",
    "#     #print(output_probs)\n",
    "    \n",
    "#     kl =  np.sum(output_probs * (np.log(output_probs+EPS)-np.log(target+EPS)))\n",
    "#     kl2 = np.sum(target * (-np.log(output_probs+EPS)+np.log(target+EPS)))        \n",
    "#     return kl, kl2"
   ]
  },
  {
   "cell_type": "code",
   "execution_count": 26,
   "metadata": {},
   "outputs": [],
   "source": [
    "# print( kl_divs(vi.best_flow, vi.best_base, TARGET, 1000000) )"
   ]
  },
  {
   "cell_type": "code",
   "execution_count": 27,
   "metadata": {},
   "outputs": [],
   "source": [
    "# if TARGET is not None:\n",
    "#     base, flow = vi.best_base, vi.best_flow\n",
    "#     kl, kl2, flow_output_probs = prob_recovery.kl_divergences(base, flow, TARGET)\n",
    "#     logger.info(\"kl=%.3f kl2=%.3f\" % (kl, kl2))\n",
    "\n",
    "#     mask=(flow_output_probs+TARGET>1e-6)\n",
    "#     print(np.round(flow_output_probs[mask].reshape(-1), 3), \"\\n\", np.round(TARGET[mask].reshape(-1), 3))"
   ]
  },
  {
   "cell_type": "code",
   "execution_count": 28,
   "metadata": {},
   "outputs": [],
   "source": [
    "## Time measurements\n",
    "# print(time_profiling.get_report())"
   ]
  },
  {
   "cell_type": "code",
   "execution_count": null,
   "metadata": {},
   "outputs": [],
   "source": []
  }
 ],
 "metadata": {
  "kernelspec": {
   "display_name": "Python 3",
   "language": "python",
   "name": "python3"
  },
  "language_info": {
   "codemirror_mode": {
    "name": "ipython",
    "version": 3
   },
   "file_extension": ".py",
   "mimetype": "text/x-python",
   "name": "python",
   "nbconvert_exporter": "python",
   "pygments_lexer": "ipython3",
   "version": "3.8.3"
  }
 },
 "nbformat": 4,
 "nbformat_minor": 2
}
